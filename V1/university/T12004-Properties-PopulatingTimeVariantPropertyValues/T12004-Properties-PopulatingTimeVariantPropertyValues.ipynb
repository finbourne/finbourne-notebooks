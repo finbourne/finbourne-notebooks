{
 "cells": [
  {
   "cell_type": "markdown",
   "id": "e32e01fe",
   "metadata": {
    "slideshow": {
     "slide_type": "slide"
    }
   },
   "source": [
    "<p style=\"font-family: Montserrat; color: #203443; font-weight: bold; font-size: 125%\">What are we going to cover?</p>"
   ]
  },
  {
   "cell_type": "markdown",
   "id": "7abac222",
   "metadata": {
    "slideshow": {
     "slide_type": "fragment"
    }
   },
   "source": [
    "<ul>\n",
    "    <li style=\"color: #ff5200\"><p style=\"font-family: Montserrat; color: #203443\">How can we populate a Time-Variant Property with a value for a given entity e.g. Instrument using the LUSID APIs via the LUSID website?</p></li>\n",
    "</ul>"
   ]
  },
  {
   "cell_type": "markdown",
   "id": "3beb1935",
   "metadata": {
    "slideshow": {
     "slide_type": "fragment"
    }
   },
   "source": [
    "<ul>\n",
    "    <li style=\"color: #ff5200\"><p style=\"font-family: Montserrat; color: #203443\">How can we populate a Time-Variant Property with a value for a given entity e.g. Instrument using the LUSID APIs via the Python SDK?</p></li>\n",
    "</ul>"
   ]
  },
  {
   "cell_type": "markdown",
   "id": "d17b2565",
   "metadata": {
    "slideshow": {
     "slide_type": "slide"
    }
   },
   "source": [
    "<p style=\"font-family: Montserrat; color: #203443; font-weight: bold; font-size: 125%\">Populating Time-Variant Property Values</p>"
   ]
  },
  {
   "cell_type": "code",
   "execution_count": 1,
   "id": "91763411",
   "metadata": {
    "slideshow": {
     "slide_type": "subslide"
    }
   },
   "outputs": [],
   "source": [
    "import pprint\n",
    "\n",
    "import lusid\n",
    "from lusidjam import RefreshingToken\n",
    "\n",
    "api_factory = lusid.utilities.ApiClientFactory(token=RefreshingToken())\n",
    "instruments_api = api_factory.build(lusid.api.InstrumentsApi)"
   ]
  },
  {
   "cell_type": "code",
   "execution_count": null,
   "id": "6d67cb19",
   "metadata": {
    "slideshow": {
     "slide_type": "skip"
    }
   },
   "outputs": [],
   "source": [
    "instruments_api.upsert_instruments(\n",
    "    scope=\"FinbourneUniversity\",\n",
    "    request_body={\n",
    "        \"instr_1\": lusid.InstrumentDefinition(\n",
    "            name=\"MICROSOFT CORP\",\n",
    "            identifiers={\n",
    "                \"Figi\": lusid.InstrumentIdValue(\n",
    "                    value=\"BBG000BPH459\"\n",
    "                )\n",
    "            }\n",
    "        )\n",
    "    }\n",
    ")"
   ]
  },
  {
   "cell_type": "code",
   "execution_count": null,
   "id": "b4e94d74",
   "metadata": {
    "slideshow": {
     "slide_type": "skip"
    }
   },
   "outputs": [],
   "source": [
    "property_definitions_api = api_factory.build(lusid.api.PropertyDefinitionsApi)\n",
    "\n",
    "try:\n",
    "    property_definitions_api.delete_property_definition(\n",
    "        domain=\"Instrument\",\n",
    "        scope=\"FinbourneUniversity\",\n",
    "        code=\"MarketCapitalisation\")\n",
    "except:\n",
    "    pass\n",
    "\n",
    "issuer_prop_definition = property_definitions_api.create_property_definition(\n",
    "    create_property_definition_request=lusid.CreatePropertyDefinitionRequest(\n",
    "        domain=\"Instrument\",\n",
    "        scope=\"FinbourneUniversity\",\n",
    "        code=\"MarketCapitalisation\",\n",
    "        display_name=\"Market Capitalisation\",\n",
    "        property_description=\"The market capitalisation of the instrument\",\n",
    "        data_type_id=lusid.ResourceId(\n",
    "            scope=\"system\",\n",
    "            code=\"currencyAndAmount\"\n",
    "        ),\n",
    "        life_time=\"TimeVariant\",\n",
    "        constraint_style=\"Property\"\n",
    "    )\n",
    ")"
   ]
  },
  {
   "cell_type": "code",
   "execution_count": 2,
   "id": "b7a2faf5",
   "metadata": {
    "slideshow": {
     "slide_type": "subslide"
    }
   },
   "outputs": [
    {
     "name": "stdout",
     "output_type": "stream",
     "text": [
      "{'as_at_date': datetime.datetime(2023, 3, 23, 3, 57, 30, 28590, tzinfo=tzlocal()),\n",
      " 'links': [{'description': 'A link to the LUSID Insights website showing all '\n",
      "                           'logs related to this request',\n",
      "            'href': 'http://demo.lusid.com/app/insights/logs/0HMPB47AI2T2S:00000007',\n",
      "            'method': 'GET',\n",
      "            'relation': 'RequestLogs'}]}\n"
     ]
    }
   ],
   "source": [
    "result_1 = instruments_api.upsert_instruments_properties(\n",
    "    scope=\"FinbourneUniversity\",\n",
    "    upsert_instrument_property_request=[\n",
    "        lusid.UpsertInstrumentPropertyRequest(\n",
    "            identifier_type=\"Figi\",\n",
    "            identifier=\"BBG000BPH459\",\n",
    "            properties=[\n",
    "                lusid.ModelProperty(\n",
    "                    key=\"Instrument/FinbourneUniversity/MarketCapitalisation\",\n",
    "                    value=lusid.PropertyValue(\n",
    "                        metric_value=lusid.MetricValue(\n",
    "                            value=780360000000,\n",
    "                            unit=\"USD\"\n",
    "                        )\n",
    "                    )\n",
    "                )\n",
    "            ]\n",
    "        )\n",
    "    ]\n",
    ")\n",
    "\n",
    "print(result_1)"
   ]
  },
  {
   "cell_type": "markdown",
   "id": "b2fa315a",
   "metadata": {
    "slideshow": {
     "slide_type": "slide"
    }
   },
   "source": [
    "<img src=\"./data/TimeVariantProperties-1.png\" width=\"1200\"/>"
   ]
  },
  {
   "cell_type": "markdown",
   "id": "9a29978b",
   "metadata": {
    "slideshow": {
     "slide_type": "slide"
    }
   },
   "source": [
    "<img src=\"./data/TimeVariantProperties-1-filled.png\" width=\"800\"/>"
   ]
  },
  {
   "cell_type": "code",
   "execution_count": 12,
   "id": "5ccbd5d3",
   "metadata": {
    "slideshow": {
     "slide_type": "subslide"
    }
   },
   "outputs": [
    {
     "name": "stdout",
     "output_type": "stream",
     "text": [
      "{'as_at_date': datetime.datetime(2023, 3, 23, 4, 2, 54, 102105, tzinfo=tzlocal()),\n",
      " 'links': [{'description': 'A link to the LUSID Insights website showing all '\n",
      "                           'logs related to this request',\n",
      "            'href': 'http://demo.lusid.com/app/insights/logs/0HMPB47Q0UD5B:00000008',\n",
      "            'method': 'GET',\n",
      "            'relation': 'RequestLogs'}]}\n"
     ]
    }
   ],
   "source": [
    "result_2 = instruments_api.upsert_instruments_properties(\n",
    "    scope=\"FinbourneUniversity\",\n",
    "    upsert_instrument_property_request=[\n",
    "        lusid.UpsertInstrumentPropertyRequest(\n",
    "            identifier_type=\"Figi\",\n",
    "            identifier=\"BBG000BPH459\",\n",
    "            properties=[\n",
    "                lusid.ModelProperty(\n",
    "                    key=\"Instrument/FinbourneUniversity/MarketCapitalisation\",\n",
    "                    value=lusid.PropertyValue(\n",
    "                        metric_value=lusid.MetricValue(\n",
    "                            value=1200000000000,\n",
    "                            unit=\"USD\"\n",
    "                        )\n",
    "                    ),\n",
    "                    effective_from=\"2020-01-01\"\n",
    "                )\n",
    "            ]\n",
    "        )\n",
    "    ]\n",
    ")\n",
    "\n",
    "print(result_2)"
   ]
  },
  {
   "cell_type": "markdown",
   "id": "5b1ce11f",
   "metadata": {
    "slideshow": {
     "slide_type": "slide"
    }
   },
   "source": [
    "<img src=\"./data/TimeVariantProperties-2.png\" width=\"1200\"/>"
   ]
  },
  {
   "cell_type": "markdown",
   "id": "58f918ea",
   "metadata": {
    "slideshow": {
     "slide_type": "slide"
    }
   },
   "source": [
    "<img src=\"./data/TimeVariantProperties-2-filled.png\" width=\"800\"/>"
   ]
  },
  {
   "cell_type": "code",
   "execution_count": 16,
   "id": "1e8bc2f8",
   "metadata": {
    "slideshow": {
     "slide_type": "subslide"
    }
   },
   "outputs": [
    {
     "name": "stdout",
     "output_type": "stream",
     "text": [
      "{'as_at_date': datetime.datetime(2023, 3, 23, 4, 5, 30, 846289, tzinfo=tzlocal()),\n",
      " 'links': [{'description': 'A link to the LUSID Insights website showing all '\n",
      "                           'logs related to this request',\n",
      "            'href': 'http://demo.lusid.com/app/insights/logs/0HMPB47KUVNU3:00000008',\n",
      "            'method': 'GET',\n",
      "            'relation': 'RequestLogs'}]}\n"
     ]
    }
   ],
   "source": [
    "result_3 = instruments_api.upsert_instruments_properties(\n",
    "    scope=\"FinbourneUniversity\",\n",
    "    upsert_instrument_property_request=[\n",
    "        lusid.UpsertInstrumentPropertyRequest(\n",
    "            identifier_type=\"Figi\",\n",
    "            identifier=\"BBG000BPH459\",\n",
    "            properties=[\n",
    "                lusid.ModelProperty(\n",
    "                    key=\"Instrument/FinbourneUniversity/MarketCapitalisation\",\n",
    "                    value=lusid.PropertyValue(\n",
    "                        metric_value=lusid.MetricValue(\n",
    "                            value=1680000000000,\n",
    "                            unit=\"USD\"\n",
    "                        )\n",
    "                    ),\n",
    "                    effective_from=\"2021-01-01\",\n",
    "                    effective_until=\"2021-12-31\"\n",
    "                )\n",
    "            ]\n",
    "        )\n",
    "    ]\n",
    ")\n",
    "\n",
    "print(result_3)"
   ]
  },
  {
   "cell_type": "markdown",
   "id": "1dbd94de",
   "metadata": {
    "slideshow": {
     "slide_type": "slide"
    }
   },
   "source": [
    "<img src=\"./data/TimeVariantProperties-3.png\" width=\"1200\"/>"
   ]
  },
  {
   "cell_type": "markdown",
   "id": "e59d3ff5",
   "metadata": {
    "slideshow": {
     "slide_type": "slide"
    }
   },
   "source": [
    "<img src=\"./data/TimeVariantProperties-3-filled.png\" width=\"800\"/>"
   ]
  },
  {
   "cell_type": "code",
   "execution_count": 24,
   "id": "cd132bde",
   "metadata": {
    "slideshow": {
     "slide_type": "subslide"
    }
   },
   "outputs": [
    {
     "name": "stdout",
     "output_type": "stream",
     "text": [
      "{'as_at_date': datetime.datetime(2023, 3, 23, 4, 10, 4, 22032, tzinfo=tzlocal()),\n",
      " 'links': [{'description': 'A link to the LUSID Insights website showing all '\n",
      "                           'logs related to this request',\n",
      "            'href': 'http://demo.lusid.com/app/insights/logs/0HMPB486DAAL9:00000017',\n",
      "            'method': 'GET',\n",
      "            'relation': 'RequestLogs'}]}\n"
     ]
    }
   ],
   "source": [
    "instruments_api.upsert_instruments_properties(\n",
    "    scope=\"FinbourneUniversity\",\n",
    "    upsert_instrument_property_request=[\n",
    "        lusid.UpsertInstrumentPropertyRequest(\n",
    "            identifier_type=\"Figi\",\n",
    "            identifier=\"BBG000BPH459\",\n",
    "            properties=[\n",
    "                lusid.ModelProperty(\n",
    "                    key=\"Instrument/FinbourneUniversity/MarketCapitalisation\",\n",
    "                    value=None,\n",
    "                    effective_until=\"2018-12-31\"\n",
    "                )\n",
    "            ]\n",
    "        )\n",
    "    ]\n",
    ")\n",
    "\n",
    "result_4 = instruments_api.upsert_instruments_properties(\n",
    "    scope=\"FinbourneUniversity\",\n",
    "    upsert_instrument_property_request=[\n",
    "        lusid.UpsertInstrumentPropertyRequest(\n",
    "            identifier_type=\"Figi\",\n",
    "            identifier=\"BBG000BPH459\",\n",
    "            properties=[\n",
    "                lusid.ModelProperty(\n",
    "                    key=\"Instrument/FinbourneUniversity/MarketCapitalisation\",\n",
    "                    value=None,\n",
    "                    effective_from=\"2022-01-01\"\n",
    "                )\n",
    "            ]\n",
    "        )\n",
    "    ]\n",
    ")\n",
    "\n",
    "print(result_4)"
   ]
  },
  {
   "cell_type": "markdown",
   "id": "3ffff1e1",
   "metadata": {
    "slideshow": {
     "slide_type": "slide"
    }
   },
   "source": [
    "<img src=\"./data/TimeVariantProperties-4.png\" width=\"1200\"/>"
   ]
  },
  {
   "cell_type": "markdown",
   "id": "1f0f0a75",
   "metadata": {
    "slideshow": {
     "slide_type": "slide"
    }
   },
   "source": [
    "<img src=\"./data/TimeVariantProperties-4-filled.png\" width=\"800\"/>"
   ]
  },
  {
   "cell_type": "code",
   "execution_count": null,
   "id": "a1d05e45",
   "metadata": {
    "slideshow": {
     "slide_type": "skip"
    }
   },
   "outputs": [],
   "source": [
    "property_definitions_api.delete_property_definition(\n",
    "    domain=\"Instrument\",\n",
    "    scope=\"FinbourneUniversity\",\n",
    "    code=\"MarketCapitalisation\")"
   ]
  },
  {
   "cell_type": "markdown",
   "id": "3a30b680",
   "metadata": {
    "slideshow": {
     "slide_type": "slide"
    }
   },
   "source": [
    "<p style=\"font-family: Montserrat; color: #203443; font-weight: bold; font-size: 125%\">What have we covered?</p>"
   ]
  },
  {
   "cell_type": "markdown",
   "id": "627a9d3c",
   "metadata": {
    "slideshow": {
     "slide_type": "subslide"
    }
   },
   "source": [
    "<ul>\n",
    "    <li style=\"color: #ff5200\"><p style=\"font-family: Montserrat; color: #203443\">We populated the Microsoft Equity Instrument with a value for the Time-Variant \"MarketCapitalisation\" Property using the LUSID APIs via the LUSID website.</p></li>\n",
    "</ul>"
   ]
  },
  {
   "cell_type": "markdown",
   "id": "7f5071bd",
   "metadata": {
    "slideshow": {
     "slide_type": "fragment"
    }
   },
   "source": [
    "<ul>\n",
    "    <li style=\"color: #ff5200\"><p style=\"font-family: Montserrat; color: #203443\">We populated the Microsoft Equity Instrument with a value for the Time-Variant \"MarketCapitalisation\" Property using the LUSID APIs via the Python SDK.</p></li>\n",
    "</ul>"
   ]
  }
 ],
 "metadata": {
  "celltoolbar": "Slideshow",
  "kernelspec": {
   "display_name": "Python 3 (ipykernel)",
   "language": "python",
   "name": "python3"
  },
  "language_info": {
   "codemirror_mode": {
    "name": "ipython",
    "version": 3
   },
   "file_extension": ".py",
   "mimetype": "text/x-python",
   "name": "python",
   "nbconvert_exporter": "python",
   "pygments_lexer": "ipython3",
   "version": "3.9.7"
  },
  "toc": {
   "base_numbering": 1,
   "nav_menu": {},
   "number_sections": false,
   "sideBar": true,
   "skip_h1_title": false,
   "title_cell": "Table of Contents",
   "title_sidebar": "Contents",
   "toc_cell": false,
   "toc_position": {},
   "toc_section_display": true,
   "toc_window_display": false
  },
  "varInspector": {
   "cols": {
    "lenName": 16,
    "lenType": 16,
    "lenVar": 40
   },
   "kernels_config": {
    "python": {
     "delete_cmd_postfix": "",
     "delete_cmd_prefix": "del ",
     "library": "var_list.py",
     "varRefreshCmd": "print(var_dic_list())"
    },
    "r": {
     "delete_cmd_postfix": ") ",
     "delete_cmd_prefix": "rm(",
     "library": "var_list.r",
     "varRefreshCmd": "cat(var_dic_list()) "
    }
   },
   "types_to_exclude": [
    "module",
    "function",
    "builtin_function_or_method",
    "instance",
    "_Feature"
   ],
   "window_display": false
  }
 },
 "nbformat": 4,
 "nbformat_minor": 5
}
