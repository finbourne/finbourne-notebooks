{
 "cells": [
  {
   "cell_type": "markdown",
   "id": "8355f5f3f26feb4a",
   "metadata": {},
   "source": [
    "# Identity Logs Endpoint Example\n",
    "\n",
    "This notebook demonstrates how to call the endpoint for retrieving Okta logs via the Identity module.\n",
    "\n",
    "## Setup\n",
    "\n",
    "We'll initialize our Identity `ApiClientFactory` and create an instance of the `IdentityLogsApi`. Make sure your environment variables or equivalent configuration is present and includes an Identity (LUSID) token or credentials.\n",
    "\n"
   ]
  },
  {
   "cell_type": "code",
   "execution_count": null,
   "id": "907e398bac729e73",
   "metadata": {
    "jupyter": {
     "is_executing": true
    }
   },
   "outputs": [],
   "source": [
    "# Import Libraries\n",
    "from datetime import datetime, timedelta\n",
    "from finbourne_identity.exceptions import ApiException\n",
    "from finbourne_identity.extensions.configuration_options import ConfigurationOptions\n",
    "from finbourne_identity.models import *\n",
    "from pprint import pprint\n",
    "from finbourne_identity import (\n",
    "    SyncApiClientFactory,\n",
    "    IdentityLogsApi\n",
    ")\n",
    "# Use the finbourne_identity SyncApiClientFactory to build Api instances with a configured api client\n",
    "# By default this will read config from environment variables\n",
    "# Then from a secrets.json file found in the current working directory\n",
    "api_client_factory = SyncApiClientFactory()\n",
    "\n",
    "# uncomment the below to use configuration overrides\n",
    "# opts = ConfigurationOptions();\n",
    "# opts.total_timeout_ms = 30_000\n",
    "\n",
    "# uncomment the below to use an api client factory with overrides\n",
    "# api_client_factory = SyncApiClientFactory(opts=opts)\n",
    "\n",
    "# Create an instance of the API class\n",
    "api_instance = api_client_factory.build(IdentityLogsApi)\n"
   ]
  },
  {
   "cell_type": "markdown",
   "id": "c97ab8ef836b68c8",
   "metadata": {},
   "source": [
    "## 1. Retrieve Logs without Parameters\n",
    "\n",
    "We can call `get_logs` with no parameters, which will return all logs (up to the server-defined limits or defaults). In practice, you would often filter by date or paginate for performance.\n"
   ]
  },
  {
   "cell_type": "code",
   "execution_count": null,
   "id": "9416a0f7947047db",
   "metadata": {},
   "outputs": [],
   "source": [
    "try:\n",
    "    api_response = api_instance.list_logs()\n",
    "    pprint(api_response)\n",
    "\n",
    "except ApiException as e:\n",
    "    print(\"Exception when calling IdentityLogsApi->list_logs: %s\\n\" % e)\n"
   ]
  },
  {
   "cell_type": "markdown",
   "id": "f2537bf761ca056f",
   "metadata": {},
   "source": [
    "## 2. Retrieve Logs with Date Parameters\n",
    "\n",
    "We can pass in parameters such as `okta_since` and `okta_until` to narrow down the time window. These parameters expect ISO8601 strings.\n",
    "\n",
    "Example curl equivalent:\n",
    "\n",
    "`curl -X GET \"https://<your-domain>.lusid.com/identity/api/logs?oktaSince=2025-03-01T00%3A00%3A00Z&oktaUntil=2025-03-02T00%3A00%3A00Z\"\n",
    "-H \"Authorization: Bearer <your-API-access-token>\"`\n",
    "\n",
    "Below, we replicate this in Python using the Identity SDK."
   ]
  },
  {
   "cell_type": "code",
   "execution_count": null,
   "id": "34e55b02908f4f4c",
   "metadata": {},
   "outputs": [],
   "source": [
    "# Get the logs in the last 2 hours\n",
    "okta_until = datetime.now().isoformat()\n",
    "okta_since = (datetime.now() - timedelta(hours=2)).isoformat()\n",
    "\n",
    "try:\n",
    "    api_response = api_instance.list_logs(okta_since=okta_since, okta_until=okta_until)\n",
    "    pprint(api_response)\n",
    "\n",
    "except ApiException as e:\n",
    "    print(\"Exception when calling IdentityLogsApi->list_logs: %s\\n\" % e)\n"
   ]
  },
  {
   "cell_type": "markdown",
   "id": "0638c887",
   "metadata": {},
   "source": [
    "## 3. Example of retrieving logs using all parameters\n",
    "\n",
    "Below is an example of using the Identity SDK to retrieve logs using all available parameters"
   ]
  },
  {
   "cell_type": "code",
   "execution_count": null,
   "id": "2dec69ff",
   "metadata": {},
   "outputs": [],
   "source": [
    "okta_until = datetime.now().isoformat() # Lower bound of log events published property\n",
    "okta_since = (datetime.now() - timedelta(hours=2)).isoformat() # Upper bound of log events published property\n",
    "okta_filter = 'actor.id pr' # Okta filter expression \n",
    "okta_query = 'AppUser' # Filters log events results by one or more case insensitive keywords\n",
    "okta_limit = 200 # Max number of results returned\n",
    "okta_sort_order = 'ASCENDING' # Order of events by published property. Either ASCENDING or DESCENDING \n",
    "\n",
    "try:\n",
    "    api_response = api_instance.list_logs(okta_since=okta_since, okta_until=okta_until)\n",
    "    pprint(api_response)\n",
    "\n",
    "except ApiException as e:\n",
    "    print(\"Exception when calling IdentityLogsApi->list_logs: %s\\n\" % e)"
   ]
  }
 ],
 "metadata": {
  "kernelspec": {
   "display_name": "Python 3.8.0 64-bit",
   "language": "python",
   "name": "python3"
  },
  "language_info": {
   "codemirror_mode": {
    "name": "ipython",
    "version": 3
   },
   "file_extension": ".py",
   "mimetype": "text/x-python",
   "name": "python",
   "nbconvert_exporter": "python",
   "pygments_lexer": "ipython3",
   "version": "3.8.0"
  },
  "orig_nbformat": 4
 },
 "nbformat": 4,
 "nbformat_minor": 2
}
