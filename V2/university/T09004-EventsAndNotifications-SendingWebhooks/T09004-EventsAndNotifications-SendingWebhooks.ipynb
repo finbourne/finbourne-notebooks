{
 "cells": [
  {
   "cell_type": "code",
   "execution_count": 3,
   "id": "62675678",
   "metadata": {},
   "outputs": [],
   "source": [
    "#Setup\n",
    "import pandas as pd\n",
    "import os\n",
    "\n",
    "pd.set_option(\"display.max_columns\", None)\n",
    "pd.set_option(\"display.max_rows\", None)\n",
    "pd.options.display.float_format = \"{:,.2f}\".format"
   ]
  },
  {
   "cell_type": "markdown",
   "id": "e32e01fe",
   "metadata": {
    "slideshow": {
     "slide_type": "slide"
    }
   },
   "source": [
    "<p style=\"font-family: Open Sans; color: #2B6264; font-weight: bold; font-size: 125%\">What are we going to cover?</p>"
   ]
  },
  {
   "cell_type": "markdown",
   "id": "7abac222",
   "metadata": {
    "slideshow": {
     "slide_type": "fragment"
    }
   },
   "source": [
    "<p style=\"font-family: Open Sans; color: #2B6264\">- How can we create a LUSID webhook notification using the Notifications API via the Python SDK?</p>"
   ]
  },
  {
   "cell_type": "markdown",
   "id": "d5f45274",
   "metadata": {
    "slideshow": {
     "slide_type": "fragment"
    }
   },
   "source": [
    "<p style=\"font-family: Open Sans; color: #2B6264\">- What are our options for content type, authentication etc. when sending webhook notifications?</p>"
   ]
  },
  {
   "cell_type": "markdown",
   "id": "b5b9bdc5",
   "metadata": {
    "slideshow": {
     "slide_type": "fragment"
    }
   },
   "source": [
    "<p style=\"font-family: Open Sans; color: #2B6264\">- How can we create a 3rd party webhook notification using the Notifications API via the Python SDK?</p>"
   ]
  },
  {
   "cell_type": "markdown",
   "id": "1655b9e0",
   "metadata": {
    "slideshow": {
     "slide_type": "slide"
    }
   },
   "source": [
    "<p style=\"font-family: Open Sans; color: #2B6264; font-weight: bold; font-size: 125%\">Creating 3rd Party Webhook Notification - Setup</p>"
   ]
  },
  {
   "cell_type": "code",
   "execution_count": null,
   "id": "7693de78",
   "metadata": {
    "slideshow": {
     "slide_type": "fragment"
    }
   },
   "outputs": [],
   "source": [
    "import lusid_configuration\n",
    "from lusidjam import RefreshingToken\n",
    "from lusid_configuration.extensions import (\n",
    "    SyncApiClientFactory,\n",
    "    ArgsConfigurationLoader,\n",
    "    EnvironmentVariablesConfigurationLoader,\n",
    "    SecretsFileConfigurationLoader\n",
    ")\n",
    "from lusid_configuration.models import *\n",
    "\n",
    "# Authenticate to SDK\n",
    "# Run the Notebook in Jupyterhub for your LUSID domain and authenticate automatically\n",
    "secrets_path = os.getenv(\"FBN_SECRETS_PATH\")\n",
    "api_url_configuration = os.getenv(\"FBN_CONFIGURATION_API_URL\")\n",
    "# Run the Notebook locally using a secrets file (see https://support.lusid.com/docs/how-do-i-use-an-api-access-token-with-the-lusid-sdk)\n",
    "if secrets_path is None:\n",
    "    secrets_path = os.path.join(os.path.dirname(os.getcwd()), \"secrets.json\")\n",
    "\n",
    "# Initiate an API Factory which is the client side object for interacting with LUSID APIs\n",
    "config_loaders_configuration=[\n",
    "    ArgsConfigurationLoader(access_token = RefreshingToken(), app_name = \"LusidJupyterNotebook\", api_url=api_url_configuration),\n",
    "    EnvironmentVariablesConfigurationLoader(),\n",
    "    SecretsFileConfigurationLoader(secrets_path)]\n",
    "api_factory_configuration = lusid_configuration.extensions.SyncApiClientFactory(config_loaders=config_loaders_configuration)\n",
    "\n",
    "configuration_sets_api = api_factory_configuration.build(lusid_configuration.api.ConfigurationSetsApi)\n",
    "display(configuration_sets_api)"
   ]
  },
  {
   "cell_type": "markdown",
   "id": "d93f433d",
   "metadata": {
    "slideshow": {
     "slide_type": "slide"
    }
   },
   "source": [
    "<p style=\"font-family: Open Sans; color: #2B6264; font-weight: bold; font-size: 125%\">Creating a LUSID Webhook Notification</p>"
   ]
  },
  {
   "cell_type": "code",
   "execution_count": null,
   "id": "1e1775bd",
   "metadata": {
    "slideshow": {
     "slide_type": "subslide"
    }
   },
   "outputs": [],
   "source": [
    "import pprint\n",
    "\n",
    "import lusid_notifications\n",
    "from lusidjam import RefreshingToken\n",
    "from lusid_notifications.extensions import (\n",
    "    SyncApiClientFactory,\n",
    "    ArgsConfigurationLoader,\n",
    "    EnvironmentVariablesConfigurationLoader,\n",
    "    SecretsFileConfigurationLoader\n",
    ")\n",
    "from lusid_notifications.models import *\n",
    "\n",
    "api_url_notifications = os.getenv(\"FBN_NOTIFICATIONS_API_URL\")\n",
    "\n",
    "config_loaders_notifications=[\n",
    "    ArgsConfigurationLoader(access_token = RefreshingToken(), app_name = \"LusidJupyterNotebook\", api_url=api_url_notifications),\n",
    "    EnvironmentVariablesConfigurationLoader(),\n",
    "    SecretsFileConfigurationLoader(secrets_path)]\n",
    "api_factory_notifications = lusid_notifications.extensions.SyncApiClientFactory(config_loaders=config_loaders_notifications)\n",
    "\n",
    "notifications_api = api_factory_notifications.build(lusid_notifications.api.NotificationsApi)\n",
    "subscriptions_api = api_factory_notifications.build(lusid_notifications.api.SubscriptionsApi)\n",
    "display(notifications_api)\n",
    "display(subscriptions_api)\n",
    "\n",
    "\n",
    "subscription_scope = \"FinbourneUniversity\"\n",
    "subscription_code = \"AnyPortfolioCreatedv2\""
   ]
  },
  {
   "cell_type": "code",
   "execution_count": 6,
   "id": "7d508326",
   "metadata": {
    "slideshow": {
     "slide_type": "skip"
    }
   },
   "outputs": [],
   "source": [
    "try:\n",
    "    subscriptions_api.get_subscription(\n",
    "        scope=subscription_scope,\n",
    "        code=subscription_code)\n",
    "    \n",
    "    subscriptions_api.delete_subscription(\n",
    "        scope=subscription_scope,\n",
    "        code=subscription_code\n",
    "    )\n",
    "    \n",
    "except lusid_notifications.ApiException as api_exception:\n",
    "    if api_exception.status == 404:\n",
    "        pass\n",
    "    else:\n",
    "        raise"
   ]
  },
  {
   "cell_type": "code",
   "execution_count": null,
   "id": "56395f77",
   "metadata": {
    "slideshow": {
     "slide_type": "subslide"
    }
   },
   "outputs": [],
   "source": [
    "subscriptions_api.create_subscription(\n",
    "    create_subscription=lusid_notifications.CreateSubscription(\n",
    "        id=lusid_notifications.ResourceId(\n",
    "            scope=subscription_scope,\n",
    "            code=subscription_code,\n",
    "        ),\n",
    "        display_name=\"Any Portfolio Created\",\n",
    "        description=\"Listens to all TransactionPortfolioCreated events\",\n",
    "        status=\"Active\",\n",
    "        matching_pattern=lusid_notifications.MatchingPattern(\n",
    "            event_type=\"PortfolioCreated\",\n",
    "            filter=\"Body.portfolioScope eq 'FinbourneUniversity' and Body.portfolioCode startsWith 'NewTradingPortfolio'\"\n",
    "        )\n",
    "    )\n",
    ")"
   ]
  },
  {
   "cell_type": "code",
   "execution_count": null,
   "id": "863dafd4",
   "metadata": {
    "slideshow": {
     "slide_type": "subslide"
    }
   },
   "outputs": [],
   "source": [
    "notifications_api.create_notification(\n",
    "    scope=subscription_scope,\n",
    "    code=subscription_code,\n",
    "    create_notification_request = lusid_notifications.models.CreateNotificationRequest.from_dict(\n",
    "        {\n",
    "            \"notificationId\": \"PortfolioCreatedWebhook\",\n",
    "            \"displayName\": \"PortfolioCreatedWebhook\",\n",
    "            \"description\": \"Portfolio created webhook notification\",\n",
    "            \"notificationType\": {\n",
    "                \"type\": \"Webhook\",\n",
    "                \"httpMethod\": \"POST\",\n",
    "                \"url\": \"/api/api/transactionportfolios/{{Body.portfolioScope}}/{{Body.portfolioCode}}/transactions\",\n",
    "                \"authenticationType\": \"Lusid\",\n",
    "                \"contentType\": \"Json\",\n",
    "                \"content\": [\n",
    "                    {\n",
    "                        \"transactionId\": \"SeedFundsTransactionUSD\",\n",
    "                        \"type\": \"FundsIn\",\n",
    "                        \"instrumentIdentifiers\": {\n",
    "                          \"Instrument/default/Currency\": \"USD\",\n",
    "                        },\n",
    "                        \"transactionDate\": \"2023-02-01T00:00:00Z\",\n",
    "                        \"settlementDate\": \"2023-02-01T00:00:00Z\",\n",
    "                        \"units\": 10000000,\n",
    "                        \"transactionPrice\": {\n",
    "                          \"price\": 1,\n",
    "                          \"type\": \"Price\"\n",
    "                        },\n",
    "                        \"totalConsideration\": {\n",
    "                          \"amount\": 10000000,\n",
    "                          \"currency\": \"USD\"\n",
    "                        },\n",
    "                        \"transactionCurrency\": \"USD\"\n",
    "                    },\n",
    "                    {\n",
    "                        \"transactionId\": \"SeedFundsTransactionGBP\",\n",
    "                        \"type\": \"FundsIn\",\n",
    "                        \"instrumentIdentifiers\": {\n",
    "                          \"Instrument/default/Currency\": \"GBP\",\n",
    "                        },\n",
    "                        \"transactionDate\": \"2023-02-01T00:00:00Z\",\n",
    "                        \"settlementDate\": \"2023-02-01T00:00:00Z\",\n",
    "                        \"units\": 7500000,\n",
    "                        \"transactionPrice\": {\n",
    "                          \"price\": 1,\n",
    "                          \"type\": \"Price\"\n",
    "                        },\n",
    "                        \"totalConsideration\": {\n",
    "                          \"amount\": 7500000,\n",
    "                          \"currency\": \"GBP\"\n",
    "                        },\n",
    "                        \"transactionCurrency\": \"GBP\"\n",
    "                    },\n",
    "                    {\n",
    "                        \"transactionId\": \"SeedFundsTransactionAUD\",\n",
    "                        \"type\": \"FundsIn\",\n",
    "                        \"instrumentIdentifiers\": {\n",
    "                          \"Instrument/default/Currency\": \"AUD\",\n",
    "                        },\n",
    "                        \"transactionDate\": \"2023-02-01T00:00:00Z\",\n",
    "                        \"settlementDate\": \"2023-02-01T00:00:00Z\",\n",
    "                        \"units\": 25000000,\n",
    "                        \"transactionPrice\": {\n",
    "                          \"price\": 1,\n",
    "                          \"type\": \"Price\"\n",
    "                        },\n",
    "                        \"totalConsideration\": {\n",
    "                          \"amount\": 25000000,\n",
    "                          \"currency\": \"AUD\"\n",
    "                        },\n",
    "                        \"transactionCurrency\": \"AUD\"\n",
    "                    }\n",
    "                ]\n",
    "            }\n",
    "        }\n",
    "    )\n",
    ")"
   ]
  },
  {
   "cell_type": "markdown",
   "id": "5e3033bb",
   "metadata": {
    "slideshow": {
     "slide_type": "slide"
    }
   },
   "source": [
    "<p style=\"font-family: Open Sans; color: #2B6264; font-weight: bold; font-size: 125%\">Webhook Options</p>"
   ]
  },
  {
   "cell_type": "markdown",
   "id": "0c3e0f61",
   "metadata": {
    "slideshow": {
     "slide_type": "fragment"
    }
   },
   "source": [
    "<p style=\"font-family: Open Sans; color: #2B6264\">Content Types</p>\n",
    "<ul>\n",
    "    <li style=\"color: #ff5200\"><p style=\"font-family: Open Sans; color: #2B6264\">JSON (application/json)</p></li>\n",
    "    <li style=\"color: #ff5200\"><p style=\"font-family: Open Sans; color: #2B6264\">PlainText (text/plain)</p></li>\n",
    "</ul>"
   ]
  },
  {
   "cell_type": "markdown",
   "id": "2e100af6",
   "metadata": {
    "slideshow": {
     "slide_type": "subslide"
    }
   },
   "source": [
    "<p style=\"font-family: Open Sans; color: #2B6264\">Methods</p>\n",
    "<ul>\n",
    "    <li style=\"color: #ff5200\"><p style=\"font-family: Open Sans; color: #2B6264\">POST</p></li>\n",
    "    <li style=\"color: #ff5200\"><p style=\"font-family: Open Sans; color: #2B6264\">PUT</p></li>\n",
    "    <li style=\"color: #ff5200\"><p style=\"font-family: Open Sans; color: #2B6264\">DELETE</p></li>\n",
    "</ul>"
   ]
  },
  {
   "cell_type": "markdown",
   "id": "1dc9360c",
   "metadata": {
    "slideshow": {
     "slide_type": "subslide"
    }
   },
   "source": [
    "<p style=\"font-family: Open Sans; color: #2B6264\">Authentication Options</p>\n",
    "<ul>\n",
    "    <li style=\"color: #ff5200\"><p style=\"font-family: Open Sans; color: #2B6264\">Lusid</p></li>\n",
    "    <li style=\"color: #ff5200\"><p style=\"font-family: Open Sans; color: #2B6264\">Bearer</p></li>\n",
    "    <li style=\"color: #ff5200\"><p style=\"font-family: Open Sans; color: #2B6264\">Basic Auth</p></li>\n",
    "</ul>"
   ]
  },
  {
   "cell_type": "code",
   "execution_count": 9,
   "id": "dcf5370a",
   "metadata": {
    "slideshow": {
     "slide_type": "skip"
    }
   },
   "outputs": [],
   "source": [
    "try:\n",
    "    configuration_sets_api.get_configuration_set(\n",
    "        type=\"Shared\",\n",
    "        scope=\"FinbourneUniversity\",\n",
    "        code=\"jira\"\n",
    "    )\n",
    "    \n",
    "    configuration_sets_api.delete_configuration_set(\n",
    "        type=\"Shared\",\n",
    "        scope=\"FinbourneUniversity\",\n",
    "        code=\"jira\"\n",
    "    )\n",
    "    \n",
    "except lusid_configuration.ApiException as api_exception:\n",
    "    if api_exception.status == 404:\n",
    "        pass\n",
    "    else:\n",
    "        raise"
   ]
  },
  {
   "cell_type": "code",
   "execution_count": 10,
   "id": "a0c4f986",
   "metadata": {
    "slideshow": {
     "slide_type": "skip"
    }
   },
   "outputs": [],
   "source": [
    "config_response = configuration_sets_api.create_configuration_set(\n",
    "    create_configuration_set=lusid_configuration.CreateConfigurationSet(\n",
    "        id=lusid_configuration.ResourceId(\n",
    "            scope=\"FinbourneUniversity\",\n",
    "            code=\"jira\"\n",
    "        ),\n",
    "        type=\"Shared\",\n",
    "        description=\"Access tokens for JIRA\"\n",
    "    )\n",
    ")\n",
    "\n",
    "configuration_sets_api.add_configuration_to_set(\n",
    "    type=\"Shared\",\n",
    "    scope=\"FinbourneUniversity\",\n",
    "    code=\"jira\",\n",
    "    create_configuration_item=lusid_configuration.CreateConfigurationItem(\n",
    "        key=\"api-token\",\n",
    "        value=\"SampleToken\",\n",
    "        value_type=\"text\",\n",
    "        is_secret=True,\n",
    "        description=\"API Key for JIRA\"\n",
    "    )\n",
    ")\n",
    "\n",
    "configuration_sets_api.add_configuration_to_set(\n",
    "    type=\"Shared\",\n",
    "    scope=\"FinbourneUniversity\",\n",
    "    code=\"jira\",\n",
    "    create_configuration_item=lusid_configuration.CreateConfigurationItem(\n",
    "        key=\"username\",\n",
    "        value=\"SampleUsername\",\n",
    "        value_type=\"text\",\n",
    "        is_secret=False,\n",
    "        description=\"Username for JIRA\"\n",
    "    )\n",
    ")"
   ]
  },
  {
   "cell_type": "markdown",
   "id": "76d3b163",
   "metadata": {
    "slideshow": {
     "slide_type": "slide"
    }
   },
   "source": [
    "<p style=\"font-family: Open Sans; color: #2B6264; font-weight: bold; font-size: 125%\">Creating 3rd Party Webhook Notification</p>"
   ]
  },
  {
   "cell_type": "code",
   "execution_count": null,
   "id": "552c003c",
   "metadata": {
    "slideshow": {
     "slide_type": "fragment"
    }
   },
   "outputs": [],
   "source": [
    "notifications_api.create_notification(\n",
    "    scope=subscription_scope,\n",
    "    code=subscription_code,\n",
    "    create_notification_request = lusid_notifications.models.CreateNotificationRequest.from_dict(\n",
    "        {\n",
    "            \"notificationId\": \"PortfolioCreatedJiraWebhook\",\n",
    "            \"displayName\": \"PortfolioCreatedJiraWebhook\",\n",
    "            \"description\": \"New Portfolio Created - Ticket\",\n",
    "            \"notificationType\": {\n",
    "                \"type\": \"Webhook\",\n",
    "                \"httpMethod\": \"POST\",\n",
    "                \"url\": \"https://acmecorp.atlassian.net/rest/api/3/issue\",\n",
    "                \"authenticationType\": \"BasicAuth\",\n",
    "                \"authenticationConfigurationItemPaths\": {\n",
    "                    \"username\": \"config://shared/FinbourneUniversity/jira/username\",\n",
    "                    \"password\": \"config://shared/FinbourneUniversity/jira/api-token\"\n",
    "                },\n",
    "                \"contentType\": \"Json\",\n",
    "                \"content\": {\n",
    "                    \"fields\": {\n",
    "                        \"project\": {\n",
    "                            \"key\": \"DEMO\"\n",
    "                        },\n",
    "                        \"issuetype\": {\n",
    "                            \"name\": \"Task\"\n",
    "                        },\n",
    "                        \"summary\": \"TransactionPortfolio {{body.portfolioCode}} Created!\",\n",
    "                        \"description\": {\n",
    "                            \"type\": \"doc\",\n",
    "                            \"version\": 1,\n",
    "                            \"content\": [\n",
    "                                {\n",
    "                                \"type\": \"paragraph\",\n",
    "                                \"content\": [\n",
    "                                    {\n",
    "                                    \"text\": \"A portfolio has been created. Please make your first trades!\",\n",
    "                                    \"type\": \"text\"\n",
    "                                    }\n",
    "                                ]\n",
    "                                },\n",
    "                                {\n",
    "                                \"type\": \"paragraph\",\n",
    "                                \"content\": [\n",
    "                                    {\n",
    "                                    \"text\": \"Please close this ticket once the first trade has been placed\",\n",
    "                                    \"type\": \"text\"\n",
    "                                    }\n",
    "                                ]\n",
    "                                }\n",
    "                            ]\n",
    "                        },\n",
    "                        \"assignee\": {\n",
    "                            \"id\": \"5bfe63e1ec71bd223bbe623c\"\n",
    "                        },\n",
    "                        \"labels\": [\n",
    "                            \"trades\",\n",
    "                            \"newPortfolio\"\n",
    "                        ]\n",
    "                    }\n",
    "                }\n",
    "            }\n",
    "        }\n",
    "    )\n",
    ")"
   ]
  },
  {
   "cell_type": "code",
   "execution_count": 12,
   "id": "4be29019",
   "metadata": {
    "slideshow": {
     "slide_type": "skip"
    }
   },
   "outputs": [],
   "source": [
    "subscriptions_api.delete_subscription(\n",
    "    scope=subscription_scope,\n",
    "    code=subscription_code\n",
    ")\n",
    "\n",
    "configuration_sets_api.delete_configuration_set(\n",
    "    type=\"Shared\",\n",
    "    scope=\"FinbourneUniversity\",\n",
    "    code=\"jira\"\n",
    ")"
   ]
  },
  {
   "cell_type": "markdown",
   "id": "3a30b680",
   "metadata": {
    "slideshow": {
     "slide_type": "slide"
    }
   },
   "source": [
    "<p style=\"font-family: Open Sans; color: #2B6264; font-weight: bold; font-size: 125%\">What have we covered?</p>"
   ]
  },
  {
   "cell_type": "markdown",
   "id": "be8a7963",
   "metadata": {
    "slideshow": {
     "slide_type": "fragment"
    }
   },
   "source": [
    "<p style=\"font-family: Open Sans; color: #2B6264\">- We created a LUSID webhook notification using the Notifications API via the Python SDK.</p>"
   ]
  },
  {
   "cell_type": "markdown",
   "id": "b7f3aed8",
   "metadata": {
    "slideshow": {
     "slide_type": "fragment"
    }
   },
   "source": [
    "<p style=\"font-family: Open Sans; color: #2B6264\">- We looked at the available content types, authentication methods and request types for webhook notifications.</p>"
   ]
  },
  {
   "cell_type": "markdown",
   "id": "c61e581e",
   "metadata": {
    "slideshow": {
     "slide_type": "fragment"
    }
   },
   "source": [
    "<p style=\"font-family: Open Sans; color: #2B6264\">- We created a 3rd party webhook notification using the Notifications API via the Python SDK.</p>"
   ]
  }
 ],
 "metadata": {
  "celltoolbar": "Slideshow",
  "kernelspec": {
   "display_name": "Python 3",
   "language": "python",
   "name": "python3"
  },
  "language_info": {
   "codemirror_mode": {
    "name": "ipython",
    "version": 3
   },
   "file_extension": ".py",
   "mimetype": "text/x-python",
   "name": "python",
   "nbconvert_exporter": "python",
   "pygments_lexer": "ipython3",
   "version": "3.10.8"
  },
  "toc": {
   "base_numbering": 1,
   "nav_menu": {},
   "number_sections": false,
   "sideBar": true,
   "skip_h1_title": false,
   "title_cell": "Table of Contents",
   "title_sidebar": "Contents",
   "toc_cell": false,
   "toc_position": {},
   "toc_section_display": true,
   "toc_window_display": false
  },
  "varInspector": {
   "cols": {
    "lenName": 16,
    "lenType": 16,
    "lenVar": 40
   },
   "kernels_config": {
    "python": {
     "delete_cmd_postfix": "",
     "delete_cmd_prefix": "del ",
     "library": "var_list.py",
     "varRefreshCmd": "print(var_dic_list())"
    },
    "r": {
     "delete_cmd_postfix": ") ",
     "delete_cmd_prefix": "rm(",
     "library": "var_list.r",
     "varRefreshCmd": "cat(var_dic_list()) "
    }
   },
   "types_to_exclude": [
    "module",
    "function",
    "builtin_function_or_method",
    "instance",
    "_Feature"
   ],
   "window_display": false
  }
 },
 "nbformat": 4,
 "nbformat_minor": 5
}
