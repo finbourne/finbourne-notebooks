{
 "cells": [
  {
   "cell_type": "markdown",
   "id": "e32e01fe",
   "metadata": {
    "slideshow": {
     "slide_type": "slide"
    }
   },
   "source": [
    "<p style=\"font-family: Open Sans; color: #2B6264; font-weight: bold; font-size: 125%\">What are we going to cover?</p>"
   ]
  },
  {
   "cell_type": "markdown",
   "id": "7abac222",
   "metadata": {
    "slideshow": {
     "slide_type": "fragment"
    }
   },
   "source": [
    "<ul>\n",
    "    <li style=\"color: #ff5200\"><p style=\"font-family: Open Sans; color: #2B6264\">How can we populate a Time-Variant Property with a value for a given entity e.g. Instrument using the LUSID APIs via the LUSID website?</p></li>\n",
    "</ul>"
   ]
  },
  {
   "cell_type": "markdown",
   "id": "3beb1935",
   "metadata": {
    "slideshow": {
     "slide_type": "fragment"
    }
   },
   "source": [
    "<ul>\n",
    "    <li style=\"color: #ff5200\"><p style=\"font-family: Open Sans; color: #2B6264\">How can we populate a Time-Variant Property with a value for a given entity e.g. Instrument using the LUSID APIs via the Python SDK?</p></li>\n",
    "</ul>"
   ]
  },
  {
   "cell_type": "markdown",
   "id": "d17b2565",
   "metadata": {
    "slideshow": {
     "slide_type": "slide"
    }
   },
   "source": [
    "<p style=\"font-family: Open Sans; color: #2B6264; font-weight: bold; font-size: 125%\">Populating Time-Variant Property Values</p>"
   ]
  },
  {
   "cell_type": "code",
   "execution_count": 2,
   "id": "91763411",
   "metadata": {
    "slideshow": {
     "slide_type": "subslide"
    }
   },
   "outputs": [
    {
     "name": "stderr",
     "output_type": "stream",
     "text": [
      "Unable to open secrets file c:\\Users\\MollyMcDonagh\\Dev\\notebooks\\public\\V2\\university\\secrets.json\n"
     ]
    },
    {
     "data": {
      "text/plain": [
       "<lusid.api.instruments_api.InstrumentsApi at 0x239721cbfd0>"
      ]
     },
     "metadata": {},
     "output_type": "display_data"
    }
   ],
   "source": [
    "import pprint\n",
    "import os\n",
    "import lusid\n",
    "from lusidjam import RefreshingToken\n",
    "from finbourne_sdk_utils.pandas_utils.lusid_pandas import lusid_response_to_data_frame\n",
    "from lusid.extensions import (\n",
    "    SyncApiClientFactory,\n",
    "    ArgsConfigurationLoader,\n",
    "    EnvironmentVariablesConfigurationLoader,\n",
    "    SecretsFileConfigurationLoader\n",
    ")\n",
    "from lusid.models import *\n",
    "\n",
    "# Authenticate to SDK\n",
    "# Run the Notebook in Jupyterhub for your LUSID domain and authenticate automatically\n",
    "secrets_path = os.getenv(\"FBN_SECRETS_PATH\")\n",
    "# Run the Notebook locally using a secrets file (see https://support.lusid.com/docs/how-do-i-use-an-api-access-token-with-the-lusid-sdk)\n",
    "if secrets_path is None:\n",
    "    secrets_path = os.path.join(os.path.dirname(os.getcwd()), \"secrets.json\")\n",
    "\n",
    "# Initiate an API Factory which is the client side object for interacting with LUSID APIs\n",
    "config_loaders=[\n",
    "    ArgsConfigurationLoader(access_token = RefreshingToken(), app_name = \"LusidJupyterNotebook\"),\n",
    "    EnvironmentVariablesConfigurationLoader(),\n",
    "    SecretsFileConfigurationLoader(secrets_path)]\n",
    "api_factory = SyncApiClientFactory(config_loaders=config_loaders)\n",
    "\n",
    "instruments_api = api_factory.build(lusid.api.InstrumentsApi)\n",
    "display(instruments_api)"
   ]
  },
  {
   "cell_type": "code",
   "execution_count": 3,
   "id": "6d67cb19",
   "metadata": {
    "slideshow": {
     "slide_type": "skip"
    }
   },
   "outputs": [
    {
     "data": {
      "text/plain": [
       "{'failed': {},\n",
       " 'href': None,\n",
       " 'links': [{'description': None,\n",
       "            'href': 'https://mollyfinbourne.lusid.com/api/api/schemas/entities/UpsertInstrumentsResponse',\n",
       "            'method': 'GET',\n",
       "            'relation': 'EntitySchema'},\n",
       "           {'description': 'A link to the LUSID Insights website showing all '\n",
       "                           'logs related to this request',\n",
       "            'href': 'https://mollyfinbourne.lusid.com/app/insights/logs/0HN9I4LJ4FCCF:00000015',\n",
       "            'method': 'GET',\n",
       "            'relation': 'RequestLogs'}],\n",
       " 'metadata': {'actions': [{'description': 'The request identifiers of '\n",
       "                                          'Unchanged Instruments',\n",
       "                           'identifierType': 'RequestId',\n",
       "                           'identifiers': ['instr_1'],\n",
       "                           'type': 'UnchangedInstruments'}]},\n",
       " 'staged': {},\n",
       " 'values': {'instr_1': {'assetClass': 'Unknown',\n",
       "                        'domCcy': 'ZZZ',\n",
       "                        'href': 'https://mollyfinbourne.lusid.com/api/api/instruments/LusidInstrumentId/LUID_00003DPL?scope=FinbourneUniversity',\n",
       "                        'identifiers': {'Figi': 'BBG000BPH459',\n",
       "                                        'LusidInstrumentId': 'LUID_00003DPL'},\n",
       "                        'instrumentDefinition': None,\n",
       "                        'links': None,\n",
       "                        'lookthroughPortfolio': None,\n",
       "                        'lusidInstrumentId': 'LUID_00003DPL',\n",
       "                        'name': 'MICROSOFT CORP',\n",
       "                        'properties': [],\n",
       "                        'relationships': [],\n",
       "                        'scope': 'FinbourneUniversity',\n",
       "                        'settlementCycle': None,\n",
       "                        'stagedModifications': {'countPending': 0,\n",
       "                                                'hrefPending': 'https://mollyfinbourne.lusid.com/api/api/stagedmodifications/?asAt=2025-01-13T13%3A38%3A55.3795160%2B00%3A00&filter=entityUniqueId%20eq%20%27c7819636-726d-4b91-903f-70f859c3cd89%27%20and%20status%20eq%20%27Pending%27',\n",
       "                                                'idsPreviewed': []},\n",
       "                        'state': 'Active',\n",
       "                        'version': {'asAtCreated': datetime.datetime(2025, 1, 13, 13, 38, 55, 379516, tzinfo=datetime.timezone.utc),\n",
       "                                    'asAtDate': datetime.datetime(2025, 1, 13, 13, 38, 55, 379516, tzinfo=datetime.timezone.utc),\n",
       "                                    'asAtModified': datetime.datetime(2025, 1, 13, 13, 43, 19, 89843, tzinfo=datetime.timezone.utc),\n",
       "                                    'asAtVersionNumber': 3,\n",
       "                                    'effectiveFrom': datetime.datetime(1, 1, 1, 0, 0, tzinfo=datetime.timezone.utc),\n",
       "                                    'entityUniqueId': 'c7819636-726d-4b91-903f-70f859c3cd89',\n",
       "                                    'requestIdCreated': '0HN9JNBRE8ML2:00000039',\n",
       "                                    'requestIdModified': '0HN9JNVOKQ9S8:0000009F',\n",
       "                                    'stagedModificationIdModified': None,\n",
       "                                    'userIdCreated': '00uji4twb4jDcHGjN2p7',\n",
       "                                    'userIdModified': '00uji4twb4jDcHGjN2p7'}}}}"
      ]
     },
     "execution_count": 3,
     "metadata": {},
     "output_type": "execute_result"
    }
   ],
   "source": [
    "instruments_api.upsert_instruments(\n",
    "    scope=\"FinbourneUniversity\",\n",
    "    request_body={\n",
    "        \"instr_1\": lusid.InstrumentDefinition(\n",
    "            name=\"MICROSOFT CORP\",\n",
    "            identifiers={\n",
    "                \"Figi\": lusid.InstrumentIdValue(\n",
    "                    value=\"BBG000BPH459\"\n",
    "                )\n",
    "            }\n",
    "        )\n",
    "    }\n",
    ")"
   ]
  },
  {
   "cell_type": "code",
   "execution_count": 4,
   "id": "b4e94d74",
   "metadata": {
    "slideshow": {
     "slide_type": "skip"
    }
   },
   "outputs": [],
   "source": [
    "property_definitions_api = api_factory.build(lusid.api.PropertyDefinitionsApi)\n",
    "\n",
    "try:\n",
    "    property_definitions_api.delete_property_definition(\n",
    "        domain=\"Instrument\",\n",
    "        scope=\"FinbourneUniversity\",\n",
    "        code=\"MarketCapitalisation\")\n",
    "except:\n",
    "    pass\n",
    "\n",
    "issuer_prop_definition = property_definitions_api.create_property_definition(\n",
    "    create_property_definition_request=lusid.CreatePropertyDefinitionRequest(\n",
    "        domain=\"Instrument\",\n",
    "        scope=\"FinbourneUniversity\",\n",
    "        code=\"MarketCapitalisation\",\n",
    "        display_name=\"Market Capitalisation\",\n",
    "        property_description=\"The market capitalisation of the instrument\",\n",
    "        data_type_id=lusid.ResourceId(\n",
    "            scope=\"system\",\n",
    "            code=\"currencyAndAmount\"\n",
    "        ),\n",
    "        life_time=\"TimeVariant\",\n",
    "        constraint_style=\"Property\"\n",
    "    )\n",
    ")"
   ]
  },
  {
   "cell_type": "code",
   "execution_count": 5,
   "id": "b7a2faf5",
   "metadata": {
    "slideshow": {
     "slide_type": "subslide"
    }
   },
   "outputs": [
    {
     "name": "stdout",
     "output_type": "stream",
     "text": [
      "{'as_at_date': datetime.datetime(2025, 1, 13, 13, 49, 37, 83396, tzinfo=datetime.timezone.utc),\n",
      " 'links': [{'description': 'A link to the LUSID Insights website showing all '\n",
      "                           'logs related to this request',\n",
      "            'href': 'https://mollyfinbourne.lusid.com/app/insights/logs/0HN9JQH7C8736:0000001F',\n",
      "            'method': 'GET',\n",
      "            'relation': 'RequestLogs'}]}\n"
     ]
    }
   ],
   "source": [
    "result_1 = instruments_api.upsert_instruments_properties(\n",
    "    scope=\"FinbourneUniversity\",\n",
    "    upsert_instrument_property_request=[\n",
    "        lusid.UpsertInstrumentPropertyRequest(\n",
    "            identifier_type=\"Figi\",\n",
    "            identifier=\"BBG000BPH459\",\n",
    "            properties=[\n",
    "                lusid.ModelProperty(\n",
    "                    key=\"Instrument/FinbourneUniversity/MarketCapitalisation\",\n",
    "                    value=lusid.PropertyValue(\n",
    "                        metric_value=lusid.MetricValue(\n",
    "                            value=780360000000,\n",
    "                            unit=\"USD\"\n",
    "                        )\n",
    "                    )\n",
    "                )\n",
    "            ]\n",
    "        )\n",
    "    ]\n",
    ")\n",
    "\n",
    "print(result_1)"
   ]
  },
  {
   "cell_type": "markdown",
   "id": "b2fa315a",
   "metadata": {
    "slideshow": {
     "slide_type": "slide"
    }
   },
   "source": [
    "<img src=\"./data/TimeVariantProperties-1.png\" width=\"1200\"/>"
   ]
  },
  {
   "cell_type": "markdown",
   "id": "9a29978b",
   "metadata": {
    "slideshow": {
     "slide_type": "slide"
    }
   },
   "source": [
    "<img src=\"./data/TimeVariantProperties-1-filled.png\" width=\"800\"/>"
   ]
  },
  {
   "cell_type": "code",
   "execution_count": 7,
   "id": "5ccbd5d3",
   "metadata": {
    "slideshow": {
     "slide_type": "subslide"
    }
   },
   "outputs": [
    {
     "name": "stdout",
     "output_type": "stream",
     "text": [
      "{'as_at_date': datetime.datetime(2025, 1, 13, 13, 50, 52, 262588, tzinfo=datetime.timezone.utc),\n",
      " 'links': [{'description': 'A link to the LUSID Insights website showing all '\n",
      "                           'logs related to this request',\n",
      "            'href': 'https://mollyfinbourne.lusid.com/app/insights/logs/0HN9JOG6C34I0:00000015',\n",
      "            'method': 'GET',\n",
      "            'relation': 'RequestLogs'}]}\n"
     ]
    }
   ],
   "source": [
    "result_2 = instruments_api.upsert_instruments_properties(\n",
    "    scope=\"FinbourneUniversity\",\n",
    "    upsert_instrument_property_request=[\n",
    "        lusid.UpsertInstrumentPropertyRequest(\n",
    "            identifier_type=\"Figi\",\n",
    "            identifier=\"BBG000BPH459\",\n",
    "            properties=[\n",
    "                lusid.ModelProperty(\n",
    "                    key=\"Instrument/FinbourneUniversity/MarketCapitalisation\",\n",
    "                    value=lusid.PropertyValue(\n",
    "                        metric_value=lusid.MetricValue(\n",
    "                            value=1200000000000,\n",
    "                            unit=\"USD\"\n",
    "                        )\n",
    "                    ),\n",
    "                    effective_from=\"2020-01-01T00:00:00Z\"\n",
    "                )\n",
    "            ]\n",
    "        )\n",
    "    ]\n",
    ")\n",
    "\n",
    "print(result_2)"
   ]
  },
  {
   "cell_type": "markdown",
   "id": "5b1ce11f",
   "metadata": {
    "slideshow": {
     "slide_type": "slide"
    }
   },
   "source": [
    "<img src=\"./data/TimeVariantProperties-2.png\" width=\"1200\"/>"
   ]
  },
  {
   "cell_type": "markdown",
   "id": "58f918ea",
   "metadata": {
    "slideshow": {
     "slide_type": "slide"
    }
   },
   "source": [
    "<img src=\"./data/TimeVariantProperties-2-filled.png\" width=\"800\"/>"
   ]
  },
  {
   "cell_type": "code",
   "execution_count": 9,
   "id": "1e8bc2f8",
   "metadata": {
    "slideshow": {
     "slide_type": "subslide"
    }
   },
   "outputs": [
    {
     "name": "stdout",
     "output_type": "stream",
     "text": [
      "{'as_at_date': datetime.datetime(2025, 1, 13, 13, 51, 19, 954096, tzinfo=datetime.timezone.utc),\n",
      " 'links': [{'description': 'A link to the LUSID Insights website showing all '\n",
      "                           'logs related to this request',\n",
      "            'href': 'https://mollyfinbourne.lusid.com/app/insights/logs/0HN9JQ0FNINJR:0000019E',\n",
      "            'method': 'GET',\n",
      "            'relation': 'RequestLogs'}]}\n"
     ]
    }
   ],
   "source": [
    "result_3 = instruments_api.upsert_instruments_properties(\n",
    "    scope=\"FinbourneUniversity\",\n",
    "    upsert_instrument_property_request=[\n",
    "        lusid.UpsertInstrumentPropertyRequest(\n",
    "            identifier_type=\"Figi\",\n",
    "            identifier=\"BBG000BPH459\",\n",
    "            properties=[\n",
    "                lusid.ModelProperty(\n",
    "                    key=\"Instrument/FinbourneUniversity/MarketCapitalisation\",\n",
    "                    value=lusid.PropertyValue(\n",
    "                        metric_value=lusid.MetricValue(\n",
    "                            value=1680000000000,\n",
    "                            unit=\"USD\"\n",
    "                        )\n",
    "                    ),\n",
    "                    effective_from=\"2021-01-01T00:00:00Z\",\n",
    "                    effective_until=\"2021-12-31T00:00:00Z\"\n",
    "                )\n",
    "            ]\n",
    "        )\n",
    "    ]\n",
    ")\n",
    "\n",
    "print(result_3)"
   ]
  },
  {
   "cell_type": "markdown",
   "id": "1dbd94de",
   "metadata": {
    "slideshow": {
     "slide_type": "slide"
    }
   },
   "source": [
    "<img src=\"./data/TimeVariantProperties-3.png\" width=\"1200\"/>"
   ]
  },
  {
   "cell_type": "markdown",
   "id": "e59d3ff5",
   "metadata": {
    "slideshow": {
     "slide_type": "slide"
    }
   },
   "source": [
    "<img src=\"./data/TimeVariantProperties-3-filled.png\" width=\"800\"/>"
   ]
  },
  {
   "cell_type": "code",
   "execution_count": 10,
   "id": "cd132bde",
   "metadata": {
    "slideshow": {
     "slide_type": "subslide"
    }
   },
   "outputs": [
    {
     "name": "stdout",
     "output_type": "stream",
     "text": [
      "{'as_at_date': datetime.datetime(2025, 1, 13, 13, 51, 38, 473572, tzinfo=datetime.timezone.utc),\n",
      " 'links': [{'description': 'A link to the LUSID Insights website showing all '\n",
      "                           'logs related to this request',\n",
      "            'href': 'https://mollyfinbourne.lusid.com/app/insights/logs/0HN9JM9BLN1V3:0000016F',\n",
      "            'method': 'GET',\n",
      "            'relation': 'RequestLogs'}]}\n"
     ]
    }
   ],
   "source": [
    "instruments_api.upsert_instruments_properties(\n",
    "    scope=\"FinbourneUniversity\",\n",
    "    upsert_instrument_property_request=[\n",
    "        lusid.UpsertInstrumentPropertyRequest(\n",
    "            identifier_type=\"Figi\",\n",
    "            identifier=\"BBG000BPH459\",\n",
    "            properties=[\n",
    "                lusid.ModelProperty(\n",
    "                    key=\"Instrument/FinbourneUniversity/MarketCapitalisation\",\n",
    "                    value=None,\n",
    "                    effective_until=\"2018-12-31T00:00:00Z\"\n",
    "                )\n",
    "            ]\n",
    "        )\n",
    "    ]\n",
    ")\n",
    "\n",
    "result_4 = instruments_api.upsert_instruments_properties(\n",
    "    scope=\"FinbourneUniversity\",\n",
    "    upsert_instrument_property_request=[\n",
    "        lusid.UpsertInstrumentPropertyRequest(\n",
    "            identifier_type=\"Figi\",\n",
    "            identifier=\"BBG000BPH459\",\n",
    "            properties=[\n",
    "                lusid.ModelProperty(\n",
    "                    key=\"Instrument/FinbourneUniversity/MarketCapitalisation\",\n",
    "                    value=None,\n",
    "                    effective_from=\"2022-01-01T00:00:00Z\"\n",
    "                )\n",
    "            ]\n",
    "        )\n",
    "    ]\n",
    ")\n",
    "\n",
    "print(result_4)"
   ]
  },
  {
   "cell_type": "markdown",
   "id": "3ffff1e1",
   "metadata": {
    "slideshow": {
     "slide_type": "slide"
    }
   },
   "source": [
    "<img src=\"./data/TimeVariantProperties-4.png\" width=\"1200\"/>"
   ]
  },
  {
   "cell_type": "markdown",
   "id": "1f0f0a75",
   "metadata": {
    "slideshow": {
     "slide_type": "slide"
    }
   },
   "source": [
    "<img src=\"./data/TimeVariantProperties-4-filled.png\" width=\"800\"/>"
   ]
  },
  {
   "cell_type": "code",
   "execution_count": 11,
   "id": "a1d05e45",
   "metadata": {
    "slideshow": {
     "slide_type": "skip"
    }
   },
   "outputs": [
    {
     "data": {
      "text/plain": [
       "{'asAt': datetime.datetime(2025, 1, 13, 13, 51, 41, 879771, tzinfo=datetime.timezone.utc),\n",
       " 'effectiveFrom': datetime.datetime(1, 1, 1, 0, 0, tzinfo=datetime.timezone.utc),\n",
       " 'entityType': 'PropertyDefinition',\n",
       " 'entityUniqueId': None,\n",
       " 'href': 'https://mollyfinbourne.lusid.com/api/api/entities/propertydefinitions/?effectiveAt=0001-01-01T00%3A00%3A00.0000000%2B00%3A00&asAt=2025-01-13T13%3A51%3A41.8797710%2B00%3A00',\n",
       " 'links': [{'description': 'A link to the LUSID Insights website showing all '\n",
       "                           'logs related to this request',\n",
       "            'href': 'https://mollyfinbourne.lusid.com/app/insights/logs/0HN9JQ0FNIO31:0000005D',\n",
       "            'method': 'GET',\n",
       "            'relation': 'RequestLogs'}],\n",
       " 'stagedModifications': {'countPending': 0,\n",
       "                         'hrefPending': 'https://mollyfinbourne.lusid.com/api/api/stagedmodifications/?asAt=2025-01-13T13%3A51%3A41.8797710%2B00%3A00&filter=entityUniqueId%20eq%20%2770714ac7-7f40-4078-aba5-b92c2f7f29dc%27%20and%20status%20eq%20%27Pending%27',\n",
       "                         'idsPreviewed': []}}"
      ]
     },
     "execution_count": 11,
     "metadata": {},
     "output_type": "execute_result"
    }
   ],
   "source": [
    "property_definitions_api.delete_property_definition(\n",
    "    domain=\"Instrument\",\n",
    "    scope=\"FinbourneUniversity\",\n",
    "    code=\"MarketCapitalisation\")"
   ]
  },
  {
   "cell_type": "markdown",
   "id": "3a30b680",
   "metadata": {
    "slideshow": {
     "slide_type": "slide"
    }
   },
   "source": [
    "<p style=\"font-family: Open Sans; color: #2B6264; font-weight: bold; font-size: 125%\">What have we covered?</p>"
   ]
  },
  {
   "cell_type": "markdown",
   "id": "627a9d3c",
   "metadata": {
    "slideshow": {
     "slide_type": "subslide"
    }
   },
   "source": [
    "<ul>\n",
    "    <li style=\"color: #ff5200\"><p style=\"font-family: Open Sans; color: #2B6264\">We populated the Microsoft Equity Instrument with a value for the Time-Variant \"MarketCapitalisation\" Property using the LUSID APIs via the LUSID website.</p></li>\n",
    "</ul>"
   ]
  },
  {
   "cell_type": "markdown",
   "id": "7f5071bd",
   "metadata": {
    "slideshow": {
     "slide_type": "fragment"
    }
   },
   "source": [
    "<ul>\n",
    "    <li style=\"color: #ff5200\"><p style=\"font-family: Open Sans; color: #2B6264\">We populated the Microsoft Equity Instrument with a value for the Time-Variant \"MarketCapitalisation\" Property using the LUSID APIs via the Python SDK.</p></li>\n",
    "</ul>"
   ]
  }
 ],
 "metadata": {
  "celltoolbar": "Slideshow",
  "kernelspec": {
   "display_name": "Python 3",
   "language": "python",
   "name": "python3"
  },
  "language_info": {
   "codemirror_mode": {
    "name": "ipython",
    "version": 3
   },
   "file_extension": ".py",
   "mimetype": "text/x-python",
   "name": "python",
   "nbconvert_exporter": "python",
   "pygments_lexer": "ipython3",
   "version": "3.10.8"
  },
  "toc": {
   "base_numbering": 1,
   "nav_menu": {},
   "number_sections": false,
   "sideBar": true,
   "skip_h1_title": false,
   "title_cell": "Table of Contents",
   "title_sidebar": "Contents",
   "toc_cell": false,
   "toc_position": {},
   "toc_section_display": true,
   "toc_window_display": false
  },
  "varInspector": {
   "cols": {
    "lenName": 16,
    "lenType": 16,
    "lenVar": 40
   },
   "kernels_config": {
    "python": {
     "delete_cmd_postfix": "",
     "delete_cmd_prefix": "del ",
     "library": "var_list.py",
     "varRefreshCmd": "print(var_dic_list())"
    },
    "r": {
     "delete_cmd_postfix": ") ",
     "delete_cmd_prefix": "rm(",
     "library": "var_list.r",
     "varRefreshCmd": "cat(var_dic_list()) "
    }
   },
   "types_to_exclude": [
    "module",
    "function",
    "builtin_function_or_method",
    "instance",
    "_Feature"
   ],
   "window_display": false
  }
 },
 "nbformat": 4,
 "nbformat_minor": 5
}
