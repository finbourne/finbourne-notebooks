{
 "cells": [
  {
   "cell_type": "markdown",
   "id": "e32e01fe",
   "metadata": {
    "slideshow": {
     "slide_type": "slide"
    }
   },
   "source": [
    "<p style=\"font-family: Open Sans; color: #2B6264; font-weight: bold; font-size: 125%\">What are we going to cover?</p>"
   ]
  },
  {
   "cell_type": "markdown",
   "id": "7abac222",
   "metadata": {
    "slideshow": {
     "slide_type": "fragment"
    }
   },
   "source": [
    "<ul>\n",
    "    <li style=\"color: #ff5200\"><p style=\"font-family: Open Sans; color: #2B6264\">How can we populate a Perpetual Property with a value for a given entity e.g. Instrument using the LUSID APIs via the LUSID website?</p></li>\n",
    "</ul>"
   ]
  },
  {
   "cell_type": "markdown",
   "id": "97504bfa",
   "metadata": {
    "slideshow": {
     "slide_type": "fragment"
    }
   },
   "source": [
    "<ul>\n",
    "    <li style=\"color: #ff5200\"><p style=\"font-family: Open Sans; color: #2B6264\">How can we decorate the value of a Property onto an entity using the LUSID APIs via the LUSID website?</p></li>\n",
    "</ul>"
   ]
  },
  {
   "cell_type": "markdown",
   "id": "8c1e0de2",
   "metadata": {
    "slideshow": {
     "slide_type": "fragment"
    }
   },
   "source": [
    "<ul>\n",
    "    <li style=\"color: #ff5200\"><p style=\"font-family: Open Sans; color: #2B6264\">How does the value of a Perpetual Property change throughout its life?</p></li>\n",
    "</ul>"
   ]
  },
  {
   "cell_type": "markdown",
   "id": "13d32a2b",
   "metadata": {
    "slideshow": {
     "slide_type": "subslide"
    }
   },
   "source": [
    "<ul>\n",
    "    <li style=\"color: #ff5200\"><p style=\"font-family: Open Sans; color: #2B6264\">How can we populate a Perpetual Property with a value using the LUSID APIs via the Python SDK?</p></li>\n",
    "</ul>"
   ]
  },
  {
   "cell_type": "markdown",
   "id": "0abfc057",
   "metadata": {
    "slideshow": {
     "slide_type": "fragment"
    }
   },
   "source": [
    "<ul>\n",
    "    <li style=\"color: #ff5200\"><p style=\"font-family: Open Sans; color: #2B6264\">How can we decorate Properties onto an entity using the LUSID APIs via the Python SDK?</p></li>\n",
    "</ul>"
   ]
  },
  {
   "cell_type": "markdown",
   "id": "16bed48a",
   "metadata": {
    "slideshow": {
     "slide_type": "fragment"
    }
   },
   "source": [
    "<ul>\n",
    "    <li style=\"color: #ff5200\"><p style=\"font-family: Open Sans; color: #2B6264\">What are all the different shapes that Property Values can take when using the LUSID APIs via the Python SDK?</p></li>\n",
    "</ul>"
   ]
  },
  {
   "cell_type": "markdown",
   "id": "d17b2565",
   "metadata": {
    "slideshow": {
     "slide_type": "slide"
    }
   },
   "source": [
    "<p style=\"font-family: Open Sans; color: #2B6264; font-weight: bold; font-size: 125%\">Populating Perpetual Property Values</p>"
   ]
  },
  {
   "cell_type": "code",
   "execution_count": null,
   "id": "91763411",
   "metadata": {
    "slideshow": {
     "slide_type": "subslide"
    }
   },
   "outputs": [],
   "source": [
    "import pprint\n",
    "import os\n",
    "import lusid\n",
    "from lusidjam import RefreshingToken\n",
    "from finbourne_sdk_utils.pandas_utils.lusid_pandas import lusid_response_to_data_frame\n",
    "from lusid.extensions import (\n",
    "    SyncApiClientFactory,\n",
    "    ArgsConfigurationLoader,\n",
    "    EnvironmentVariablesConfigurationLoader,\n",
    "    SecretsFileConfigurationLoader\n",
    ")\n",
    "from lusid.models import *\n",
    "\n",
    "# Authenticate to SDK\n",
    "# Run the Notebook in Jupyterhub for your LUSID domain and authenticate automatically\n",
    "secrets_path = os.getenv(\"FBN_SECRETS_PATH\")\n",
    "# Run the Notebook locally using a secrets file (see https://support.lusid.com/docs/how-do-i-use-an-api-access-token-with-the-lusid-sdk)\n",
    "if secrets_path is None:\n",
    "    secrets_path = os.path.join(os.path.dirname(os.getcwd()), \"secrets.json\")\n",
    "\n",
    "# Initiate an API Factory which is the client side object for interacting with LUSID APIs\n",
    "config_loaders=[\n",
    "    ArgsConfigurationLoader(access_token = RefreshingToken(), app_name = \"LusidJupyterNotebook\"),\n",
    "    EnvironmentVariablesConfigurationLoader(),\n",
    "    SecretsFileConfigurationLoader(secrets_path)]\n",
    "api_factory = SyncApiClientFactory(config_loaders=config_loaders)\n",
    " \n",
    "instruments_api = api_factory.build(lusid.api.InstrumentsApi)\n",
    "display(instruments_api)"
   ]
  },
  {
   "cell_type": "code",
   "execution_count": null,
   "id": "6d67cb19",
   "metadata": {
    "slideshow": {
     "slide_type": "skip"
    }
   },
   "outputs": [],
   "source": [
    "instruments_api.upsert_instruments(\n",
    "    scope=\"FinbourneUniversity\",\n",
    "    request_body={\n",
    "        \"instr_1\": lusid.InstrumentDefinition(\n",
    "            name=\"MICROSOFT CORP\",\n",
    "            identifiers={\n",
    "                \"Figi\": lusid.InstrumentIdValue(\n",
    "                    value=\"BBG000BPH459\"\n",
    "                )\n",
    "            }\n",
    "        )\n",
    "    }\n",
    ")"
   ]
  },
  {
   "cell_type": "code",
   "execution_count": 4,
   "id": "b4e94d74",
   "metadata": {
    "slideshow": {
     "slide_type": "skip"
    }
   },
   "outputs": [],
   "source": [
    "property_definitions_api = api_factory.build(lusid.api.PropertyDefinitionsApi)\n",
    "\n",
    "try:\n",
    "    property_definitions_api.delete_property_definition(\n",
    "        domain=\"Instrument\",\n",
    "        scope=\"FinbourneUniversity\",\n",
    "        code=\"Issuer\")\n",
    "except:\n",
    "    pass\n",
    "\n",
    "issuer_prop_definition = property_definitions_api.create_property_definition(\n",
    "    create_property_definition_request=lusid.CreatePropertyDefinitionRequest(\n",
    "        domain=\"Instrument\",\n",
    "        scope=\"FinbourneUniversity\",\n",
    "        code=\"Issuer\",\n",
    "        display_name=\"Issuer\",\n",
    "        property_description=\"The issuer of the security\",\n",
    "        data_type_id=lusid.ResourceId(\n",
    "            scope=\"system\",\n",
    "            code=\"string\"\n",
    "        ),\n",
    "        life_time=\"Perpetual\",\n",
    "        constraint_style=\"Property\"\n",
    "    )\n",
    ")"
   ]
  },
  {
   "cell_type": "code",
   "execution_count": null,
   "id": "b7a2faf5",
   "metadata": {
    "slideshow": {
     "slide_type": "subslide"
    }
   },
   "outputs": [],
   "source": [
    "result = instruments_api.upsert_instruments_properties(\n",
    "    scope=\"FinbourneUniversity\",\n",
    "    upsert_instrument_property_request=[\n",
    "        lusid.UpsertInstrumentPropertyRequest(\n",
    "            identifier_type=\"Figi\",\n",
    "            identifier=\"BBG000BPH459\",\n",
    "            properties=[\n",
    "                lusid.ModelProperty(\n",
    "                    key=\"Instrument/FinbourneUniversity/Issuer\",\n",
    "                    value=lusid.PropertyValue(\n",
    "                        label_value=\"Microsoft Corporation LTD\"\n",
    "                    )\n",
    "                )\n",
    "            ]\n",
    "        )\n",
    "    ]\n",
    ")\n",
    "\n",
    "print(result)"
   ]
  },
  {
   "cell_type": "markdown",
   "id": "c454da08",
   "metadata": {
    "slideshow": {
     "slide_type": "slide"
    }
   },
   "source": [
    "<p style=\"font-family: Open Sans; color: #2B6264; font-weight: bold; font-size: 125%\">Decorating Property Values</p>"
   ]
  },
  {
   "cell_type": "code",
   "execution_count": null,
   "id": "e6ba5dcc",
   "metadata": {
    "slideshow": {
     "slide_type": "slide"
    }
   },
   "outputs": [],
   "source": [
    "instrument = instruments_api.get_instrument(\n",
    "    scope=\"FinbourneUniversity\",\n",
    "    identifier_type=\"Figi\",\n",
    "    identifier=\"BBG000BPH459\"\n",
    ")\n",
    "\n",
    "print(instrument)\n"
   ]
  },
  {
   "cell_type": "code",
   "execution_count": null,
   "id": "87e76642",
   "metadata": {
    "slideshow": {
     "slide_type": "slide"
    }
   },
   "outputs": [],
   "source": [
    "instrument = instruments_api.get_instrument(\n",
    "    scope=\"FinbourneUniversity\",\n",
    "    identifier_type=\"Figi\",\n",
    "    identifier=\"BBG000BPH459\",\n",
    "    property_keys=[\n",
    "        \"Instrument/FinbourneUniversity/Issuer\"\n",
    "    ],\n",
    ")\n",
    "\n",
    "print(instrument)"
   ]
  },
  {
   "cell_type": "code",
   "execution_count": null,
   "id": "606c2e18",
   "metadata": {
    "slideshow": {
     "slide_type": "slide"
    }
   },
   "outputs": [],
   "source": [
    "instruments_api.get_instrument(\n",
    "    scope=\"FinbourneUniversity\",\n",
    "    identifier_type=\"Figi\",\n",
    "    identifier=\"BBG000BPH459\",\n",
    "    property_keys=[\n",
    "        \"Instrument/FinbourneUniversity/Issuer\"\n",
    "    ]\n",
    ")"
   ]
  },
  {
   "cell_type": "code",
   "execution_count": null,
   "id": "2600ba6c",
   "metadata": {
    "slideshow": {
     "slide_type": "slide"
    }
   },
   "outputs": [],
   "source": [
    "try:\n",
    "    instrument = instruments_api.get_instrument(\n",
    "        scope=\"FinbourneUniversity\",\n",
    "        identifier_type=\"Figi\",\n",
    "        identifier=\"BBG000BPH459\",\n",
    "        property_keys=[\n",
    "            \"Instrument/FinbourneUniversity/Issuer\"\n",
    "        ],\n",
    "        as_at=\"2023-03-20T04:05:00Z\"\n",
    "    )\n",
    "except lusid.ApiException as e:\n",
    "    print(e)"
   ]
  },
  {
   "cell_type": "code",
   "execution_count": null,
   "id": "01d7c161",
   "metadata": {
    "slideshow": {
     "slide_type": "slide"
    }
   },
   "outputs": [],
   "source": [
    "instrument = instruments_api.get_instrument(\n",
    "    scope=\"FinbourneUniversity\",\n",
    "    identifier_type=\"Figi\",\n",
    "    identifier=\"BBG000BPH459\",\n",
    "    property_keys=[\n",
    "        \"Instrument/FinbourneUniversity/Issuer\"\n",
    "    ],\n",
    "    as_at=result.as_at_date,\n",
    "    effective_at=\"1912-03-20T04:05:00Z\"\n",
    ")\n",
    "\n",
    "print(instrument.properties)"
   ]
  },
  {
   "cell_type": "markdown",
   "id": "38cf4f6d",
   "metadata": {
    "slideshow": {
     "slide_type": "slide"
    }
   },
   "source": [
    "<p style=\"font-family: Open Sans; color: #2B6264; font-weight: bold; font-size: 125%\">Populating Different Types of Properties</p>"
   ]
  },
  {
   "cell_type": "code",
   "execution_count": 12,
   "id": "4e658e31",
   "metadata": {
    "slideshow": {
     "slide_type": "skip"
    }
   },
   "outputs": [],
   "source": [
    "try:\n",
    "    property_definitions_api.delete_property_definition(\n",
    "        domain=\"Instrument\",\n",
    "        scope=\"FinbourneUniversity\",\n",
    "        code=\"IPOPrice\")\n",
    "except:\n",
    "    pass\n",
    "\n",
    "issuer_prop_definition = property_definitions_api.create_property_definition(\n",
    "    create_property_definition_request=lusid.CreatePropertyDefinitionRequest(\n",
    "        domain=\"Instrument\",\n",
    "        scope=\"FinbourneUniversity\",\n",
    "        code=\"IPOPrice\",\n",
    "        display_name=\"Initial Public Offering Price\",\n",
    "        property_description=\"The price of the initial public offering which led to the float of this security\",\n",
    "        data_type_id=lusid.ResourceId(\n",
    "            scope=\"system\",\n",
    "            code=\"iso4217CurrencyAndAmount\"\n",
    "        ),\n",
    "        life_time=\"Perpetual\",\n",
    "        constraint_style=\"Property\"\n",
    "    )\n",
    ")"
   ]
  },
  {
   "cell_type": "code",
   "execution_count": 13,
   "id": "5e4197be",
   "metadata": {
    "slideshow": {
     "slide_type": "skip"
    }
   },
   "outputs": [],
   "source": [
    "try:\n",
    "    property_definitions_api.delete_property_definition(\n",
    "        domain=\"Instrument\",\n",
    "        scope=\"FinbourneUniversity\",\n",
    "        code=\"EarningReleases\")\n",
    "except:\n",
    "    pass\n",
    "\n",
    "issuer_prop_definition = property_definitions_api.create_property_definition(\n",
    "    create_property_definition_request=lusid.CreatePropertyDefinitionRequest(\n",
    "        domain=\"Instrument\",\n",
    "        scope=\"FinbourneUniversity\",\n",
    "        code=\"EarningReleases\",\n",
    "        display_name=\"Earning Releases\",\n",
    "        property_description=\"Links to relevant earning releases which affect this security\",\n",
    "        data_type_id=lusid.ResourceId(\n",
    "            scope=\"system\",\n",
    "            code=\"string\"\n",
    "        ),\n",
    "        life_time=\"Perpetual\",\n",
    "        constraint_style=\"Collection\"\n",
    "    )\n",
    ")"
   ]
  },
  {
   "cell_type": "code",
   "execution_count": null,
   "id": "8cea9fc5",
   "metadata": {
    "slideshow": {
     "slide_type": "slide"
    }
   },
   "outputs": [],
   "source": [
    "result = instruments_api.upsert_instruments_properties(\n",
    "    scope=\"FinbourneUniversity\",\n",
    "    upsert_instrument_property_request=[\n",
    "        lusid.UpsertInstrumentPropertyRequest(\n",
    "            identifier_type=\"Figi\",\n",
    "            identifier=\"BBG000BPH459\",\n",
    "            properties=[\n",
    "                lusid.ModelProperty(\n",
    "                    key=\"Instrument/FinbourneUniversity/Issuer\",\n",
    "                    value=lusid.PropertyValue(\n",
    "                        label_value=\"Microsoft Corporation LTD\"\n",
    "                    )\n",
    "                ),\n",
    "                lusid.ModelProperty(\n",
    "                    key=\"Instrument/FinbourneUniversity/IPOPrice\",\n",
    "                    value=lusid.PropertyValue(\n",
    "                        metric_value=lusid.MetricValue(\n",
    "                            value=21.00,\n",
    "                            unit=\"USD\"\n",
    "                        )\n",
    "                    )\n",
    "                ),\n",
    "                lusid.ModelProperty(\n",
    "                    key=\"Instrument/FinbourneUniversity/EarningReleases\",\n",
    "                    value=lusid.PropertyValue(\n",
    "                        label_value_set=lusid.LabelValueSet(\n",
    "                            values=[\n",
    "                            \"https://www.microsoft.com/en-us/investor/earnings/fy-2023-q2/press-release-webcast\",\n",
    "                            \"https://www.microsoft.com/en-us/investor/earnings/fy-2023-q1/press-release-webcast\"\n",
    "                        ])\n",
    "                    )\n",
    "                )\n",
    "            ]\n",
    "        )\n",
    "    ]\n",
    ")\n",
    "\n",
    "print(result)"
   ]
  },
  {
   "cell_type": "code",
   "execution_count": null,
   "id": "ac57b957",
   "metadata": {
    "slideshow": {
     "slide_type": "subslide"
    }
   },
   "outputs": [],
   "source": [
    "instrument = instruments_api.get_instrument(\n",
    "    scope=\"FinbourneUniversity\",\n",
    "    identifier_type=\"Figi\",\n",
    "    identifier=\"BBG000BPH459\",\n",
    "    property_keys=[\n",
    "        \"Instrument/FinbourneUniversity/Issuer\",\n",
    "        \"Instrument/FinbourneUniversity/IPOPrice\",\n",
    "        \"Instrument/FinbourneUniversity/EarningReleases\"\n",
    "    ]\n",
    ")\n",
    "\n",
    "print(instrument.properties)"
   ]
  },
  {
   "cell_type": "code",
   "execution_count": null,
   "id": "5a3982c9",
   "metadata": {
    "slideshow": {
     "slide_type": "skip"
    }
   },
   "outputs": [],
   "source": [
    "property_definitions_api.delete_property_definition(\n",
    "    domain=\"Instrument\",\n",
    "    scope=\"FinbourneUniversity\",\n",
    "    code=\"Issuer\")\n",
    "\n",
    "property_definitions_api.delete_property_definition(\n",
    "    domain=\"Instrument\",\n",
    "    scope=\"FinbourneUniversity\",\n",
    "    code=\"IPOPrice\")\n",
    "\n",
    "property_definitions_api.delete_property_definition(\n",
    "    domain=\"Instrument\",\n",
    "    scope=\"FinbourneUniversity\",\n",
    "    code=\"EarningReleases\")"
   ]
  },
  {
   "cell_type": "markdown",
   "id": "3a30b680",
   "metadata": {
    "slideshow": {
     "slide_type": "slide"
    }
   },
   "source": [
    "<p style=\"font-family: Open Sans; color: #2B6264; font-weight: bold; font-size: 125%\">What have we covered?</p>"
   ]
  },
  {
   "cell_type": "markdown",
   "id": "627a9d3c",
   "metadata": {
    "slideshow": {
     "slide_type": "subslide"
    }
   },
   "source": [
    "<ul>\n",
    "    <li style=\"color: #ff5200\"><p style=\"font-family: Open Sans; color: #2B6264\">We populated the Microsoft Equity Instrument with a value for the Perpetual \"Issuer\" Property using the LUSID APIs via the LUSID website.</p></li>\n",
    "</ul>"
   ]
  },
  {
   "cell_type": "markdown",
   "id": "e1b333d9",
   "metadata": {
    "slideshow": {
     "slide_type": "fragment"
    }
   },
   "source": [
    "<ul>\n",
    "    <li style=\"color: #ff5200\"><p style=\"font-family: Open Sans; color: #2B6264\">We updated the view in the LUSID website to decorate our \"Issuer\" Property onto the Instrument.</p></li>\n",
    "</ul>"
   ]
  },
  {
   "cell_type": "markdown",
   "id": "4fb809e0",
   "metadata": {
    "slideshow": {
     "slide_type": "subslide"
    }
   },
   "source": [
    "<ul>\n",
    "    <li style=\"color: #ff5200\"><p style=\"font-family: Open Sans; color: #2B6264\">We discussed that although the pattern for working with Properties is broadly the same across entities, the APIs are specific to each entity type i.e. Instruments, Portfolios, Legal Entities etc. and may have some differences in behaviour.</p></li>\n",
    "</ul>"
   ]
  },
  {
   "cell_type": "markdown",
   "id": "8d5db342",
   "metadata": {
    "slideshow": {
     "slide_type": "fragment"
    }
   },
   "source": [
    "<ul>\n",
    "    <li style=\"color: #ff5200\"><p style=\"font-family: Open Sans; color: #2B6264\">We updated the value of our Perpetual \"Issuer\" Property using the LUSID Upsert Instruments Properties API via the Python SDK.</p></li>\n",
    "</ul>"
   ]
  },
  {
   "cell_type": "markdown",
   "id": "a97f199b",
   "metadata": {
    "slideshow": {
     "slide_type": "subslide"
    }
   },
   "source": [
    "<ul>\n",
    "    <li style=\"color: #ff5200\"><p style=\"font-family: Open Sans; color: #2B6264\">We decorated our Property value onto our Instrument using the LUSID Get Instrument API by specifying the Property Key for our Perpetual \"Issuer\" Property.</p></li>\n",
    "</ul>"
   ]
  },
  {
   "cell_type": "markdown",
   "id": "9534a4cd",
   "metadata": {
    "slideshow": {
     "slide_type": "fragment"
    }
   },
   "source": [
    "<ul>\n",
    "    <li style=\"color: #ff5200\"><p style=\"font-family: Open Sans; color: #2B6264\">We explored how the value of a Perpetual Property changes based on the provided asAt and effectiveAt date times. We saw that it only varies with respect to the asAt date time.</p></li>\n",
    "</ul>"
   ]
  },
  {
   "cell_type": "markdown",
   "id": "e16b834a",
   "metadata": {
    "slideshow": {
     "slide_type": "subslide"
    }
   },
   "source": [
    "<ul>\n",
    "    <li style=\"color: #ff5200\"><p style=\"font-family: Open Sans; color: #2B6264\">We looked at all the possible shapes of a Property value including a Label Value, Metric Value and Label Value Set. We understood how we can determine which shape a Property value will take based on the Constraint Style and the Type of the Property Definition.</p></li>\n",
    "</ul>"
   ]
  }
 ],
 "metadata": {
  "celltoolbar": "Slideshow",
  "kernelspec": {
   "display_name": "Python 3",
   "language": "python",
   "name": "python3"
  },
  "language_info": {
   "codemirror_mode": {
    "name": "ipython",
    "version": 3
   },
   "file_extension": ".py",
   "mimetype": "text/x-python",
   "name": "python",
   "nbconvert_exporter": "python",
   "pygments_lexer": "ipython3",
   "version": "3.10.8"
  },
  "toc": {
   "base_numbering": 1,
   "nav_menu": {},
   "number_sections": false,
   "sideBar": true,
   "skip_h1_title": false,
   "title_cell": "Table of Contents",
   "title_sidebar": "Contents",
   "toc_cell": false,
   "toc_position": {},
   "toc_section_display": true,
   "toc_window_display": false
  },
  "varInspector": {
   "cols": {
    "lenName": 16,
    "lenType": 16,
    "lenVar": 40
   },
   "kernels_config": {
    "python": {
     "delete_cmd_postfix": "",
     "delete_cmd_prefix": "del ",
     "library": "var_list.py",
     "varRefreshCmd": "print(var_dic_list())"
    },
    "r": {
     "delete_cmd_postfix": ") ",
     "delete_cmd_prefix": "rm(",
     "library": "var_list.r",
     "varRefreshCmd": "cat(var_dic_list()) "
    }
   },
   "types_to_exclude": [
    "module",
    "function",
    "builtin_function_or_method",
    "instance",
    "_Feature"
   ],
   "window_display": false
  }
 },
 "nbformat": 4,
 "nbformat_minor": 5
}
