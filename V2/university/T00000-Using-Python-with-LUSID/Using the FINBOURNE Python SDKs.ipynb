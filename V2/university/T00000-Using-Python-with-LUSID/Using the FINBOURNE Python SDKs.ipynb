{
 "cells": [
  {
   "cell_type": "markdown",
   "id": "1f4e526d",
   "metadata": {
    "slideshow": {
     "slide_type": "slide"
    }
   },
   "source": [
    "## Using the FINBOURNE Python SDKs"
   ]
  },
  {
   "cell_type": "markdown",
   "id": "c58de81e",
   "metadata": {
    "slideshow": {
     "slide_type": "subslide"
    }
   },
   "source": [
    "We provide many tools for interacting with FINBOURNE products in Python and Jupyter.\n",
    "\n",
    "The FINBOURNE Python SDKs provides a set of objects and functions which enable you to call our APIs without having to write any direct http or serialisation code. We also provide other manually-written packages which make interacting with LUSID programmatically easier.\n",
    "In this section we'll:\n",
    "- Introduce the FINBOURNE Python SDKs, describing how they are used.\n",
    "- Describe some of the tools for interacting with LUSID in our hosted Jupyter environment."
   ]
  },
  {
   "cell_type": "markdown",
   "id": "0baab167",
   "metadata": {
    "slideshow": {
     "slide_type": "subslide"
    }
   },
   "source": [
    "### Authentication\n",
    "We have a set of SDKs such as the lusid-sdk-python, drive-sdk-python and finbourne-access-sdk-python, all hosted on Pypi. These SDKs provide api objects, with methods that can be used to perform actions in LUSID."
   ]
  },
  {
   "cell_type": "code",
   "execution_count": null,
   "id": "173bf6fe",
   "metadata": {},
   "outputs": [],
   "source": [
    "!pip3 install -U lusid-sdk"
   ]
  },
  {
   "cell_type": "markdown",
   "id": "d5a1218d",
   "metadata": {
    "slideshow": {
     "slide_type": "subslide"
    }
   },
   "source": [
    "All authenticated calls to the LUSID API require an OpenID Connect ID token which is issued from your token issuer url. The details of these can be found on your LUSID portal under \"Applications\" within the \"Identity and Access Management\" section.\n",
    "\n",
    "This is explained in greater detail in our [knowledge base.](https://support.lusid.com/knowledgebase/article/KA-01667/en-us)"
   ]
  },
  {
   "cell_type": "code",
   "execution_count": 2,
   "id": "f113ccff",
   "metadata": {
    "slideshow": {
     "slide_type": "subslide"
    }
   },
   "outputs": [
    {
     "name": "stderr",
     "output_type": "stream",
     "text": [
      "Unable to open secrets file c:\\Users\\MollyMcDonagh\\Dev\\GitLab\\notebooks\\public\\V2\\university\\secrets.json\n"
     ]
    },
    {
     "name": "stdout",
     "output_type": "stream",
     "text": [
      "\n",
      "['AborApi', 'AborConfigurationApi', 'AddressKeyDefinitionApi', 'AggregationApi', 'AllocationsApi', 'AmortisationRuleSetsApi', 'ApplicationMetadataApi', 'BlocksApi', 'CalendarsApi', 'ChartOfAccountsApi', 'ComplexMarketDataApi', 'ComplianceApi', 'ConfigurationRecipeApi', 'ConventionsApi', 'CorporateActionSourcesApi', 'CounterpartiesApi', 'CustomEntitiesApi', 'CustomEntityDefinitionsApi', 'CustomEntityTypesApi', 'CutLabelDefinitionsApi', 'DataTypesApi', 'DerivedTransactionPortfoliosApi', 'EntitiesApi', 'ExecutionsApi', 'FeeTypesApi', 'FundConfigurationApi', 'FundsApi', 'GroupReconciliationsApi', 'InstrumentEventTypesApi', 'InstrumentEventsApi', 'InstrumentsApi', 'LegacyComplianceApi', 'LegalEntitiesApi', 'OrderGraphApi', 'OrderInstructionsApi', 'OrderManagementApi', 'OrdersApi', 'PackagesApi', 'ParticipationsApi', 'PersonsApi', 'PlacementsApi', 'PortfolioGroupsApi', 'PortfoliosApi', 'PropertyDefinitionsApi', 'QueryableKeysApi', 'QuotesApi', 'ReconciliationsApi', 'ReferenceListsApi', 'ReferencePortfolioApi', 'RelationDefinitionsApi', 'RelationsApi', 'RelationshipDefinitionsApi', 'RelationshipsApi', 'RiskModelFactorSetsApi', 'SchemasApi', 'ScopesApi', 'ScriptedTranslationApi', 'SearchApi', 'SequencesApi', 'StagedModificationsApi', 'StagingRuleSetApi', 'StructuredResultDataApi', 'SystemConfigurationApi', 'TaxRuleSetsApi', 'TimelinesApi', 'TransactionConfigurationApi', 'TransactionFeesApi', 'TransactionPortfoliosApi', 'TranslationApi', 'WorkspaceApi']\n"
     ]
    }
   ],
   "source": [
    "import lusid\n",
    "import os\n",
    "from lusidjam import RefreshingToken\n",
    "from lusid.extensions import (\n",
    "    SyncApiClientFactory,\n",
    "    ArgsConfigurationLoader,\n",
    "    EnvironmentVariablesConfigurationLoader,\n",
    "    SecretsFileConfigurationLoader\n",
    ")\n",
    "\n",
    "try:\n",
    "    # Authenticate to SDK\n",
    "    # Run the Notebook in Jupyterhub for your LUSID domain and authenticate automatically\n",
    "    secrets_path = os.getenv(\"FBN_SECRETS_PATH\")\n",
    "    # Run the Notebook locally using a secrets file (see https://support.lusid.com/docs/how-do-i-use-an-api-access-token-with-the-lusid-sdk)\n",
    "    if secrets_path is None:\n",
    "        secrets_path = os.path.join(os.path.dirname(os.getcwd()), \"secrets.json\")\n",
    "        print()\n",
    "\n",
    "    # Initiate an API Factory which is the client side object for interacting with LUSID APIs\n",
    "    config_loaders=[\n",
    "        ArgsConfigurationLoader(access_token = RefreshingToken(), app_name = \"LusidJupyterNotebook\"),\n",
    "        EnvironmentVariablesConfigurationLoader(),\n",
    "        SecretsFileConfigurationLoader(secrets_path)]\n",
    "    api_factory = SyncApiClientFactory(config_loaders=config_loaders)\n",
    "    \n",
    "    print([api for api in dir(lusid.api) if \"Api\" in api])\n",
    "except Exception as e:\n",
    "    print(e)\n",
    "\n"
   ]
  },
  {
   "cell_type": "markdown",
   "id": "6ed26b82",
   "metadata": {
    "slideshow": {
     "slide_type": "notes"
    }
   },
   "source": [
    "Here's an example using the LUSID Python sdk. We initialise an `api_factory` using our access details, which can be provided in either a secrets json file, or as environment variables. Here we have some environment variables set, we use `RefreshingToken` to grab a token using these environment variables.\n",
    "\n",
    "We then print a list of the APIs available in the LUSID SDK."
   ]
  },
  {
   "cell_type": "code",
   "execution_count": null,
   "id": "4d1a2f40",
   "metadata": {
    "scrolled": true,
    "slideshow": {
     "slide_type": "subslide"
    }
   },
   "outputs": [],
   "source": [
    "try:\n",
    "    api_instance = api_factory.build(lusid.ApplicationMetadataApi)\n",
    "    # GetLusidVersions: Get LUSID versions\n",
    "    api_response = api_instance.get_lusid_versions()\n",
    "    print(api_response)\n",
    "except lusid.rest.ApiException as e:\n",
    "    print(\"Exception when calling ApplicationMetadataApi->get_lusid_versions: %s\\n\" % e)\n"
   ]
  },
  {
   "cell_type": "markdown",
   "id": "5dd93e0f",
   "metadata": {
    "slideshow": {
     "slide_type": "notes"
    }
   },
   "source": [
    "Here, we use our `api_factory` to build an `ApplicationMetadatApi` object, which we can use to send requests for our ApplicationMetadata REST endpoints.\n",
    "We then call the `get_lusid_versions` method on this object, which sends a request to the ApplicationMetadataApi->get_lusid_versions endpoint, returning the result as a JSON string."
   ]
  },
  {
   "cell_type": "markdown",
   "id": "3babbd50",
   "metadata": {
    "slideshow": {
     "slide_type": "subslide"
    }
   },
   "source": [
    "### Tools for interacting with LUSID in our hosted Jupyter environment\n",
    "We provide a Jupyter environment that you can access and use to interactively write Python and .NET scripts. In our Jupyter environment, the SDKs come installed by default."
   ]
  },
  {
   "cell_type": "markdown",
   "id": "cb1485fc",
   "metadata": {
    "slideshow": {
     "slide_type": "subslide"
    }
   },
   "source": [
    "We provide the `lusidjam` library, which can be used to provide an authentication token without re-entering credentials into your Python scripts:"
   ]
  },
  {
   "cell_type": "code",
   "execution_count": null,
   "id": "7206036e",
   "metadata": {
    "slideshow": {
     "slide_type": "subslide"
    }
   },
   "outputs": [],
   "source": [
    "\n",
    "config_loaders=[\n",
    "    ArgsConfigurationLoader(access_token = RefreshingToken(), app_name = \"LusidJupyterNotebook\"),\n",
    "    EnvironmentVariablesConfigurationLoader(),\n",
    "    SecretsFileConfigurationLoader(secrets_path)\n",
    "]\n",
    "\n",
    "api_factory = lusid.extensions.SyncApiClientFactory(config_loaders=config_loaders)"
   ]
  },
  {
   "cell_type": "markdown",
   "id": "0a1bac19",
   "metadata": {
    "slideshow": {
     "slide_type": "notes"
    }
   },
   "source": [
    "Here we've built an api-factory using credentials stored in our Jupyter environment."
   ]
  },
  {
   "cell_type": "markdown",
   "id": "840092c9",
   "metadata": {
    "slideshow": {
     "slide_type": "subslide"
    }
   },
   "source": [
    "#### Luminesce cell magic\n",
    "\n",
    "We also provide a custom magic command to query luminesce. The `%%luminesce` command is a magic command which passes the cell query string to Lumipy, which then returns a DataFrame.\n",
    "\n",
    "We recommend using `%%luminesce` cell magic in FINBOURNE's JupyterHub. You can access this from the LUSID web app by navigating to **Additional Tools > Jupyter Notebooks** via the top left menu. Under the hood, when you run a cell with the `%%luminesce` command, JupyterHub passes the cell contents to the following function.\n",
    "\n",
    "**Note**: If you're running a Notebook locally, you must [install Lumipy](https://support.lusid.com/v1/docs/how-do-i-use-lumipy-to-interact-with-luminesce) and run the following two code blocks to enable the cell contents to be passed to LumiPy. If you are using JupyterHub, you can skip straight to the first `%%luminesce` cell magic code block."
   ]
  },
  {
   "cell_type": "code",
   "execution_count": null,
   "id": "dde88481",
   "metadata": {},
   "outputs": [],
   "source": [
    "# Only required if running locally:\n",
    "!pip3 install -U lumipy"
   ]
  },
  {
   "cell_type": "code",
   "execution_count": 20,
   "id": "9d408fd8",
   "metadata": {},
   "outputs": [],
   "source": [
    "## Only required if running locally:\n",
    "import os\n",
    "from IPython.core.magic import (register_line_cell_magic)\n",
    "from lumipy.client import Client\n",
    "from lusidjam import RefreshingToken\n",
    "\n",
    "token = RefreshingToken()\n",
    "lumi_url = os.getenv(\"FBN_LUMI_API_URL\")\n",
    "\n",
    "@register_line_cell_magic\n",
    "def luminesce(line, cell=None):\n",
    "    query = cell if cell is not None else line\n",
    "\n",
    "    try:\n",
    "        lm_client = Client(token=token, api_url=lumi_url)\n",
    "    except TypeError:\n",
    "        # Attempt to use V2 SDK syntax if V1 syntax fails.\n",
    "        # This gives V2 SDK support for luminesce magic\n",
    "        lm_client = Client(access_token=token, api_url=lumi_url)\n",
    "\n",
    "    df = lm_client.query_and_fetch(query)\n",
    "            \n",
    "    return df\n",
    "\n",
    "# In an interactive session, we need to delete to avoid name conflicts for automagic to work on line magics.\n",
    "del luminesce\n"
   ]
  },
  {
   "cell_type": "code",
   "execution_count": null,
   "id": "291f7d8c",
   "metadata": {
    "scrolled": true,
    "slideshow": {
     "slide_type": "subslide"
    }
   },
   "outputs": [],
   "source": [
    "%%luminesce\n",
    "SELECT * FROM Lusid.Instrument.Equity LIMIT 10"
   ]
  },
  {
   "cell_type": "markdown",
   "id": "fd962965",
   "metadata": {
    "slideshow": {
     "slide_type": "notes"
    }
   },
   "source": [
    "This cell magic runs any statement in the cell below the magic command, displaying a pandas dataframe containing the output of the Luminesce query."
   ]
  },
  {
   "cell_type": "code",
   "execution_count": null,
   "id": "b6e860a9",
   "metadata": {
    "slideshow": {
     "slide_type": "subslide"
    }
   },
   "outputs": [],
   "source": [
    "results = %luminesce SELECT * FROM Lusid.Instrument.Equity LIMIT 10\n",
    "results.head()"
   ]
  },
  {
   "cell_type": "markdown",
   "id": "40c38073",
   "metadata": {
    "slideshow": {
     "slide_type": "notes"
    }
   },
   "source": [
    "This line magic runs the query on the same line after the magic command, allowing us to use the result of the query in our Python code."
   ]
  }
 ],
 "metadata": {
  "celltoolbar": "Slideshow",
  "kernelspec": {
   "display_name": "Python 3",
   "language": "python",
   "name": "python3"
  },
  "language_info": {
   "codemirror_mode": {
    "name": "ipython",
    "version": 3
   },
   "file_extension": ".py",
   "mimetype": "text/x-python",
   "name": "python",
   "nbconvert_exporter": "python",
   "pygments_lexer": "ipython3",
   "version": "3.10.8"
  },
  "toc": {
   "base_numbering": 1,
   "nav_menu": {},
   "number_sections": false,
   "sideBar": true,
   "skip_h1_title": false,
   "title_cell": "Table of Contents",
   "title_sidebar": "Contents",
   "toc_cell": false,
   "toc_position": {},
   "toc_section_display": true,
   "toc_window_display": false
  },
  "varInspector": {
   "cols": {
    "lenName": 16,
    "lenType": 16,
    "lenVar": 40
   },
   "kernels_config": {
    "python": {
     "delete_cmd_postfix": "",
     "delete_cmd_prefix": "del ",
     "library": "var_list.py",
     "varRefreshCmd": "print(var_dic_list())"
    },
    "r": {
     "delete_cmd_postfix": ") ",
     "delete_cmd_prefix": "rm(",
     "library": "var_list.r",
     "varRefreshCmd": "cat(var_dic_list()) "
    }
   },
   "types_to_exclude": [
    "module",
    "function",
    "builtin_function_or_method",
    "instance",
    "_Feature"
   ],
   "window_display": false
  }
 },
 "nbformat": 4,
 "nbformat_minor": 5
}
