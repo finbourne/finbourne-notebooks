{
 "cells": [
  {
   "cell_type": "code",
   "execution_count": null,
   "id": "27cdd10f",
   "metadata": {
    "slideshow": {
     "slide_type": "skip"
    }
   },
   "outputs": [],
   "source": [
    "from finbourne_sdk_utils.jupyter_tools import toggle_code\n",
    "\n",
    "\"\"\"Luminesce Providers and Views\n",
    "\n",
    "Attributes\n",
    "----------\n",
    "\n",
    "\"\"\"\n",
    "\n",
    "toggle_code(\"Toggle Docstring\")"
   ]
  },
  {
   "cell_type": "code",
   "execution_count": null,
   "id": "6ee7044a",
   "metadata": {
    "slideshow": {
     "slide_type": "skip"
    }
   },
   "outputs": [],
   "source": [
    "from lusid.extensions import (\n",
    "    SyncApiClientFactory,\n",
    "    ArgsConfigurationLoader,\n",
    "    EnvironmentVariablesConfigurationLoader,\n",
    "    SecretsFileConfigurationLoader\n",
    ")\n",
    "from lusidjam import RefreshingToken\n",
    "import os\n",
    "import lusid as lu\n",
    "import lusid.models as lm\n",
    "import pandas as pd\n",
    "import lusid_drive\n",
    "import lusid_drive.rest\n",
    "import lusid.rest\n",
    "from lusid_drive.rest import ApiException\n",
    "from pprint import pprint\n",
    "import json\n",
    "\n",
    "pd.set_option('display.max_colwidth', None)\n",
    "\n",
    "# Authenticate to SDK\n",
    "# Run the Notebook in Jupyterhub for your LUSID domain and authenticate automatically\n",
    "secrets_path = os.getenv(\"FBN_SECRETS_PATH\")\n",
    "# Run the Notebook locally using a secrets file (see https://support.lusid.com/docs/how-do-i-use-an-api-access-token-with-the-lusid-sdk)\n",
    "if secrets_path is None:\n",
    "    secrets_path = os.path.join(os.path.dirname(os.getcwd()), \"secrets.json\")\n",
    "\n",
    "# Initiate an API Factory which is the client side object for interacting with LUSID APIs\n",
    "config_loaders=[\n",
    "    ArgsConfigurationLoader(access_token = RefreshingToken(), app_name = \"LusidJupyterNotebook\"),\n",
    "    EnvironmentVariablesConfigurationLoader(),\n",
    "    SecretsFileConfigurationLoader(secrets_path)]\n",
    "api_factory = lusid.extensions.SyncApiClientFactory(config_loaders=config_loaders)\n",
    " \n",
    "# Confirm success by printing SDK version\n",
    "api_status = pd.DataFrame(api_factory.build(lu.ApplicationMetadataApi).get_lusid_versions().to_dict())\n",
    "display(api_status)"
   ]
  },
  {
   "cell_type": "code",
   "execution_count": 3,
   "id": "dda3e232",
   "metadata": {
    "slideshow": {
     "slide_type": "skip"
    }
   },
   "outputs": [],
   "source": [
    "# here's some sample equities we've prepared earlier\n",
    "uk_equity_instruments = pd.read_csv('_data/uk_equity_instruments.csv')\n",
    "us_equity_instruments = pd.read_csv('_data/us_equity_instruments.csv')"
   ]
  },
  {
   "cell_type": "code",
   "execution_count": 4,
   "id": "e39527bc",
   "metadata": {
    "slideshow": {
     "slide_type": "skip"
    }
   },
   "outputs": [],
   "source": [
    "# don't show exception if error is due to upsert\n",
    "def exception_guard(e, code):\n",
    "    return e.status and e.status != '400 Bad Request' and e.body and json.loads(e.body)[\"code\"] == code\n",
    "\n",
    "scope = 'FBNUniversity' # str | The scope of the portfolio."
   ]
  },
  {
   "cell_type": "code",
   "execution_count": 5,
   "id": "65e9eabd",
   "metadata": {
    "slideshow": {
     "slide_type": "skip"
    }
   },
   "outputs": [],
   "source": [
    "\n",
    "# create a request to upsert a bunch of instruments.\n",
    "def generate_upsert_instrument_request(api_instance, name, ccy, figi, isin, other_identifier_name, other_identifier):\n",
    "    request_id = name + isin\n",
    "    request ={\"name\":name,\n",
    "              \"identifiers\":{ \n",
    "                  \"Figi\":{\"value\":figi},\n",
    "                  \"Isin\":{\"value\":isin},\n",
    "                  other_identifier_name:{\"value\":other_identifier}\n",
    "                },\n",
    "              \"definition\":lm.Equity(\n",
    "                              instrument_type = \"Equity\",\n",
    "                              dom_ccy = ccy,\n",
    "                              identifiers = {}\n",
    "                          )\n",
    "    }\n",
    "    return request_id, request"
   ]
  },
  {
   "cell_type": "code",
   "execution_count": 6,
   "id": "546b8186",
   "metadata": {
    "slideshow": {
     "slide_type": "skip"
    }
   },
   "outputs": [],
   "source": [
    "# Create an instance of the API class\n",
    "api_instance = api_factory.build(lu.InstrumentsApi)\n",
    "\n",
    "# We're going to load some american and UK equities into LUSID\n",
    "\n",
    "other_identifier_name = 'Sedol'\n",
    "ccy = 'GBP'\n",
    "upsert_body_tuple = (generate_upsert_instrument_request(api_instance, name, ccy, figi, isin, other_identifier_name, other_identifier)\n",
    "               for \n",
    "               index, ticker, name, _, isin, other_identifier, figi\n",
    "               in uk_equity_instruments.itertuples())\n",
    "uk_equity_body_dict = {request_id:request_body for request_id,request_body in upsert_body_tuple}\n",
    "other_identifier_name = 'Cusip'\n",
    "ccy = 'USD'\n",
    "upsert_body_tuple = (generate_upsert_instrument_request(api_instance, name, ccy, figi, isin, other_identifier_name, other_identifier)\n",
    "               for \n",
    "               index, ticker, name, _, isin, other_identifier, figi\n",
    "               in us_equity_instruments.itertuples())\n",
    "us_equity_body_dict = {request_id:request_body for request_id,request_body in upsert_body_tuple}\n",
    "\n",
    "request_body_dict = us_equity_body_dict | uk_equity_body_dict\n",
    "\n",
    "try:\n",
    "    # UpsertInstruments: Upsert instruments\n",
    "    api_response = api_instance.upsert_instruments(request_body_dict, scope=scope)\n",
    "#     pprint(api_response)\n",
    "except lusid.rest.ApiException as e:\n",
    "    print(\"Exception when calling InstrumentsApi->upsert_instruments: %s\\n\" % e)"
   ]
  },
  {
   "cell_type": "code",
   "execution_count": 7,
   "id": "97b1bfc7",
   "metadata": {
    "slideshow": {
     "slide_type": "skip"
    }
   },
   "outputs": [],
   "source": [
    "api_instance = api_factory.build(lu.TransactionPortfoliosApi)\n",
    "code = 'Module-T2-3' # str | The code of the portfolio. Together with the scope this uniquely identifies the portfolio.\n",
    "create_transaction_portfolio_request = {\"displayName\":\"Training module T2.3\", \"baseCurrency\":\"GBP\", \"code\":code} # UpdatePortfolioRequest | The updated portfolio definition.\n",
    "try:\n",
    "    # CreatePortfolio: Create portfolio\n",
    "    api_response = api_instance.create_portfolio(scope, create_transaction_portfolio_request)\n",
    "except lusid.rest.ApiException as e:\n",
    "    if not exception_guard(e, 112):\n",
    "        print(e)\n",
    "        "
   ]
  },
  {
   "cell_type": "code",
   "execution_count": null,
   "id": "e5379aa2",
   "metadata": {
    "slideshow": {
     "slide_type": "skip"
    }
   },
   "outputs": [],
   "source": [
    "\n",
    "from lusid_drive.extensions import (\n",
    "    SyncApiClientFactory,\n",
    "    ArgsConfigurationLoader,\n",
    "    EnvironmentVariablesConfigurationLoader,\n",
    "    SecretsFileConfigurationLoader\n",
    ")\n",
    "from lusid_drive.models import *\n",
    "\n",
    "# Authenticate to SDK\n",
    "# Run the Notebook in Jupyterhub for your LUSID domain and authenticate automatically\n",
    "secrets_path = os.getenv(\"FBN_SECRETS_PATH\")\n",
    "api_url_drive = os.getenv(\"FBN_DRIVE_API_URL\")\n",
    "# Run the Notebook locally using a secrets file (see https://support.lusid.com/docs/how-do-i-use-an-api-access-token-with-the-lusid-sdk)\n",
    "if secrets_path is None:\n",
    "    secrets_path = os.path.join(os.path.dirname(os.getcwd()), \"secrets.json\")\n",
    "\n",
    "# Initiate an API Factory which is the client side object for interacting with LUSID APIs\n",
    "config_loaders_drive=[\n",
    "    ArgsConfigurationLoader(access_token = RefreshingToken(), app_name = \"LusidJupyterNotebook\", api_url=api_url_drive),\n",
    "    EnvironmentVariablesConfigurationLoader(),\n",
    "    SecretsFileConfigurationLoader(secrets_path)]\n",
    "api_factory_drive = lusid_drive.extensions.SyncApiClientFactory(config_loaders=config_loaders_drive)\n",
    " \n",
    "folders_api = api_factory_drive.build(lusid_drive.api.FoldersApi)\n",
    "\n",
    "# let's chuck a file containing a randomly selected subset of 25 instruments with their sectors into drive for some examples:\n",
    "subset_file = open('_data/instrument_subset.csv').read()\n",
    "create_folder = {\"path\":\"/\",\"name\":\"FBN-University\"} # CreateFolder | A CreateFolder object that defines the name and path of the new folder\n",
    "\n",
    "try:\n",
    "    # [EARLY ACCESS] CreateFolder: Create a new folder in LUSID Drive\n",
    "    api_response = folders_api.create_folder(create_folder)\n",
    "    pprint(api_response)\n",
    "except ApiException as e:\n",
    "    if not exception_guard(e, 664):\n",
    "        print(\"Exception when calling FilesApi->create_file: %s\\n\" % e)\n",
    "    \n",
    "files_api = api_factory_drive.build(lusid_drive.api.FilesApi)\n",
    "    \n",
    "x_lusid_drive_filename = 'instrument_subset_T02003.csv' # str | File name.\n",
    "x_lusid_drive_path = '/FBN-University/' # str | File path.\n",
    "content_length = len(subset_file.encode('UTF-8'))\n",
    "body = subset_file # str | \n",
    "\n",
    "try:\n",
    "    # [EARLY ACCESS] CreateFile: Uploads a file to Lusid Drive. If using an SDK, consider using the UploadAsStreamAsync function for larger files instead.\n",
    "    api_response = files_api.create_file(x_lusid_drive_filename, x_lusid_drive_path, content_length, body)\n",
    "except lusid_drive.rest.ApiException as e:\n",
    "    if not exception_guard(e, 671):\n",
    "        print(\"Exception when calling FilesApi->create_file: %s\\n\" % e)\n",
    "\n",
    "display(api_response)"
   ]
  },
  {
   "cell_type": "markdown",
   "id": "508893ab",
   "metadata": {
    "slideshow": {
     "slide_type": "slide"
    }
   },
   "source": [
    "# Providers and Views\n"
   ]
  },
  {
   "cell_type": "markdown",
   "id": "087ea2df",
   "metadata": {
    "slideshow": {
     "slide_type": "fragment"
    }
   },
   "source": [
    "A provider is a component that enables you to write a Luminesce SQL query for a data source in situ, without first having to extract, transform or load data from that source.\n",
    "\n",
    "We supply providers for numerous data sources, including for the investment data stored in LUSID itself and for files stored in Drive."
   ]
  },
  {
   "cell_type": "markdown",
   "id": "ef08dd28",
   "metadata": {
    "slideshow": {
     "slide_type": "subslide"
    }
   },
   "source": [
    "In this part of the course we will cover:"
   ]
  },
  {
   "cell_type": "markdown",
   "id": "427c6d8e",
   "metadata": {
    "slideshow": {
     "slide_type": "fragment"
    }
   },
   "source": [
    "- Data providers\n",
    "- Direct providers\n",
    "- Write providers\n",
    "- Provider parameters\n",
    "- Using Luminesce views\n",
    "- Writing Luminesce views"
   ]
  },
  {
   "cell_type": "markdown",
   "id": "a40df230",
   "metadata": {
    "slideshow": {
     "slide_type": "slide"
    }
   },
   "source": [
    "## Data providers"
   ]
  },
  {
   "cell_type": "markdown",
   "id": "6832062e",
   "metadata": {
    "slideshow": {
     "slide_type": "fragment"
    }
   },
   "source": [
    "A data provider is designed to query a data source whose shape is known. It therefore returns a table of results with a fixed number of fields (columns).\n",
    "\n",
    "Most of the providers we supply to query the investment management data stored in LUSID itself are data providers with a fixed number of fields, making it easier to query the data using standard SQL query syntax and luminesce extensions.\n",
    "\n",
    "A data provider does not have to query a datasource, as long as it returns some data.For example, we supply providers that perform calculations on demand, such as `Lusid.Portfolio.Valuation`, where the data returned doesn't actually exist anywhere but rather is calculated each time the provider is queried."
   ]
  },
  {
   "cell_type": "markdown",
   "id": "66fdab87",
   "metadata": {
    "slideshow": {
     "slide_type": "slide"
    }
   },
   "source": [
    "## Direct providers "
   ]
  },
  {
   "cell_type": "markdown",
   "id": "b917316d",
   "metadata": {
    "slideshow": {
     "slide_type": "fragment"
    }
   },
   "source": [
    "A direct provider is designed to query a data source whose shape is not known, and thus cannot return a table of results with a fixed number of fields (columns).\n",
    "\n",
    "A Luminesce query for a direct provider uses an arbitrary syntax, which may differ for each provider, and is defined by the writer of the provider. \n",
    "\n",
    "    @variable = use Some.Provider [wait]\n",
    "    <arbitrary-syntax>\n",
    "    enduse;\n",
    "    select * from @variable"
   ]
  },
  {
   "cell_type": "markdown",
   "id": "56890c1e",
   "metadata": {
    "slideshow": {
     "slide_type": "fragment"
    }
   },
   "source": [
    "\n",
    "    \n",
    "Some direct providers can also interpolate table and scalar parameters into their arbritrary syntax, enabling the use of parameters within the direct provider query using the WITH syntax:\n",
    "\n",
    "    @@today = select strftime('%Y%m%d', 'now');\n",
    "    @table_of_results = use Drive.Csv with @@today\n",
    "    --file=/trade-files/eod-{@@today}.csv\n",
    "    --noHeader\n",
    "    --names=Equity,Units,Cost\n",
    "    enduse;\n",
    "    select * from @table_of_results\n"
   ]
  },
  {
   "cell_type": "markdown",
   "id": "ea71804e",
   "metadata": {
    "slideshow": {
     "slide_type": "slide"
    }
   },
   "source": [
    "## Write providers"
   ]
  },
  {
   "cell_type": "markdown",
   "id": "783187b7",
   "metadata": {
    "slideshow": {
     "slide_type": "fragment"
    }
   },
   "source": [
    "As mentioned earlier, data providers aren't limited to reading data from a datasource. Some providers' primary role is to write data to some target.\n",
    "\n",
    "Using a write provider is straightforward. Query the Provider passing the data you'd like to write as parameters to fields specified by the provider, for example:\n",
    "\n",
    "    @table_of_data = <select-statement>;\n",
    "    select * from <Provider>.Writer where toWrite = @table_of_data;\n",
    "    \n",
    "By convention, many write providers accept a table of values as a parameter, and specify the expected columns in their fields."
   ]
  },
  {
   "cell_type": "markdown",
   "id": "1253a10b",
   "metadata": {
    "slideshow": {
     "slide_type": "slide"
    }
   },
   "source": [
    "## Examples of Lusid Providers"
   ]
  },
  {
   "cell_type": "markdown",
   "id": "b0a87a3c",
   "metadata": {
    "slideshow": {
     "slide_type": "notes"
    }
   },
   "source": [
    "In this section we'll demonstrate some simple examples using the different types of provider."
   ]
  },
  {
   "cell_type": "code",
   "execution_count": null,
   "id": "3f67a38e",
   "metadata": {},
   "outputs": [],
   "source": [
    "# Only required if running locally:\n",
    "!pip3 install -U lumipy"
   ]
  },
  {
   "cell_type": "code",
   "execution_count": 10,
   "id": "4cb1a125",
   "metadata": {},
   "outputs": [],
   "source": [
    "## Only required if running locally:\n",
    "import os\n",
    "from IPython.core.magic import (register_line_cell_magic)\n",
    "from lumipy.client import Client\n",
    "from lusidjam import RefreshingToken\n",
    "\n",
    "token = RefreshingToken()\n",
    "lumi_url = os.getenv(\"FBN_LUMI_API_URL\")\n",
    "\n",
    "@register_line_cell_magic\n",
    "def luminesce(line, cell=None):\n",
    "    query = cell if cell is not None else line\n",
    "\n",
    "    try:\n",
    "        lm_client = Client(token=token, api_url=lumi_url)\n",
    "    except TypeError:\n",
    "        # Attempt to use V2 SDK syntax if V1 syntax fails.\n",
    "        # This gives V2 SDK support for luminesce magic\n",
    "        lm_client = Client(access_token=token, api_url=lumi_url)\n",
    "\n",
    "    df = lm_client.query_and_fetch(query)\n",
    "            \n",
    "    return df\n",
    "\n",
    "# In an interactive session, we need to delete to avoid name conflicts for automagic to work on line magics.\n",
    "del luminesce"
   ]
  },
  {
   "cell_type": "markdown",
   "id": "407198c2",
   "metadata": {
    "slideshow": {
     "slide_type": "subslide"
    }
   },
   "source": [
    "### Data Providers\n"
   ]
  },
  {
   "cell_type": "markdown",
   "id": "c2b7d735",
   "metadata": {
    "slideshow": {
     "slide_type": "subslide"
    }
   },
   "source": [
    "#### Lusid.Instrument.Equity Provider"
   ]
  },
  {
   "cell_type": "markdown",
   "id": "be80b6b6",
   "metadata": {
    "slideshow": {
     "slide_type": "fragment"
    }
   },
   "source": [
    "Luminesce has a number of `Lusid.Instrument` providers that enable you to write a Luminesce query to retrieve instruments mastered in LUSID.\n",
    "\n",
    "The generic `Lusid.Instrument` provider retrieves basic information about instruments of any asset class. Dedicated providers retrieve instruments of a particular asset class, for example `Lusid.Instrument.Bond` retrieves the full economic definition of bond instruments."
   ]
  },
  {
   "cell_type": "markdown",
   "id": "1e04519c",
   "metadata": {
    "slideshow": {
     "slide_type": "fragment"
    }
   },
   "source": [
    "We'll use the `Lusid.Instrument` Provider to query for the equities we have stored in Lusid. Then we'll use the `Lusid.Instrument.Equity` Provider to look at the full economic definition of stored equity instruments."
   ]
  },
  {
   "cell_type": "code",
   "execution_count": null,
   "id": "ab42635b",
   "metadata": {
    "slideshow": {
     "slide_type": "subslide"
    }
   },
   "outputs": [],
   "source": [
    "%%luminesce\n",
    "SELECT *\n",
    "FROM Lusid.Instrument\n",
    "LIMIT 100"
   ]
  },
  {
   "cell_type": "markdown",
   "id": "98b5951c",
   "metadata": {
    "slideshow": {
     "slide_type": "notes"
    }
   },
   "source": [
    "The `Lusid.Instrument.Equity` Provider has a couple of extra fields: DomCcy & Identifiers, and will only return Instruments which are equities."
   ]
  },
  {
   "cell_type": "code",
   "execution_count": null,
   "id": "072f0ddf",
   "metadata": {
    "slideshow": {
     "slide_type": "subslide"
    }
   },
   "outputs": [],
   "source": [
    "%%luminesce\n",
    "SELECT DisplayName, DomCcy\n",
    "FROM Lusid.Instrument.Equity\n",
    "LIMIT 100"
   ]
  },
  {
   "cell_type": "markdown",
   "id": "6eea2811",
   "metadata": {
    "slideshow": {
     "slide_type": "slide"
    }
   },
   "source": [
    "#### Lusid.Portfolio Provider"
   ]
  },
  {
   "cell_type": "markdown",
   "id": "ee41e7ef",
   "metadata": {
    "slideshow": {
     "slide_type": "fragment"
    }
   },
   "source": [
    "The `Lusid.Portfolio` provider enables you to write a Luminesce SQL query that retrieves information about one or more portfolios."
   ]
  },
  {
   "cell_type": "code",
   "execution_count": null,
   "id": "9dfa8229",
   "metadata": {
    "slideshow": {
     "slide_type": "subslide"
    }
   },
   "outputs": [],
   "source": [
    "%%luminesce\n",
    "SELECT *\n",
    "FROM Lusid.Portfolio\n",
    "LIMIT 100"
   ]
  },
  {
   "cell_type": "markdown",
   "id": "2eac5ca7",
   "metadata": {
    "slideshow": {
     "slide_type": "notes"
    }
   },
   "source": [
    "Here we've returned all metadata about our Portfolios in Lusid."
   ]
  },
  {
   "cell_type": "markdown",
   "id": "8b98986a",
   "metadata": {
    "slideshow": {
     "slide_type": "slide"
    }
   },
   "source": [
    "#### Lusid.Tools Provider"
   ]
  },
  {
   "cell_type": "markdown",
   "id": "ea22103e",
   "metadata": {
    "slideshow": {
     "slide_type": "fragment"
    }
   },
   "source": [
    "The Lusid.Tools Provider does not query any data. It manipulates the input parameters to return a table. \n",
    "\n",
    "The `Tools.JsonExpand` provider enables you to write a Luminesce query that parses a JSON document into a table of constituent data objects, much like the SQLite json.tree function. We'll use this to demonstrate a data provider that does not query for any external data, instead manipulating the provided parameters."
   ]
  },
  {
   "cell_type": "code",
   "execution_count": null,
   "id": "a8ebea32",
   "metadata": {
    "slideshow": {
     "slide_type": "subslide"
    }
   },
   "outputs": [],
   "source": [
    "%%luminesce\n",
    "@@jsn = SELECT '{\n",
    "    \"characters\":[\n",
    "        {\"name\":\"marge\",\n",
    "         \"age\":36},\n",
    "        {\"name\":\"homer\",\n",
    "         \"age\":40},\n",
    "        {\"name\":\"bart\",\n",
    "         \"age\":9},\n",
    "        {\"name\":\"lisa\",\n",
    "         \"age\":12}\n",
    "    ]\n",
    "}';\n",
    "SELECT * FROM Tools.JsonExpand WHERE JsonString = @@jsn\n"
   ]
  },
  {
   "cell_type": "code",
   "execution_count": null,
   "id": "03176e62",
   "metadata": {
    "slideshow": {
     "slide_type": "subslide"
    }
   },
   "outputs": [],
   "source": [
    "%%luminesce\n",
    "@@jsn = SELECT '{\n",
    "    \"characters\":[\n",
    "        {\"name\":\"marge\",\n",
    "         \"age\":36},\n",
    "        {\"name\":\"homer\",\n",
    "         \"age\":40},\n",
    "        {\"name\":\"bart\",\n",
    "         \"age\":9},\n",
    "        {\"name\":\"lisa\",\n",
    "         \"age\":12}\n",
    "    ]\n",
    "}';\n",
    "@@selection = select \"$.characters[0]\";\n",
    "select * from Tools.JsonExpand where JsonString = @@jsn and RootPath = @@selection"
   ]
  },
  {
   "cell_type": "markdown",
   "id": "f3699e58",
   "metadata": {
    "slideshow": {
     "slide_type": "slide"
    }
   },
   "source": [
    "### Direct Providers"
   ]
  },
  {
   "cell_type": "markdown",
   "id": "c2b10da6",
   "metadata": {
    "slideshow": {
     "slide_type": "fragment"
    }
   },
   "source": [
    "#### Drive.Csv Provider"
   ]
  },
  {
   "cell_type": "markdown",
   "id": "a7512293",
   "metadata": {
    "slideshow": {
     "slide_type": "fragment"
    }
   },
   "source": [
    "The Drive.Csv provider enables you to write a Luminesce query that extracts data from one or more CSV or similar pipe-delimited or row-based text files stored in Drive.\n",
    "We can pass a number of options to the Drive CSV provider, using the syntax `--<option>[=<value>]`"
   ]
  },
  {
   "cell_type": "code",
   "execution_count": null,
   "id": "aeff101b",
   "metadata": {
    "slideshow": {
     "slide_type": "subslide"
    }
   },
   "outputs": [],
   "source": [
    "%%luminesce\n",
    "@x = use Drive.Csv\n",
    "--file=/finbourne university/instrument_subsetT2.3.csv\n",
    "--noHeader\n",
    "--names=Name,Sector,Identifier\n",
    "enduse;\n",
    "select * from @x"
   ]
  },
  {
   "cell_type": "markdown",
   "id": "380aca28",
   "metadata": {
    "slideshow": {
     "slide_type": "notes"
    }
   },
   "source": [
    "Here we've read all data from the `/finbourne university/instrument_subsetT2.3.csv` file in drive. The file has no headers, so we've specified the no headers option, and provided a set of column names to the Provider."
   ]
  },
  {
   "cell_type": "markdown",
   "id": "22d7a216",
   "metadata": {
    "slideshow": {
     "slide_type": "slide"
    }
   },
   "source": [
    "### Write Providers"
   ]
  },
  {
   "cell_type": "markdown",
   "id": "77d1339c",
   "metadata": {
    "slideshow": {
     "slide_type": "subslide"
    }
   },
   "source": [
    "#### Lusid.Instrument.Equity.Writer"
   ]
  },
  {
   "cell_type": "markdown",
   "id": "4097a36e",
   "metadata": {
    "slideshow": {
     "slide_type": "fragment"
    }
   },
   "source": [
    "Many of our Lusid write providers accept a `TableParameter` used to write multiple resources to some part of Lusid.\n"
   ]
  },
  {
   "cell_type": "markdown",
   "id": "5b2fc769",
   "metadata": {
    "slideshow": {
     "slide_type": "fragment"
    }
   },
   "source": [
    "Now we'll use a Write Provider to create some equities by passing a table of equities as a parameter."
   ]
  },
  {
   "cell_type": "markdown",
   "id": "d8c4e1f6",
   "metadata": {
    "slideshow": {
     "slide_type": "fragment"
    }
   },
   "source": [
    "First let's take a look at the table parameter used by the `Lusid.Instruments.Equities` provider, and what the table it expects looks like."
   ]
  },
  {
   "cell_type": "code",
   "execution_count": null,
   "id": "aa67a741",
   "metadata": {
    "slideshow": {
     "slide_type": "subslide"
    }
   },
   "outputs": [],
   "source": [
    "%%luminesce \n",
    "select FieldName, TableParamColumns from Sys.Field where TableName = 'Lusid.Instrument.Equity.Writer' AND DataType = 'Table';"
   ]
  },
  {
   "cell_type": "markdown",
   "id": "d7184cf7",
   "metadata": {
    "slideshow": {
     "slide_type": "notes"
    }
   },
   "source": [
    "We can see there's a `ToWrite` column which accepts a table of equities. By convention, many Lusid write providers use `toWrite` as a table parameter, returning the written values in the table, and some error information.\n",
    "\n",
    "We recommend examining the results of every write query using one or more of the `WriteError`, `WriteErrorCode` and `WriteErrorDetail` fields.\n",
    "\n",
    "For each record in the table of data to write, `Lusid.Portfolio.Writer` returns an error code. If the operation is successful, the error code is 0. If unsuccessful, a positive error code and explanation help you discover why LUSID considers the operation invalid.  "
   ]
  },
  {
   "cell_type": "code",
   "execution_count": null,
   "id": "a94b9fea",
   "metadata": {
    "scrolled": true,
    "slideshow": {
     "slide_type": "subslide"
    }
   },
   "outputs": [],
   "source": [
    "%%luminesce\n",
    "select * from Sys.Field where TableName = 'Lusid.Instrument.Equity.Writer';"
   ]
  },
  {
   "cell_type": "markdown",
   "id": "925bdd35",
   "metadata": {
    "slideshow": {
     "slide_type": "notes"
    }
   },
   "source": [
    "We'll upsert some equities. Looking at the [knowledge-base](https://support.lusid.com/knowledgebase/article/KA-01685/en-us), we can see that the `Equity.Writer` Provider must have a DisplayName, at least one unique-identifier, and a `DomCcy`."
   ]
  },
  {
   "cell_type": "code",
   "execution_count": null,
   "id": "86ca6d76",
   "metadata": {
    "slideshow": {
     "slide_type": "subslide"
    }
   },
   "outputs": [],
   "source": [
    "%%luminesce\n",
    "@inserted_values = SELECT \n",
    "                    'T2.3-Fake-Equity-1' as DisplayName,\n",
    "                    '0000000-000001' as Figi, \n",
    "                    'GBP' as DomCcy\n",
    "                   UNION\n",
    "                   SELECT\n",
    "                   'T2.3 Fake Equity-2' as DisplayName,\n",
    "                   '0000000-000002' as Figi,\n",
    "                   'CHF' as DomCcy;\n",
    "\n",
    "SELECT *\n",
    "FROM @inserted_values;"
   ]
  },
  {
   "cell_type": "code",
   "execution_count": null,
   "id": "667b4c75",
   "metadata": {
    "slideshow": {
     "slide_type": "subslide"
    }
   },
   "outputs": [],
   "source": [
    "%%luminesce\n",
    "@inserted_values = SELECT \n",
    "                    'T2.3-Fake-Equity-1' as DisplayName,\n",
    "                    '0000000-000001' as Figi, \n",
    "                    'GBP' as DomCcy\n",
    "                   UNION\n",
    "                   SELECT\n",
    "                   'T2.3 Fake Equity-2' as DisplayName,\n",
    "                   '0000000-000002' as Figi,\n",
    "                   'CHF' as DomCcy;\n",
    "\n",
    "SELECT * FROM Lusid.Instrument.Equity.Writer WHERE toWrite = @inserted_values;"
   ]
  },
  {
   "cell_type": "markdown",
   "id": "88d404a6",
   "metadata": {
    "slideshow": {
     "slide_type": "notes"
    }
   },
   "source": [
    "As you can see, a table is returned with the values we've written, some values auto-created by LUSID, and error information (if there was an error)."
   ]
  },
  {
   "cell_type": "markdown",
   "id": "702772ec",
   "metadata": {
    "slideshow": {
     "slide_type": "slide"
    }
   },
   "source": [
    "#### Drive.SaveAs"
   ]
  },
  {
   "cell_type": "markdown",
   "id": "81b9b6ed",
   "metadata": {
    "slideshow": {
     "slide_type": "fragment"
    }
   },
   "source": [
    "The `Drive.SaveAs` Provider is a Direct Provider that allows you to write tables of data to different types of file. As its a direct provider that has its own arbritrary syntax used to tell the Provider what data to write, to which file type, and how to write the data."
   ]
  },
  {
   "cell_type": "code",
   "execution_count": null,
   "id": "27e0175f",
   "metadata": {
    "slideshow": {
     "slide_type": "subslide"
    }
   },
   "outputs": [],
   "source": [
    "%%luminesce\n",
    "@inserted_file = SELECT\n",
    "                'Marge' as CharacterName,\n",
    "                '35' as Age, \n",
    "                'Married' as Status;\n",
    "SELECT * FROM @inserted_file;"
   ]
  },
  {
   "cell_type": "code",
   "execution_count": null,
   "id": "c04274a1",
   "metadata": {
    "slideshow": {
     "slide_type": "subslide"
    }
   },
   "outputs": [],
   "source": [
    "%%luminesce\n",
    "@inserted_file = SELECT\n",
    "                'Marge' as CharacterName,\n",
    "                '35' as Age, \n",
    "                'Married' as Status;\n",
    "                 \n",
    "@x = use Drive.SaveAs with @inserted_file\n",
    "--path=/finbourne university\n",
    "--fileNames=simpsons\n",
    "--type=Csv\n",
    "enduse;\n",
    "select * from @x"
   ]
  },
  {
   "cell_type": "markdown",
   "id": "e86a88e1",
   "metadata": {
    "slideshow": {
     "slide_type": "notes"
    }
   },
   "source": [
    "We can see from the table that a simpsons.csv file has been written to drive, containing one row."
   ]
  },
  {
   "cell_type": "markdown",
   "id": "bdfc093e",
   "metadata": {
    "slideshow": {
     "slide_type": "slide"
    }
   },
   "source": [
    "## Luminesce views"
   ]
  },
  {
   "cell_type": "markdown",
   "id": "a6b55268",
   "metadata": {
    "slideshow": {
     "slide_type": "fragment"
    }
   },
   "source": [
    "You can use the Sys.Admin.SetupView direct provider supplied by FINBOURNE to create a ‘view’ that can access any number of other Luminesce providers (or existing views).\n",
    "\n",
    "The goal is to enable end users to write simplified or more performant queries using this view instead of the underlying providers directly, obscuring complexity, increasing productivity and promoting adoption."
   ]
  },
  {
   "cell_type": "markdown",
   "id": "72961055",
   "metadata": {
    "slideshow": {
     "slide_type": "subslide"
    }
   },
   "source": [
    "Provider creation syntax\n",
    "\n",
    "    @x = use Sys.Admin.SetupView [with @@scalar_var1 [, @@scalar_var2...]]\n",
    "    <options-section>\n",
    "    ----\n",
    "    <sql-section>\n",
    "    enduse;\n",
    "    -- The following statement is optional but useful while creating the view to test it returns meaningful data\n",
    "    select * from @x"
   ]
  },
  {
   "cell_type": "markdown",
   "id": "68dbe8c4",
   "metadata": {
    "slideshow": {
     "slide_type": "subslide"
    }
   },
   "source": [
    "SetupView works similarly to other direct Providers. You create a variable using `SetupView`, and can pass parameters using the with syntax.\n",
    "You can specify options on the View Provider as usual, by passing `--<key>=<value>` pairs to the Provider.\n",
    "Once you have configured the provider, use 4 dashes `----` to separate options from the SQLite operation you'd like to use in your View."
   ]
  },
  {
   "cell_type": "code",
   "execution_count": null,
   "id": "60915884",
   "metadata": {
    "slideshow": {
     "slide_type": "subslide"
    }
   },
   "outputs": [],
   "source": [
    "%%luminesce\n",
    "@x = use Sys.Admin.SetupView\n",
    "--provider=Views.FBNUNIVIEW\n",
    "----\n",
    "SELECT #SELECT {\n",
    "  { EquityName: i.DisplayName },\n",
    "}\n",
    "FROM Lusid.Instrument.Equity i\n",
    "WHERE i.DisplayName LIKE 'A%'\n",
    "enduse;"
   ]
  },
  {
   "cell_type": "markdown",
   "id": "0b93da09",
   "metadata": {
    "slideshow": {
     "slide_type": "notes"
    }
   },
   "source": [
    "Here we've created a view called `Views.FBNUNIVIEW` which selects any DisplayNames that begin with 'A' from `Lusid.Instrument.Equity` and maps the `DisplayName` column to `EquityName`.\n",
    "\n",
    "The `#SELECT` is special syntax used to signify to luminesce that this query should be optimized, described in the [setupview article](https://support.lusid.com/knowledgebase/article/KA-01767/en-us) in the knowledgebase.\n",
    "\n",
    "We can now use this view to query data:"
   ]
  },
  {
   "cell_type": "code",
   "execution_count": null,
   "id": "dca153eb",
   "metadata": {
    "slideshow": {
     "slide_type": "subslide"
    }
   },
   "outputs": [],
   "source": [
    "%%luminesce\n",
    "SELECT * FROM Views.FBNUNIVIEW \n",
    "LIMIT 10;"
   ]
  },
  {
   "cell_type": "markdown",
   "id": "c9a2e513",
   "metadata": {
    "slideshow": {
     "slide_type": "notes"
    }
   },
   "source": [
    "We've selected 10 of the Equities that would've been returned from our view."
   ]
  }
 ],
 "metadata": {
  "celltoolbar": "Slideshow",
  "kernelspec": {
   "display_name": "Python 3",
   "language": "python",
   "name": "python3"
  },
  "language_info": {
   "codemirror_mode": {
    "name": "ipython",
    "version": 3
   },
   "file_extension": ".py",
   "mimetype": "text/x-python",
   "name": "python",
   "nbconvert_exporter": "python",
   "pygments_lexer": "ipython3",
   "version": "3.10.8"
  }
 },
 "nbformat": 4,
 "nbformat_minor": 5
}
