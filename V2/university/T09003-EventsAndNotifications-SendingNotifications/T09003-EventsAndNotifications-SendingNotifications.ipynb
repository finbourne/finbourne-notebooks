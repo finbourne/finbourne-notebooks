{
 "cells": [
  {
   "cell_type": "code",
   "execution_count": 1,
   "id": "62675678",
   "metadata": {},
   "outputs": [],
   "source": [
    "#Setup\n",
    "import pandas as pd\n",
    "import os\n",
    "import pprint\n",
    "\n",
    "pd.set_option(\"display.max_columns\", None)\n",
    "pd.set_option(\"display.max_rows\", None)\n",
    "pd.options.display.float_format = \"{:,.2f}\".format"
   ]
  },
  {
   "cell_type": "markdown",
   "id": "e32e01fe",
   "metadata": {
    "slideshow": {
     "slide_type": "slide"
    }
   },
   "source": [
    "<p style=\"font-family: Open Sans; color: #2B6264; font-weight: bold; font-size: 125%\">What are we going to cover?</p>"
   ]
  },
  {
   "cell_type": "markdown",
   "id": "7abac222",
   "metadata": {
    "slideshow": {
     "slide_type": "fragment"
    }
   },
   "source": [
    "<p style=\"font-family: Open Sans; color: #2B6264\">- What are the available notification methods?</p>"
   ]
  },
  {
   "cell_type": "markdown",
   "id": "d5f45274",
   "metadata": {
    "slideshow": {
     "slide_type": "fragment"
    }
   },
   "source": [
    "<p style=\"font-family: Open Sans; color: #2B6264\">- How do we use the Notifications API via the LUSID Website to surface data from an event in our email notifications via templating?</p>"
   ]
  },
  {
   "cell_type": "markdown",
   "id": "b5b9bdc5",
   "metadata": {
    "slideshow": {
     "slide_type": "fragment"
    }
   },
   "source": [
    "<p style=\"font-family: Open Sans; color: #2B6264\">- How can we use the Notifications API via the Python SDK to update our email notification to use HTML instead of plain text?</p>"
   ]
  },
  {
   "cell_type": "markdown",
   "id": "076b63d2",
   "metadata": {
    "slideshow": {
     "slide_type": "subslide"
    }
   },
   "source": [
    "<p style=\"font-family: Open Sans; color: #2B6264\">- How can we use the Notifications API via the Python SDK to configure a text message notification?</p>"
   ]
  },
  {
   "cell_type": "markdown",
   "id": "2021b9cb",
   "metadata": {
    "slideshow": {
     "slide_type": "fragment"
    }
   },
   "source": [
    "<p style=\"font-family: Open Sans; color: #2B6264\">- How can we use the Notifications API via the Python SDK to delete a notification?</p>"
   ]
  },
  {
   "cell_type": "markdown",
   "id": "7c83f9a3",
   "metadata": {
    "slideshow": {
     "slide_type": "slide"
    }
   },
   "source": [
    "<p style=\"font-family: Open Sans; color: #2B6264; font-weight: bold; font-size: 125%\">What are the available notification methods?</p>"
   ]
  },
  {
   "cell_type": "markdown",
   "id": "bf61ed42",
   "metadata": {
    "slideshow": {
     "slide_type": "fragment"
    }
   },
   "source": [
    "<p style=\"font-family: Open Sans; color: #2B6264\">- Email</p>"
   ]
  },
  {
   "cell_type": "markdown",
   "id": "381892c1",
   "metadata": {
    "slideshow": {
     "slide_type": "fragment"
    }
   },
   "source": [
    "<p style=\"font-family: Open Sans; color: #2B6264\">- Text Message</p>"
   ]
  },
  {
   "cell_type": "markdown",
   "id": "4f7410ad",
   "metadata": {
    "slideshow": {
     "slide_type": "fragment"
    }
   },
   "source": [
    "<p style=\"font-family: Open Sans; color: #2B6264\">- Webhook</p>"
   ]
  },
  {
   "cell_type": "markdown",
   "id": "85adc45a",
   "metadata": {
    "slideshow": {
     "slide_type": "slide"
    }
   },
   "source": [
    "<p style=\"font-family: Open Sans; color: #2B6264; font-weight: bold; font-size: 125%\">Updating our email notification to use HTML</p>"
   ]
  },
  {
   "cell_type": "code",
   "execution_count": null,
   "id": "1e1775bd",
   "metadata": {
    "slideshow": {
     "slide_type": "fragment"
    }
   },
   "outputs": [],
   "source": [
    "import lusid_notifications\n",
    "from lusidjam import RefreshingToken\n",
    "from lusid_notifications.extensions import (\n",
    "    SyncApiClientFactory,\n",
    "    ArgsConfigurationLoader,\n",
    "    EnvironmentVariablesConfigurationLoader,\n",
    "    SecretsFileConfigurationLoader\n",
    ")\n",
    "from lusid_notifications.models import *\n",
    "\n",
    "# Authenticate to SDK\n",
    "# Run the Notebook in Jupyterhub for your LUSID domain and authenticate automatically\n",
    "secrets_path = os.getenv(\"FBN_SECRETS_PATH\")\n",
    "api_url_notifications = os.getenv(\"FBN_NOTIFICATIONS_API_URL\")\n",
    "# Run the Notebook locally using a secrets file (see https://support.lusid.com/docs/how-do-i-use-an-api-access-token-with-the-lusid-sdk)\n",
    "if secrets_path is None:\n",
    "    secrets_path = os.path.join(os.path.dirname(os.getcwd()), \"secrets.json\")\n",
    "\n",
    "# Initiate an API Factory which is the client side object for interacting with LUSID APIs\n",
    "config_loaders=[\n",
    "    ArgsConfigurationLoader(access_token = RefreshingToken(), app_name = \"LusidJupyterNotebook\", api_url=api_url_notifications),\n",
    "    EnvironmentVariablesConfigurationLoader(),\n",
    "    SecretsFileConfigurationLoader(secrets_path)]\n",
    "api_factory = lusid_notifications.extensions.SyncApiClientFactory(config_loaders=config_loaders)\n",
    "\n",
    "notifications_api = api_factory.build(lusid_notifications.api.NotificationsApi)\n",
    "\n",
    "subscription_scope = \"FinbourneUniversity\"\n",
    "subscription_code = \"AnyPortfolioCreated\""
   ]
  },
  {
   "cell_type": "code",
   "execution_count": 3,
   "id": "876df083",
   "metadata": {
    "slideshow": {
     "slide_type": "skip"
    }
   },
   "outputs": [],
   "source": [
    "subscriptions_api = api_factory.build(lusid_notifications.api.SubscriptionsApi)\n",
    "\n",
    "try:\n",
    "    subscriptions_api.get_subscription(\n",
    "        scope=subscription_scope,\n",
    "        code=subscription_code)\n",
    "    \n",
    "    subscriptions_api.delete_subscription(\n",
    "        scope=subscription_scope,\n",
    "        code=subscription_code\n",
    "    )\n",
    "    \n",
    "except lusid_notifications.ApiException as api_exception:\n",
    "    if api_exception.status == 404:\n",
    "        pass\n",
    "    else:\n",
    "        raise"
   ]
  },
  {
   "cell_type": "code",
   "execution_count": null,
   "id": "63865bb5",
   "metadata": {
    "slideshow": {
     "slide_type": "skip"
    }
   },
   "outputs": [],
   "source": [
    "subscriptions_api.create_subscription(\n",
    "    create_subscription=lusid_notifications.CreateSubscription(\n",
    "        id=lusid_notifications.ResourceId(\n",
    "            scope=subscription_scope,\n",
    "            code=subscription_code,\n",
    "        ),\n",
    "        display_name=\"Any Portfolio Created\",\n",
    "        description=\"Listens to all TransactionPortfolioCreated events\",\n",
    "        status=\"Active\",\n",
    "        matching_pattern=lusid_notifications.MatchingPattern(\n",
    "            event_type=\"PortfolioCreated\",\n",
    "            filter=None\n",
    "        )\n",
    "    )\n",
    ")\n",
    "\n",
    "notifications_api.create_notification(\n",
    "    scope = subscription_scope,\n",
    "    code = subscription_code,\n",
    "    create_notification_request = lusid_notifications.models.CreateNotificationRequest.from_dict(\n",
    "        {\n",
    "            \"notificationId\": \"PortfolioCreatedEmail\",\n",
    "            \"displayName\": \"PortfolioCreatedEmail\",\n",
    "            \"description\": \"Portfolio created email notification\",\n",
    "            \"notificationType\": {\n",
    "                \"type\": \"Email\",\n",
    "                \"subject\": \"New Portfolio Created!\",\n",
    "                \"plainTextBody\": \"\"\"\n",
    "                    A new portfolio called {{Body.portfolioCode}} has been created \n",
    "                    with an identifier of {{Body.portfolioScope}} / {{Body.portfolioCode}} \n",
    "                    and a creation date of {{Header.timestamp}}\n",
    "                \"\"\",\n",
    "                \"HtmlBody\": None,\n",
    "                \"emailAddressTo\": [\"jane.smith@acme.com\"],\n",
    "                \"email_address_cc\": [],\n",
    "                \"email_address_bcc\": []\n",
    "            }\n",
    "        }\n",
    "    )\n",
    ")\n"
   ]
  },
  {
   "cell_type": "code",
   "execution_count": null,
   "id": "552c003c",
   "metadata": {
    "slideshow": {
     "slide_type": "subslide"
    }
   },
   "outputs": [],
   "source": [
    "response = notifications_api.list_notifications(\n",
    "    scope=subscription_scope,\n",
    "    code=subscription_code)\n",
    "\n",
    "pprint.pprint(response)\n",
    "\n",
    "email_notification = response.values[0]"
   ]
  },
  {
   "cell_type": "code",
   "execution_count": null,
   "id": "d0a558c9",
   "metadata": {
    "slideshow": {
     "slide_type": "subslide"
    }
   },
   "outputs": [],
   "source": [
    "with open(\"./data/EmailTemplate.html\", 'r') as file:\n",
    "    html_template = file.read()\n",
    "\n",
    "print(html_template)"
   ]
  },
  {
   "cell_type": "code",
   "execution_count": null,
   "id": "bc649316",
   "metadata": {
    "code_folding": [],
    "slideshow": {
     "slide_type": "subslide"
    }
   },
   "outputs": [],
   "source": [
    "updated_response = notifications_api.update_notification(\n",
    "    scope = subscription_scope,\n",
    "    code = subscription_code,\n",
    "    id = \"PortfolioCreatedEmail\",\n",
    "    update_notification_request = lusid_notifications.models.UpdateNotificationRequest.from_dict(\n",
    "        {\n",
    "            \"displayName\": \"PortfolioCreatedEmail\",\n",
    "            \"description\": \"Portfolio created email notification\",\n",
    "            \"notificationType\": {\n",
    "                \"type\": \"Email\",\n",
    "                \"subject\": \"New Portfolio Created!\",\n",
    "                \"plainTextBody\": \"\"\"\n",
    "                    A new portfolio has been created \n",
    "                    with an identifier of {{Body.portfolioScope}} / {{Body.portfolioCode}} \n",
    "                    and a creation date of {{Header.timestamp}}.\n",
    "                \"\"\",\n",
    "                \"HtmlBody\": None,\n",
    "                \"emailAddressTo\": [\"jane.smith@acme.com\"],\n",
    "                \"email_address_cc\": [\"joe.bloggs@acme.com\"],\n",
    "                \"email_address_bcc\": []\n",
    "            }\n",
    "        }\n",
    "    )\n",
    ")\n",
    "\n",
    "pprint.pprint(updated_response)"
   ]
  },
  {
   "cell_type": "markdown",
   "id": "5abee32b",
   "metadata": {
    "slideshow": {
     "slide_type": "slide"
    }
   },
   "source": [
    "<p style=\"font-family: Open Sans; color: #2B6264; font-weight: bold; font-size: 125%\">Creating a text message notification</p>"
   ]
  },
  {
   "cell_type": "code",
   "execution_count": null,
   "id": "ec1f6101",
   "metadata": {
    "slideshow": {
     "slide_type": "fragment"
    }
   },
   "outputs": [],
   "source": [
    "create_response = notifications_api.create_notification(\n",
    "    scope = subscription_scope,\n",
    "    code = subscription_code,\n",
    "    create_notification_request = lusid_notifications.models.CreateNotificationRequest.from_dict(\n",
    "        {\n",
    "            \"notificationId\": \"PortfolioCreatedSms\",\n",
    "            \"displayName\": \"PortfolioCreatedSms\",\n",
    "            \"description\": \"Portfolio created SMS notification\",\n",
    "            \"notificationType\": {\n",
    "                \"type\": \"Sms\",\n",
    "                \"body\": \"\"\"A portfolio has been created \n",
    "                    wtih id {{Body.portfolioScope}}/{{Body.portfolioCode}}.\n",
    "                    \n",
    "                    Please ensure it has been configured correctly by visiting:\n",
    "                    \n",
    "                    https://demo.lusid.com/app/dashboard/holdings?scope={{Body.portfolioScope}}&code={{Body.portfolioCode}}&entityType=Portfolio\"\"\",\n",
    "                \"recipients\": [\n",
    "                    \"+447700900000\",\n",
    "                    \"+12334550000\"\n",
    "                ]\n",
    "            }\n",
    "        }\n",
    "    )\n",
    ")\n",
    "\n",
    "pprint.pprint(create_response)"
   ]
  },
  {
   "cell_type": "markdown",
   "id": "9dd24d30",
   "metadata": {
    "slideshow": {
     "slide_type": "slide"
    }
   },
   "source": [
    "<p style=\"font-family: Open Sans; color: #2B6264; font-weight: bold; font-size: 125%\">Deleting a notification</p>"
   ]
  },
  {
   "cell_type": "code",
   "execution_count": null,
   "id": "6faa740e",
   "metadata": {
    "slideshow": {
     "slide_type": "fragment"
    }
   },
   "outputs": [],
   "source": [
    "delete_response = notifications_api.delete_notification(\n",
    "    scope=subscription_scope,\n",
    "    code=subscription_code,\n",
    "    id=\"PortfolioCreatedEmail\"\n",
    ")\n",
    "\n",
    "pprint.pprint(delete_response)"
   ]
  },
  {
   "cell_type": "code",
   "execution_count": 15,
   "id": "b3ddd366",
   "metadata": {
    "slideshow": {
     "slide_type": "skip"
    }
   },
   "outputs": [],
   "source": [
    "subscriptions_api.delete_subscription(\n",
    "    scope=subscription_scope,\n",
    "    code=subscription_code\n",
    ")\n"
   ]
  },
  {
   "cell_type": "markdown",
   "id": "3a30b680",
   "metadata": {
    "slideshow": {
     "slide_type": "slide"
    }
   },
   "source": [
    "<p style=\"font-family: Open Sans; color: #2B6264; font-weight: bold; font-size: 125%\">What have we covered?</p>"
   ]
  },
  {
   "cell_type": "markdown",
   "id": "f1edf4c5",
   "metadata": {
    "slideshow": {
     "slide_type": "fragment"
    }
   },
   "source": [
    "<p style=\"font-family: Open Sans; color: #2B6264\">- There are three available notification methods. Email, text message and webhook.</p>"
   ]
  },
  {
   "cell_type": "markdown",
   "id": "fc06f08a",
   "metadata": {
    "slideshow": {
     "slide_type": "fragment"
    }
   },
   "source": [
    "<p style=\"font-family: Open Sans; color: #2B6264\">- You can use templating to surface data from the event in the notification. We set this up for an email notification using the Notifications API via the LUSID website.</p>"
   ]
  },
  {
   "cell_type": "markdown",
   "id": "a065634c",
   "metadata": {
    "slideshow": {
     "slide_type": "fragment"
    }
   },
   "source": [
    "<p style=\"font-family: Open Sans; color: #2B6264\">- You can also send an email in HTML, we set this up by updating our email notification using the Notifications API via the Python SDK.</p>"
   ]
  },
  {
   "cell_type": "markdown",
   "id": "40395360",
   "metadata": {
    "slideshow": {
     "slide_type": "subslide"
    }
   },
   "source": [
    "<p style=\"font-family: Open Sans; color: #2B6264\">- You can also use templating for text message notifications. We created such a notification using the Notifications API via the Python SDK.</p>"
   ]
  },
  {
   "cell_type": "markdown",
   "id": "d511e56a",
   "metadata": {
    "slideshow": {
     "slide_type": "fragment"
    }
   },
   "source": [
    "<p style=\"font-family: Open Sans; color: #2B6264\">- Notifications can be deleted from a subscription. We deleted the text message notification using the Notifications API via the Python SDK.</p>"
   ]
  }
 ],
 "metadata": {
  "celltoolbar": "Slideshow",
  "kernelspec": {
   "display_name": "Python 3",
   "language": "python",
   "name": "python3"
  },
  "language_info": {
   "codemirror_mode": {
    "name": "ipython",
    "version": 3
   },
   "file_extension": ".py",
   "mimetype": "text/x-python",
   "name": "python",
   "nbconvert_exporter": "python",
   "pygments_lexer": "ipython3",
   "version": "3.10.8"
  },
  "toc": {
   "base_numbering": 1,
   "nav_menu": {},
   "number_sections": false,
   "sideBar": true,
   "skip_h1_title": false,
   "title_cell": "Table of Contents",
   "title_sidebar": "Contents",
   "toc_cell": false,
   "toc_position": {},
   "toc_section_display": true,
   "toc_window_display": false
  },
  "varInspector": {
   "cols": {
    "lenName": 16,
    "lenType": 16,
    "lenVar": 40
   },
   "kernels_config": {
    "python": {
     "delete_cmd_postfix": "",
     "delete_cmd_prefix": "del ",
     "library": "var_list.py",
     "varRefreshCmd": "print(var_dic_list())"
    },
    "r": {
     "delete_cmd_postfix": ") ",
     "delete_cmd_prefix": "rm(",
     "library": "var_list.r",
     "varRefreshCmd": "cat(var_dic_list()) "
    }
   },
   "types_to_exclude": [
    "module",
    "function",
    "builtin_function_or_method",
    "instance",
    "_Feature"
   ],
   "window_display": false
  }
 },
 "nbformat": 4,
 "nbformat_minor": 5
}
