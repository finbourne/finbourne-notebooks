{
 "cells": [
  {
   "cell_type": "markdown",
   "id": "70368d5d",
   "metadata": {
    "slideshow": {
     "slide_type": "skip"
    }
   },
   "source": [
    "Select this slide when playing slideshow"
   ]
  },
  {
   "cell_type": "code",
   "execution_count": 1,
   "id": "3b082366",
   "metadata": {},
   "outputs": [],
   "source": [
    "#Setup\n",
    "import pandas as pd\n",
    "import os\n",
    "import pprint\n",
    "\n",
    "# Set pandas display options\n",
    "pd.set_option(\"display.max_columns\", None)\n",
    "pd.set_option(\"display.max_rows\", None)\n",
    "pd.options.display.float_format = \"{:,.2f}\".format"
   ]
  },
  {
   "cell_type": "code",
   "execution_count": null,
   "id": "0061dc56",
   "metadata": {},
   "outputs": [],
   "source": [
    "# !pip3 install -U lusid-notifications-sdk finbourne-sdk-utils"
   ]
  },
  {
   "cell_type": "markdown",
   "id": "2e015bad",
   "metadata": {
    "slideshow": {
     "slide_type": "slide"
    }
   },
   "source": [
    "<p style=\"font-family: Open Sans; color: #2B6264; font-weight: bold; font-size: 125%\">What are we going to cover?</p>"
   ]
  },
  {
   "cell_type": "markdown",
   "id": "25adb718",
   "metadata": {
    "slideshow": {
     "slide_type": "fragment"
    }
   },
   "source": [
    "<p style=\"font-family: Open Sans; color: #2B6264\">- What are events and why are they useful?</p>"
   ]
  },
  {
   "cell_type": "markdown",
   "id": "7ebf5058",
   "metadata": {
    "slideshow": {
     "slide_type": "fragment"
    }
   },
   "source": [
    "<p style=\"font-family: Open Sans; color: #2B6264\">- What are the three different categories of events?</p>"
   ]
  },
  {
   "cell_type": "markdown",
   "id": "767dd4bd",
   "metadata": {
    "slideshow": {
     "slide_type": "fragment"
    }
   },
   "source": [
    "<p style=\"font-family: Open Sans; color: #2B6264\">- How can we list the available event types using the Notifications Application Programming Interface (API) via the Python Software Development Kit (SDK)?</p>"
   ]
  },
  {
   "cell_type": "markdown",
   "id": "6e692c6a",
   "metadata": {
    "slideshow": {
     "slide_type": "slide"
    }
   },
   "source": [
    "<p style=\"font-family: Open Sans; color: #2B6264; font-weight: bold; font-size: 125%\">So what are events?</p>"
   ]
  },
  {
   "cell_type": "markdown",
   "id": "f6a96caa",
   "metadata": {
    "slideshow": {
     "slide_type": "fragment"
    }
   },
   "source": [
    "<p style=\"font-family: Open Sans; color: #2B6264;\">- LUSID has a rich set of RESTful APIs which operate under a request/response paradigm. This necessitates polling to identify changes/updates.</p>"
   ]
  },
  {
   "cell_type": "markdown",
   "id": "1b8ad412",
   "metadata": {
    "slideshow": {
     "slide_type": "fragment"
    }
   },
   "source": [
    "<p style=\"font-family: Open Sans; color: #2B6264\">- Events are emitted automatically allowing applications which interact with LUSID to move away from a reliance on polling.</p>"
   ]
  },
  {
   "cell_type": "markdown",
   "id": "d27af6bc",
   "metadata": {
    "slideshow": {
     "slide_type": "fragment"
    }
   },
   "source": [
    "<p style=\"font-family: Open Sans; color: #2B6264\">- Supports an event driven architecture where webhooks and notifications can be emitted by subscribing to events of interest.</p>"
   ]
  },
  {
   "cell_type": "markdown",
   "id": "9ad84a80",
   "metadata": {
    "slideshow": {
     "slide_type": "slide"
    }
   },
   "source": [
    "<p style=\"font-family: Open Sans; color: #2B6264; font-weight: bold; font-size: 125%\">There are three categories of events</p>"
   ]
  },
  {
   "cell_type": "markdown",
   "id": "58555f8c",
   "metadata": {
    "slideshow": {
     "slide_type": "fragment"
    }
   },
   "source": [
    "<p style=\"font-family: Open Sans; color: #2B6264\"><b>1.</b> LUSID events that occur in the core investment data management platform itself.</p>"
   ]
  },
  {
   "cell_type": "markdown",
   "id": "9720da75",
   "metadata": {
    "slideshow": {
     "slide_type": "fragment"
    }
   },
   "source": [
    "<p style=\"font-family: Open Sans; color: #2B6264\"><b>2.</b> LUSID events that occur in ecosystem applications such as Drive and the Scheduler.</p>"
   ]
  },
  {
   "cell_type": "markdown",
   "id": "25876c7d",
   "metadata": {
    "slideshow": {
     "slide_type": "fragment"
    }
   },
   "source": [
    "<p style=\"font-family: Open Sans; color: #2B6264\"><b>3.</b> Non-LUSID custom events that you can trigger yourself.</p>"
   ]
  },
  {
   "cell_type": "markdown",
   "id": "ce374987",
   "metadata": {
    "slideshow": {
     "slide_type": "slide"
    }
   },
   "source": [
    "<p style=\"font-family: Open Sans; color: #2B6264; font-weight: bold; font-size: 125%\">Listing the available event types</p>"
   ]
  },
  {
   "cell_type": "code",
   "execution_count": null,
   "id": "cedad935",
   "metadata": {
    "slideshow": {
     "slide_type": "fragment"
    }
   },
   "outputs": [],
   "source": [
    "import lusid_notifications\n",
    "from lusidjam import RefreshingToken\n",
    "from lusid_notifications.extensions import (\n",
    "    SyncApiClientFactory,\n",
    "    ArgsConfigurationLoader,\n",
    "    EnvironmentVariablesConfigurationLoader,\n",
    "    SecretsFileConfigurationLoader\n",
    ")\n",
    "from lusid_notifications.models import *\n",
    "\n",
    "# Authenticate to SDK\n",
    "# Run the Notebook in Jupyterhub for your LUSID domain and authenticate automatically\n",
    "api_url_notifications = os.getenv(\"FBN_NOTIFICATIONS_API_URL\")\n",
    "\n",
    "# Initiate an API Factory which is the client side object for interacting with LUSID APIs\n",
    "config_loaders_notifications=[\n",
    "    ArgsConfigurationLoader(access_token = RefreshingToken(), app_name = \"LusidJupyterNotebook\", api_url=api_url_notifications),\n",
    "    EnvironmentVariablesConfigurationLoader()]\n",
    "api_factory = lusid_notifications.extensions.SyncApiClientFactory(config_loaders=config_loaders_notifications)\n",
    " \n",
    "event_types_api = api_factory.build(lusid_notifications.api.EventTypesApi)\n",
    "\n",
    "response = event_types_api.list_event_types()\n",
    "pprint.pprint(response)\n"
   ]
  },
  {
   "cell_type": "code",
   "execution_count": null,
   "id": "2e76b65c",
   "metadata": {
    "slideshow": {
     "slide_type": "subslide"
    }
   },
   "outputs": [],
   "source": [
    "from finbourne_sdk_utils.pandas_utils.lusid_pandas import lusid_response_to_data_frame\n",
    "lusid_response_to_data_frame(response).loc[:, [\"id\", \"description\", \"displayName\", \"application\"]]"
   ]
  },
  {
   "cell_type": "markdown",
   "id": "55f14fe6",
   "metadata": {
    "slideshow": {
     "slide_type": "slide"
    }
   },
   "source": [
    "<p style=\"font-family: Open Sans; color: #2B6264; font-weight: bold; font-size: 125%\">What have we covered?</p>"
   ]
  },
  {
   "cell_type": "markdown",
   "id": "f6088601",
   "metadata": {
    "slideshow": {
     "slide_type": "fragment"
    }
   },
   "source": [
    "<p style=\"font-family: Open Sans; color: #2B6264\">- Events are emitted automatically and provide an alternative to polling for changes/updates.</p>"
   ]
  },
  {
   "cell_type": "markdown",
   "id": "ca852db3",
   "metadata": {
    "slideshow": {
     "slide_type": "fragment"
    }
   },
   "source": [
    "<p style=\"font-family: Open Sans; color: #2B6264\">- They allow for webhooks and notifications to be sent automatically by subscribing to events of interest.</p>"
   ]
  },
  {
   "cell_type": "markdown",
   "id": "ed94d0a4",
   "metadata": {
    "slideshow": {
     "slide_type": "subslide"
    }
   },
   "source": [
    "<p style=\"font-family: Open Sans; color: #2B6264\">- There are three categories of events which are LUSID investment data management events, events from ecosystem applications such as Drive and the Scheduler and non-LUSID custom events you can configure yourself.</p>"
   ]
  },
  {
   "cell_type": "markdown",
   "id": "763479b1",
   "metadata": {
    "slideshow": {
     "slide_type": "fragment"
    }
   },
   "source": [
    "<p style=\"font-family: Open Sans; color: #2B6264\">- You can list the event types via the Notifications API and each event type has its own schema.</p>"
   ]
  }
 ],
 "metadata": {
  "celltoolbar": "Slideshow",
  "kernelspec": {
   "display_name": ".venv",
   "language": "python",
   "name": "python3"
  },
  "language_info": {
   "codemirror_mode": {
    "name": "ipython",
    "version": 3
   },
   "file_extension": ".py",
   "mimetype": "text/x-python",
   "name": "python",
   "nbconvert_exporter": "python",
   "pygments_lexer": "ipython3",
   "version": "3.10.14"
  },
  "toc": {
   "base_numbering": 1,
   "nav_menu": {},
   "number_sections": false,
   "sideBar": true,
   "skip_h1_title": false,
   "title_cell": "Table of Contents",
   "title_sidebar": "Contents",
   "toc_cell": false,
   "toc_position": {},
   "toc_section_display": true,
   "toc_window_display": false
  },
  "varInspector": {
   "cols": {
    "lenName": 16,
    "lenType": 16,
    "lenVar": 40
   },
   "kernels_config": {
    "python": {
     "delete_cmd_postfix": "",
     "delete_cmd_prefix": "del ",
     "library": "var_list.py",
     "varRefreshCmd": "print(var_dic_list())"
    },
    "r": {
     "delete_cmd_postfix": ") ",
     "delete_cmd_prefix": "rm(",
     "library": "var_list.r",
     "varRefreshCmd": "cat(var_dic_list()) "
    }
   },
   "types_to_exclude": [
    "module",
    "function",
    "builtin_function_or_method",
    "instance",
    "_Feature"
   ],
   "window_display": false
  }
 },
 "nbformat": 4,
 "nbformat_minor": 5
}
