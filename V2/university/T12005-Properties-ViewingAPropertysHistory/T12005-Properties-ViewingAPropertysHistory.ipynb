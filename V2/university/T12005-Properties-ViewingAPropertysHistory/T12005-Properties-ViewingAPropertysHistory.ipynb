{
 "cells": [
  {
   "cell_type": "code",
   "execution_count": 1,
   "id": "e5fb1a72",
   "metadata": {
    "slideshow": {
     "slide_type": "skip"
    }
   },
   "outputs": [],
   "source": [
    "import pandas as pd\n",
    "pd.options.display.float_format = \"{:,.2f}\".format"
   ]
  },
  {
   "cell_type": "markdown",
   "id": "e32e01fe",
   "metadata": {
    "slideshow": {
     "slide_type": "slide"
    }
   },
   "source": [
    "<p style=\"font-family: Open Sans; color: #2B6264; font-weight: bold; font-size: 125%\">What are we going to cover?</p>"
   ]
  },
  {
   "cell_type": "markdown",
   "id": "7abac222",
   "metadata": {
    "slideshow": {
     "slide_type": "fragment"
    }
   },
   "source": [
    "<ul>\n",
    "    <li style=\"color: #ff5200\"><p style=\"font-family: Open Sans; color: #2B6264\">How can we view the entire history of a Property's value using the LUSID APIs via the Python SDK?</p></li>\n",
    "</ul>"
   ]
  },
  {
   "cell_type": "markdown",
   "id": "3beb1935",
   "metadata": {
    "slideshow": {
     "slide_type": "fragment"
    }
   },
   "source": [
    "<ul>\n",
    "    <li style=\"color: #ff5200\"><p style=\"font-family: Open Sans; color: #2B6264\">How can we use the Property history to understand what the value of the Property is at any point in bi-temporal space?</p></li>\n",
    "</ul>"
   ]
  },
  {
   "cell_type": "markdown",
   "id": "d17b2565",
   "metadata": {
    "slideshow": {
     "slide_type": "slide"
    }
   },
   "source": [
    "<p style=\"font-family: Open Sans; color: #2B6264; font-weight: bold; font-size: 125%\">Retrieving the History of a Time-Variant Property's Values</p>"
   ]
  },
  {
   "cell_type": "code",
   "execution_count": null,
   "id": "91763411",
   "metadata": {
    "slideshow": {
     "slide_type": "subslide"
    }
   },
   "outputs": [],
   "source": [
    "import pprint\n",
    "import os\n",
    "import lusid\n",
    "from lusidjam import RefreshingToken\n",
    "from finbourne_sdk_utils.pandas_utils.lusid_pandas import lusid_response_to_data_frame\n",
    "from lusid.extensions import (\n",
    "    SyncApiClientFactory,\n",
    "    ArgsConfigurationLoader,\n",
    "    EnvironmentVariablesConfigurationLoader,\n",
    "    SecretsFileConfigurationLoader\n",
    ")\n",
    "from lusid.models import *\n",
    "\n",
    "# Authenticate to SDK\n",
    "# Run the Notebook in Jupyterhub for your LUSID domain and authenticate automatically\n",
    "secrets_path = os.getenv(\"FBN_SECRETS_PATH\")\n",
    "# Run the Notebook locally using a secrets file (see https://support.lusid.com/docs/how-do-i-use-an-api-access-token-with-the-lusid-sdk)\n",
    "if secrets_path is None:\n",
    "    secrets_path = os.path.join(os.path.dirname(os.getcwd()), \"secrets.json\")\n",
    "\n",
    "# Initiate an API Factory which is the client side object for interacting with LUSID APIs\n",
    "config_loaders=[\n",
    "    ArgsConfigurationLoader(access_token = RefreshingToken(), app_name = \"LusidJupyterNotebook\"),\n",
    "    EnvironmentVariablesConfigurationLoader(),\n",
    "    SecretsFileConfigurationLoader(secrets_path)]\n",
    "api_factory = SyncApiClientFactory(config_loaders=config_loaders)\n",
    "\n",
    "instruments_api = api_factory.build(lusid.api.InstrumentsApi)\n",
    "display(instruments_api)\n"
   ]
  },
  {
   "cell_type": "code",
   "execution_count": null,
   "id": "6d67cb19",
   "metadata": {
    "slideshow": {
     "slide_type": "skip"
    }
   },
   "outputs": [],
   "source": [
    "instruments_api.upsert_instruments(\n",
    "    scope=\"FinbourneUniversity\",\n",
    "    request_body={\n",
    "        \"instr_1\": lusid.InstrumentDefinition(\n",
    "            name=\"MICROSOFT CORP\",\n",
    "            identifiers={\n",
    "                \"Figi\": lusid.InstrumentIdValue(\n",
    "                    value=\"BBG000BPH459\"\n",
    "                )\n",
    "            }\n",
    "        )\n",
    "    }\n",
    ")"
   ]
  },
  {
   "cell_type": "code",
   "execution_count": 4,
   "id": "1a86289c",
   "metadata": {
    "slideshow": {
     "slide_type": "skip"
    }
   },
   "outputs": [],
   "source": [
    "property_definitions_api = api_factory.build(lusid.api.PropertyDefinitionsApi)\n",
    "\n",
    "try:\n",
    "    property_definitions_api.delete_property_definition(\n",
    "        domain=\"Instrument\",\n",
    "        scope=\"FinbourneUniversity\",\n",
    "        code=\"MarketCapitalisation\")\n",
    "except:\n",
    "    pass"
   ]
  },
  {
   "cell_type": "code",
   "execution_count": 5,
   "id": "b7a2faf5",
   "metadata": {
    "slideshow": {
     "slide_type": "skip"
    }
   },
   "outputs": [],
   "source": [
    "def upsert_instrument_properties(value, effective_from=None, effective_until=None):\n",
    "    \n",
    "    if value is None:\n",
    "        property_value = None\n",
    "    else:\n",
    "        property_value = lusid.PropertyValue(\n",
    "            metric_value=lusid.MetricValue(\n",
    "                value=value,\n",
    "                unit=\"USD\"\n",
    "            )\n",
    "        )\n",
    "\n",
    "    print(instruments_api.upsert_instruments_properties(\n",
    "        scope=\"FinbourneUniversity\",\n",
    "        upsert_instrument_property_request=[\n",
    "            lusid.UpsertInstrumentPropertyRequest(\n",
    "                identifier_type=\"Figi\",\n",
    "                identifier=\"BBG000BPH459\",\n",
    "                properties=[\n",
    "                    lusid.ModelProperty(\n",
    "                        key=\"Instrument/FinbourneUniversity/MarketCapitalisationv2\",\n",
    "                        value=property_value,\n",
    "                        effective_from=effective_from,\n",
    "                        effective_until=effective_until\n",
    "                    )\n",
    "                ]\n",
    "            )\n",
    "        ]\n",
    "    ))"
   ]
  },
  {
   "cell_type": "code",
   "execution_count": null,
   "id": "b4e94d74",
   "metadata": {
    "slideshow": {
     "slide_type": "skip"
    }
   },
   "outputs": [],
   "source": [
    "property_definitions_api = api_factory.build(lusid.api.PropertyDefinitionsApi)\n",
    "\n",
    "try:\n",
    "    property_definitions_api.get_property_definition(\n",
    "        domain=\"Instrument\",\n",
    "        scope=\"FinbourneUniversity\",\n",
    "        code=\"MarketCapitalisationv2\")\n",
    "except:\n",
    "    issuer_prop_definition = property_definitions_api.create_property_definition(\n",
    "        create_property_definition_request=lusid.CreatePropertyDefinitionRequest(\n",
    "            domain=\"Instrument\",\n",
    "            scope=\"FinbourneUniversity\",\n",
    "            code=\"MarketCapitalisationv2\",\n",
    "            display_name=\"Market Capitalisation\",\n",
    "            property_description=\"The market capitalisation of the instrument\",\n",
    "            data_type_id=lusid.ResourceId(\n",
    "                scope=\"system\",\n",
    "                code=\"currencyAndAmount\"\n",
    "            ),\n",
    "            life_time=\"TimeVariant\",\n",
    "            constraint_style=\"Property\"\n",
    "        )\n",
    "    )\n",
    "    \n",
    "    upsert_instrument_properties(780360000000)\n",
    "    upsert_instrument_properties(1200000000000, effective_from=\"2020-01-01T00:00:00Z\")\n",
    "    upsert_instrument_properties(1680000000000, effective_from=\"2021-01-01T00:00:00Z\", effective_until=\"2022-01-01T00:00:00Z\")\n",
    "    upsert_instrument_properties(None, effective_from=None, effective_until=\"2018-12-31T00:00:00Z\")\n",
    "    upsert_instrument_properties(None, effective_from=\"2022-01-01T00:00:00Z\")"
   ]
  },
  {
   "cell_type": "code",
   "execution_count": null,
   "id": "93809916",
   "metadata": {
    "slideshow": {
     "slide_type": "slide"
    }
   },
   "outputs": [],
   "source": [
    "result = instruments_api.get_instrument_property_time_series(\n",
    "    identifier_type=\"Figi\",\n",
    "    identifier=\"BBG000BPH459\",\n",
    "    scope=\"FinbourneUniversity\",\n",
    "    property_key=\"Instrument/FinbourneUniversity/MarketCapitalisationv2\")\n",
    "\n",
    "result_df = lusid_response_to_data_frame(result)\n",
    "result_df = result_df.sort_values(by=\"asAtRange.fromDate\").reset_index(drop=True)\n",
    "result_df\n"
   ]
  },
  {
   "cell_type": "code",
   "execution_count": null,
   "id": "9dac4902",
   "metadata": {
    "scrolled": true,
    "slideshow": {
     "slide_type": "slide"
    }
   },
   "outputs": [],
   "source": [
    "result_df.loc[0].to_frame().transpose()"
   ]
  },
  {
   "cell_type": "markdown",
   "id": "7e7288ed",
   "metadata": {
    "slideshow": {
     "slide_type": "fragment"
    }
   },
   "source": [
    "<img src=\"./data/History-1.png\" width=\"850\"/>"
   ]
  },
  {
   "cell_type": "code",
   "execution_count": null,
   "id": "02865656",
   "metadata": {
    "slideshow": {
     "slide_type": "slide"
    }
   },
   "outputs": [],
   "source": [
    "result_df.loc[1].to_frame().transpose()"
   ]
  },
  {
   "cell_type": "markdown",
   "id": "a5ca060c",
   "metadata": {
    "slideshow": {
     "slide_type": "fragment"
    }
   },
   "source": [
    "<img src=\"./data/History-2.png\" width=\"850\"/>"
   ]
  },
  {
   "cell_type": "code",
   "execution_count": null,
   "id": "c6acee05",
   "metadata": {
    "slideshow": {
     "slide_type": "slide"
    }
   },
   "outputs": [],
   "source": [
    "result_df.loc[2].to_frame().transpose()"
   ]
  },
  {
   "cell_type": "markdown",
   "id": "67bb341e",
   "metadata": {
    "slideshow": {
     "slide_type": "fragment"
    }
   },
   "source": [
    "<img src=\"./data/History-3.png\" width=\"850\"/>"
   ]
  },
  {
   "cell_type": "code",
   "execution_count": null,
   "id": "bd44adca",
   "metadata": {
    "slideshow": {
     "slide_type": "slide"
    }
   },
   "outputs": [],
   "source": [
    "result_df.loc[3].to_frame().transpose()"
   ]
  },
  {
   "cell_type": "markdown",
   "id": "89710b2a",
   "metadata": {
    "slideshow": {
     "slide_type": "fragment"
    }
   },
   "source": [
    "<img src=\"./data/History-4.png\" width=\"850\"/>"
   ]
  },
  {
   "cell_type": "code",
   "execution_count": null,
   "id": "48606e94",
   "metadata": {
    "slideshow": {
     "slide_type": "slide"
    }
   },
   "outputs": [],
   "source": [
    "result_df.loc[4].to_frame().transpose()"
   ]
  },
  {
   "cell_type": "markdown",
   "id": "747d4136",
   "metadata": {
    "slideshow": {
     "slide_type": "fragment"
    }
   },
   "source": [
    "<img src=\"./data/History-5.png\" width=\"850\"/>"
   ]
  },
  {
   "cell_type": "code",
   "execution_count": null,
   "id": "d1c152bd",
   "metadata": {
    "slideshow": {
     "slide_type": "slide"
    }
   },
   "outputs": [],
   "source": [
    "result_df.loc[5].to_frame().transpose()"
   ]
  },
  {
   "cell_type": "markdown",
   "id": "8c653ab1",
   "metadata": {
    "slideshow": {
     "slide_type": "fragment"
    }
   },
   "source": [
    "<img src=\"./data/History-6.png\" width=\"850\"/>"
   ]
  },
  {
   "cell_type": "code",
   "execution_count": null,
   "id": "237c10ce",
   "metadata": {
    "slideshow": {
     "slide_type": "slide"
    }
   },
   "outputs": [],
   "source": [
    "result_df.loc[6].to_frame().transpose()"
   ]
  },
  {
   "cell_type": "markdown",
   "id": "89d1763e",
   "metadata": {
    "slideshow": {
     "slide_type": "fragment"
    }
   },
   "source": [
    "<img src=\"./data/History-7.png\" width=\"850\"/>"
   ]
  },
  {
   "cell_type": "markdown",
   "id": "ee00c01f",
   "metadata": {
    "slideshow": {
     "slide_type": "slide"
    }
   },
   "source": [
    "<img src=\"./data/History-Complete.png\" width=\"1200\"/>"
   ]
  },
  {
   "cell_type": "markdown",
   "id": "632b877b",
   "metadata": {
    "slideshow": {
     "slide_type": "slide"
    }
   },
   "source": [
    "<img src=\"./data/History-Complete-Comparison.png\" width=\"1400\"/>"
   ]
  },
  {
   "cell_type": "markdown",
   "id": "3a30b680",
   "metadata": {
    "slideshow": {
     "slide_type": "slide"
    }
   },
   "source": [
    "<p style=\"font-family: Open Sans; color: #2B6264; font-weight: bold; font-size: 125%\">What have we covered?</p>"
   ]
  },
  {
   "cell_type": "markdown",
   "id": "7f5071bd",
   "metadata": {
    "slideshow": {
     "slide_type": "fragment"
    }
   },
   "source": [
    "<ul>\n",
    "    <li style=\"color: #ff5200\"><p style=\"font-family: Open Sans; color: #2B6264\">We retrieved the time series history for our Instrument Property representing Market Capitalisation that we populated in the previous module.</p></li>\n",
    "</ul>"
   ]
  },
  {
   "cell_type": "markdown",
   "id": "e43eb72d",
   "metadata": {
    "slideshow": {
     "slide_type": "fragment"
    }
   },
   "source": [
    "<ul>\n",
    "    <li style=\"color: #ff5200\"><p style=\"font-family: Open Sans; color: #2B6264\">We saw how the Property's values were described by a combination of \"Effective\" and \"AsAt\" ranges.</p></li>\n",
    "</ul>"
   ]
  },
  {
   "cell_type": "markdown",
   "id": "1d92a09a",
   "metadata": {
    "slideshow": {
     "slide_type": "fragment"
    }
   },
   "source": [
    "<ul>\n",
    "    <li style=\"color: #ff5200\"><p style=\"font-family: Open Sans; color: #2B6264\">Using these ranges we were able to construct a graph which allowed us to understand the value of the Property at any point in bi-temporal time.</p></li>\n",
    "</ul>"
   ]
  },
  {
   "cell_type": "markdown",
   "id": "a65da93b",
   "metadata": {
    "slideshow": {
     "slide_type": "subslide"
    }
   },
   "source": [
    "<ul>\n",
    "    <li style=\"color: #ff5200\"><p style=\"font-family: Open Sans; color: #2B6264\">We saw how we can modify the \"AsAt\" date on the request to change how much of the Property's history to return.</p></li>\n",
    "</ul>"
   ]
  },
  {
   "cell_type": "markdown",
   "id": "b3d59312",
   "metadata": {
    "slideshow": {
     "slide_type": "fragment"
    }
   },
   "source": [
    "<ul>\n",
    "    <li style=\"color: #ff5200\"><p style=\"font-family: Open Sans; color: #2B6264\">We discussed how any value which exists at the provided \"AsAt\" time is \"prevailing\" while all other values are \"superseded\".</p></li>\n",
    "</ul>"
   ]
  }
 ],
 "metadata": {
  "celltoolbar": "Slideshow",
  "kernelspec": {
   "display_name": "Python 3",
   "language": "python",
   "name": "python3"
  },
  "language_info": {
   "codemirror_mode": {
    "name": "ipython",
    "version": 3
   },
   "file_extension": ".py",
   "mimetype": "text/x-python",
   "name": "python",
   "nbconvert_exporter": "python",
   "pygments_lexer": "ipython3",
   "version": "3.10.8"
  },
  "toc": {
   "base_numbering": 1,
   "nav_menu": {},
   "number_sections": false,
   "sideBar": true,
   "skip_h1_title": false,
   "title_cell": "Table of Contents",
   "title_sidebar": "Contents",
   "toc_cell": false,
   "toc_position": {},
   "toc_section_display": true,
   "toc_window_display": false
  },
  "varInspector": {
   "cols": {
    "lenName": 16,
    "lenType": 16,
    "lenVar": 40
   },
   "kernels_config": {
    "python": {
     "delete_cmd_postfix": "",
     "delete_cmd_prefix": "del ",
     "library": "var_list.py",
     "varRefreshCmd": "print(var_dic_list())"
    },
    "r": {
     "delete_cmd_postfix": ") ",
     "delete_cmd_prefix": "rm(",
     "library": "var_list.r",
     "varRefreshCmd": "cat(var_dic_list()) "
    }
   },
   "types_to_exclude": [
    "module",
    "function",
    "builtin_function_or_method",
    "instance",
    "_Feature"
   ],
   "window_display": false
  }
 },
 "nbformat": 4,
 "nbformat_minor": 5
}
