{
 "cells": [
  {
   "cell_type": "code",
   "execution_count": 1,
   "id": "62675678",
   "metadata": {},
   "outputs": [],
   "source": [
    "#Setup\n",
    "import pandas as pd\n",
    "import os\n",
    "\n",
    "pd.set_option(\"display.max_columns\", None)\n",
    "pd.set_option(\"display.max_rows\", None)\n",
    "pd.options.display.float_format = \"{:,.2f}\".format"
   ]
  },
  {
   "cell_type": "markdown",
   "id": "e32e01fe",
   "metadata": {
    "slideshow": {
     "slide_type": "slide"
    }
   },
   "source": [
    "<p style=\"font-family: Open Sans; color: #2B6264; font-weight: bold; font-size: 125%\">What are we going to cover?</p>"
   ]
  },
  {
   "cell_type": "markdown",
   "id": "3803d55a",
   "metadata": {
    "slideshow": {
     "slide_type": "fragment"
    }
   },
   "source": [
    "<ul>\n",
    "    <li style=\"color: #ff5200\"><p style=\"font-family: Open Sans; color: #2B6264\">How do we create or update Quotes using the LUSID API via the Python SDK?</p></li>\n",
    "</ul>"
   ]
  },
  {
   "cell_type": "markdown",
   "id": "d24a5fb1",
   "metadata": {
    "slideshow": {
     "slide_type": "fragment"
    }
   },
   "source": [
    "<ul>\n",
    "    <li style=\"color: #ff5200\"><p style=\"font-family: Open Sans; color: #2B6264\">How do we list Quotes using the LUSID API via the Python SDK?</p></li>\n",
    "</ul>"
   ]
  },
  {
   "cell_type": "markdown",
   "id": "61c354ad",
   "metadata": {
    "slideshow": {
     "slide_type": "subslide"
    }
   },
   "source": [
    "<ul>\n",
    "    <li style=\"color: #ff5200\"><p style=\"font-family: Open Sans; color: #2B6264\">How do we resolve Quotes using the LUSID API via the Python SDK?</p></li>\n",
    "</ul>"
   ]
  },
  {
   "cell_type": "markdown",
   "id": "d03f3c25",
   "metadata": {
    "slideshow": {
     "slide_type": "fragment"
    }
   },
   "source": [
    "<ul>\n",
    "    <li style=\"color: #ff5200\"><p style=\"font-family: Open Sans; color: #2B6264\">How do we delete Quotes using the LUSID API via the Python SDK?</p></li>\n",
    "</ul>"
   ]
  },
  {
   "cell_type": "markdown",
   "id": "70edf40a",
   "metadata": {
    "slideshow": {
     "slide_type": "slide"
    }
   },
   "source": [
    "<p style=\"font-family: Open Sans; color: #2B6264; font-weight: bold; font-size: 125%\">Creating or Updating Quotes</p>"
   ]
  },
  {
   "cell_type": "code",
   "execution_count": null,
   "id": "1e1775bd",
   "metadata": {
    "slideshow": {
     "slide_type": "fragment"
    }
   },
   "outputs": [],
   "source": [
    "import pprint\n",
    "\n",
    "import lusid\n",
    "from lusidjam import RefreshingToken\n",
    "from lusid.extensions import (\n",
    "    SyncApiClientFactory,\n",
    "    ArgsConfigurationLoader,\n",
    "    EnvironmentVariablesConfigurationLoader,\n",
    "    SecretsFileConfigurationLoader\n",
    ")\n",
    "from lusid.models import *\n",
    "from finbourne_sdk_utils.pandas_utils.lusid_pandas import lusid_response_to_data_frame\n",
    "\n",
    "# Authenticate to SDK\n",
    "# Run the Notebook in Jupyterhub for your LUSID domain and authenticate automatically\n",
    "secrets_path = os.getenv(\"FBN_SECRETS_PATH\")\n",
    "# Run the Notebook locally using a secrets file (see https://support.lusid.com/docs/how-do-i-use-an-api-access-token-with-the-lusid-sdk)\n",
    "if secrets_path is None:\n",
    "    secrets_path = os.path.join(os.path.dirname(os.getcwd()), \"secrets.json\")\n",
    "\n",
    "# Initiate an API Factory which is the client side object for interacting with LUSID APIs\n",
    "config_loaders=[\n",
    "    ArgsConfigurationLoader(access_token = RefreshingToken(), app_name = \"LusidJupyterNotebook\"),\n",
    "    EnvironmentVariablesConfigurationLoader(),\n",
    "    SecretsFileConfigurationLoader(secrets_path)]\n",
    "api_factory = lusid.extensions.SyncApiClientFactory(config_loaders=config_loaders)\n",
    "\n",
    "quotes_api = api_factory.build(lusid.api.QuotesApi)\n",
    "display(quotes_api)\n"
   ]
  },
  {
   "cell_type": "code",
   "execution_count": null,
   "id": "acd6ff30",
   "metadata": {
    "code_folding": [],
    "slideshow": {
     "slide_type": "subslide"
    }
   },
   "outputs": [],
   "source": [
    "response = quotes_api.upsert_quotes(\n",
    "    scope=\"FinbourneUniversity\",\n",
    "    request_body={\n",
    "        \"request_1\": lusid.UpsertQuoteRequest(\n",
    "            quote_id=lusid.QuoteId(\n",
    "                quote_series_id=lusid.QuoteSeriesId(\n",
    "                    provider=\"Lusid\",\n",
    "                    price_source=\"Manual\",\n",
    "                    instrument_id=\"US5949181045\",\n",
    "                    instrument_id_type=\"Isin\",\n",
    "                    quote_type=\"Price\",\n",
    "                    field=\"bid\"\n",
    "                ),\n",
    "                effective_at=\"2023-02-06T00:00:00Z\"\n",
    "            ),\n",
    "            metric_value=lusid.MetricValue(\n",
    "                value=256.77,\n",
    "                unit=\"USD\"\n",
    "            ),\n",
    "            lineage=\"DemoExample\",\n",
    "        ),\n",
    "        \"request_2\": lusid.UpsertQuoteRequest(\n",
    "            quote_id=lusid.QuoteId(\n",
    "                quote_series_id=lusid.QuoteSeriesId(\n",
    "                    provider=\"Lusid\",\n",
    "                    price_source=\"Manual\",\n",
    "                    instrument_id=\"US5949181045\",\n",
    "                    instrument_id_type=\"Isin\",\n",
    "                    quote_type=\"Price\",\n",
    "                    field=\"bid\"\n",
    "                ),\n",
    "                effective_at=\"2023-02-07T00:00:00Z\"\n",
    "            ),\n",
    "            metric_value=lusid.MetricValue(\n",
    "                value=267.56,\n",
    "                unit=\"USD\"\n",
    "            ),\n",
    "            lineage=\"DemoExample\",\n",
    "        ),\n",
    "        \"request_3\": lusid.UpsertQuoteRequest(\n",
    "            quote_id=lusid.QuoteId(\n",
    "                quote_series_id=lusid.QuoteSeriesId(\n",
    "                    provider=\"Lusid\",\n",
    "                    price_source=\"Manual\",\n",
    "                    instrument_id=\"US5949181045\",\n",
    "                    instrument_id_type=\"Isin\",\n",
    "                    quote_type=\"Price\",\n",
    "                    field=\"bid\"\n",
    "                ),\n",
    "                effective_at=\"2023-02-08T00:00:00Z\"\n",
    "            ),\n",
    "            metric_value=lusid.MetricValue(\n",
    "                value=267.56,\n",
    "                unit=\"USD\"\n",
    "            ),\n",
    "            lineage=\"DemoExample\",\n",
    "        )\n",
    "    }\n",
    ")\n",
    "\n",
    "pprint.pprint(response)"
   ]
  },
  {
   "cell_type": "markdown",
   "id": "d93f433d",
   "metadata": {
    "slideshow": {
     "slide_type": "slide"
    }
   },
   "source": [
    "<p style=\"font-family: Open Sans; color: #2B6264; font-weight: bold; font-size: 125%\">Listing Quotes</p>"
   ]
  },
  {
   "cell_type": "code",
   "execution_count": null,
   "id": "6f81c45a",
   "metadata": {
    "slideshow": {
     "slide_type": "subslide"
    }
   },
   "outputs": [],
   "source": [
    "response = quotes_api.list_quotes_for_scope(\n",
    "    scope=\"FinbourneUniversity\"\n",
    ")\n",
    "\n",
    "lusid_response_to_data_frame(response)\n"
   ]
  },
  {
   "cell_type": "code",
   "execution_count": null,
   "id": "586006c4",
   "metadata": {
    "slideshow": {
     "slide_type": "subslide"
    }
   },
   "outputs": [],
   "source": [
    "response = quotes_api.list_quotes_for_scope(\n",
    "    scope=\"FinbourneUniversity\",\n",
    "    filter=\"quoteId.quoteSeriesId.priceSource eq 'Manual'\"\n",
    ")\n",
    "\n",
    "lusid_response_to_data_frame(response)\n"
   ]
  },
  {
   "cell_type": "code",
   "execution_count": null,
   "id": "ba59e91c",
   "metadata": {
    "slideshow": {
     "slide_type": "subslide"
    }
   },
   "outputs": [],
   "source": [
    "response = quotes_api.list_quotes_for_scope(\n",
    "    scope=\"FinbourneUniversity\",\n",
    "    filter=\"\"\"\n",
    "        quoteId.quoteSeriesId.provider eq 'Lusid'\n",
    "        AND\n",
    "        quoteId.quoteSeriesId.priceSource eq 'Manual'\n",
    "        AND\n",
    "        quoteId.quoteSeriesId.instrumentId eq 'US5949181045'\n",
    "        AND\n",
    "        quoteId.quoteSeriesId.instrumentIdType eq 'Isin'\n",
    "        AND\n",
    "        quoteId.quoteSeriesId.quoteType eq 'Price'\n",
    "        AND\n",
    "        quoteId.quoteSeriesId.field eq 'bid'\n",
    "    \"\"\"\n",
    ")\n",
    "\n",
    "lusid_response_to_data_frame(response)\n"
   ]
  },
  {
   "cell_type": "markdown",
   "id": "eed1b2ab",
   "metadata": {
    "slideshow": {
     "slide_type": "slide"
    }
   },
   "source": [
    "<p style=\"font-family: Open Sans; color: #2B6264; font-weight: bold; font-size: 125%\">Resolving Quotes</p>"
   ]
  },
  {
   "cell_type": "code",
   "execution_count": null,
   "id": "0a742bed",
   "metadata": {
    "slideshow": {
     "slide_type": "subslide"
    }
   },
   "outputs": [],
   "source": [
    "response = quotes_api.get_quotes(\n",
    "    scope=\"FinbourneUniversity\",\n",
    "    request_body={\n",
    "        \"Resolution1\": lusid.QuoteSeriesId(\n",
    "            provider=\"Lusid\",\n",
    "            price_source=\"Manual\",\n",
    "            instrument_id=\"US5949181045\",\n",
    "            instrument_id_type=\"Isin\",\n",
    "            quote_type=\"Price\",\n",
    "            field=\"bid\"\n",
    "        )\n",
    "    }\n",
    ")\n",
    "\n",
    "pprint.pprint(response)"
   ]
  },
  {
   "cell_type": "code",
   "execution_count": null,
   "id": "ee15b360",
   "metadata": {
    "slideshow": {
     "slide_type": "subslide"
    }
   },
   "outputs": [],
   "source": [
    "response = quotes_api.get_quotes(\n",
    "    scope=\"FinbourneUniversity\",\n",
    "    max_age=\"P20Y1M1DT1H1M1.1S\",\n",
    "    request_body={\n",
    "        \"Resolution1\": lusid.QuoteSeriesId(\n",
    "            provider=\"Lusid\",\n",
    "            price_source=\"Manual\",\n",
    "            instrument_id=\"US5949181045\",\n",
    "            instrument_id_type=\"Isin\",\n",
    "            quote_type=\"Price\",\n",
    "            field=\"bid\"\n",
    "        )\n",
    "    }\n",
    ")\n",
    "\n",
    "pprint.pprint(response)"
   ]
  },
  {
   "cell_type": "code",
   "execution_count": null,
   "id": "c221bdea",
   "metadata": {
    "slideshow": {
     "slide_type": "subslide"
    }
   },
   "outputs": [],
   "source": [
    "response = quotes_api.get_quotes(\n",
    "    scope=\"FinbourneUniversity\",\n",
    "    max_age=\"PT1H\",\n",
    "    request_body={\n",
    "        \"Resolution1\": lusid.QuoteSeriesId(\n",
    "            provider=\"Lusid\",\n",
    "            price_source=\"Manual\",\n",
    "            instrument_id=\"US5949181045\",\n",
    "            instrument_id_type=\"Isin\",\n",
    "            quote_type=\"Price\",\n",
    "            field=\"bid\"\n",
    "        )\n",
    "    }\n",
    ")\n",
    "\n",
    "pprint.pprint(response)"
   ]
  },
  {
   "cell_type": "code",
   "execution_count": null,
   "id": "e32e769d",
   "metadata": {
    "slideshow": {
     "slide_type": "subslide"
    }
   },
   "outputs": [],
   "source": [
    "response = quotes_api.get_quotes(\n",
    "    scope=\"FinbourneUniversity\",\n",
    "    max_age=\"PT1H\",\n",
    "    effective_at=\"2023-02-07T00:30:00Z\",\n",
    "    request_body={\n",
    "        \"Resolution1\": lusid.QuoteSeriesId(\n",
    "            provider=\"Lusid\",\n",
    "            price_source=\"Manual\",\n",
    "            instrument_id=\"US5949181045\",\n",
    "            instrument_id_type=\"Isin\",\n",
    "            quote_type=\"Price\",\n",
    "            field=\"bid\"\n",
    "        )\n",
    "    }\n",
    ")\n",
    "\n",
    "pprint.pprint(response)"
   ]
  },
  {
   "cell_type": "markdown",
   "id": "75d0112b",
   "metadata": {
    "slideshow": {
     "slide_type": "slide"
    }
   },
   "source": [
    "<p style=\"font-family: Open Sans; color: #2B6264; font-weight: bold; font-size: 125%\">Deleting Quotes</p>"
   ]
  },
  {
   "cell_type": "code",
   "execution_count": null,
   "id": "123ee9b3",
   "metadata": {
    "code_folding": [],
    "slideshow": {
     "slide_type": "subslide"
    }
   },
   "outputs": [],
   "source": [
    "response = quotes_api.delete_quotes(\n",
    "    scope=\"FinbourneUniversity\",\n",
    "    request_body={\n",
    "        \"request_1\": lusid.QuoteId(\n",
    "            quote_series_id=lusid.QuoteSeriesId(\n",
    "                provider=\"Lusid\",\n",
    "                price_source=\"Manual\",\n",
    "                instrument_id=\"US5949181045\",\n",
    "                instrument_id_type=\"Isin\",\n",
    "                quote_type=\"Price\",\n",
    "                field=\"bid\"\n",
    "            ),\n",
    "            effective_at=\"2023-02-06T00:00:00Z\"\n",
    "        ),\n",
    "        \"request_2\": lusid.QuoteId(\n",
    "            quote_series_id=lusid.QuoteSeriesId(\n",
    "                provider=\"Lusid\",\n",
    "                price_source=\"Manual\",\n",
    "                instrument_id=\"US5949181045\",\n",
    "                instrument_id_type=\"Isin\",\n",
    "                quote_type=\"Price\",\n",
    "                field=\"bid\"\n",
    "            ),\n",
    "            effective_at=\"2023-02-07T00:00:00Z\"\n",
    "        ),\n",
    "        \"request_3\": lusid.QuoteId(\n",
    "            quote_series_id=lusid.QuoteSeriesId(\n",
    "                provider=\"Lusid\",\n",
    "                price_source=\"Manual\",\n",
    "                instrument_id=\"US5949181045\",\n",
    "                instrument_id_type=\"Isin\",\n",
    "                quote_type=\"Price\",\n",
    "                field=\"bid\"\n",
    "            ),\n",
    "            effective_at=\"2023-02-08T00:00:00Z\"\n",
    "        )\n",
    "    }\n",
    ")\n",
    "\n",
    "pprint.pprint(response)"
   ]
  },
  {
   "cell_type": "markdown",
   "id": "3a30b680",
   "metadata": {
    "slideshow": {
     "slide_type": "slide"
    }
   },
   "source": [
    "<p style=\"font-family: Open Sans; color: #2B6264; font-weight: bold; font-size: 125%\">What have we covered?</p>"
   ]
  },
  {
   "cell_type": "markdown",
   "id": "be8a7963",
   "metadata": {
    "slideshow": {
     "slide_type": "fragment"
    }
   },
   "source": [
    "<ul>\n",
    "    <li style=\"color: #ff5200\"><p style=\"font-family: Open Sans; color: #2B6264\">We created Quotes using an upsert method where we received a partial success where results were keyed by an ephemeral identifier defined in the request.</p></li>\n",
    "</ul>"
   ]
  },
  {
   "cell_type": "markdown",
   "id": "76290621",
   "metadata": {
    "slideshow": {
     "slide_type": "fragment"
    }
   },
   "source": [
    "<ul>\n",
    "    <li style=\"color: #ff5200\"><p style=\"font-family: Open Sans; color: #2B6264\">We listed Quotes in our FinbourneUniversity scope, using a filter to limit the results.</p></li>\n",
    "</ul>"
   ]
  },
  {
   "cell_type": "markdown",
   "id": "fbd46722",
   "metadata": {
    "slideshow": {
     "slide_type": "subslide"
    }
   },
   "source": [
    "<ul>\n",
    "    <li style=\"color: #ff5200\"><p style=\"font-family: Open Sans; color: #2B6264\">We resolved Quotes both at the current effective date and at an explicitly provided effective date and saw how the max age parameter affected the results.</p></li>\n",
    "</ul>"
   ]
  },
  {
   "cell_type": "markdown",
   "id": "3a25d977",
   "metadata": {
    "slideshow": {
     "slide_type": "fragment"
    }
   },
   "source": [
    "<ul>\n",
    "    <li style=\"color: #ff5200\"><p style=\"font-family: Open Sans; color: #2B6264\">We deleted the Quotes we created earlier, again seeing how we can have a partial success.</p></li>\n",
    "</ul>"
   ]
  }
 ],
 "metadata": {
  "celltoolbar": "Slideshow",
  "kernelspec": {
   "display_name": "Python 3",
   "language": "python",
   "name": "python3"
  },
  "language_info": {
   "codemirror_mode": {
    "name": "ipython",
    "version": 3
   },
   "file_extension": ".py",
   "mimetype": "text/x-python",
   "name": "python",
   "nbconvert_exporter": "python",
   "pygments_lexer": "ipython3",
   "version": "3.10.8"
  },
  "toc": {
   "base_numbering": 1,
   "nav_menu": {},
   "number_sections": false,
   "sideBar": true,
   "skip_h1_title": false,
   "title_cell": "Table of Contents",
   "title_sidebar": "Contents",
   "toc_cell": false,
   "toc_position": {},
   "toc_section_display": true,
   "toc_window_display": false
  },
  "varInspector": {
   "cols": {
    "lenName": 16,
    "lenType": 16,
    "lenVar": 40
   },
   "kernels_config": {
    "python": {
     "delete_cmd_postfix": "",
     "delete_cmd_prefix": "del ",
     "library": "var_list.py",
     "varRefreshCmd": "print(var_dic_list())"
    },
    "r": {
     "delete_cmd_postfix": ") ",
     "delete_cmd_prefix": "rm(",
     "library": "var_list.r",
     "varRefreshCmd": "cat(var_dic_list()) "
    }
   },
   "types_to_exclude": [
    "module",
    "function",
    "builtin_function_or_method",
    "instance",
    "_Feature"
   ],
   "window_display": false
  }
 },
 "nbformat": 4,
 "nbformat_minor": 5
}
