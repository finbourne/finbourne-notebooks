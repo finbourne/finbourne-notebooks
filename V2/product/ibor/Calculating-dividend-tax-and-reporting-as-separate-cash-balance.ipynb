{
 "cells": [
  {
   "cell_type": "markdown",
   "id": "disabled-thanks",
   "metadata": {},
   "source": [
    "# Calculating dividend tax and reporting it as a separate cash balance\n",
    "\n",
    "In this Jupyter Notebook we'll see how to use LUSID to perform the following task:\n",
    "\n",
    "**<div align=\"center\">As a portfolio manager, I want LUSID to automatically calculate dividend tax for upserted transactions representing cash dividends, and report the tax amounts due in different currencies as separate cash balances.</div>**"
   ]
  },
  {
   "cell_type": "code",
   "execution_count": null,
   "id": "progressive-origin",
   "metadata": {},
   "outputs": [],
   "source": [
    "# Set up LUSID\n",
    "import os\n",
    "import pandas as pd\n",
    "import json\n",
    "import uuid\n",
    "from IPython.core.display import HTML\n",
    "from datetime import datetime, timedelta\n",
    "import logging\n",
    "logging.basicConfig(level=logging.INFO)\n",
    "\n",
    "import lusid as lu\n",
    "import lusid.api as la\n",
    "import lusid.models as lm\n",
    "\n",
    "from lusidjam import RefreshingToken\n",
    "from lusid.extensions import (\n",
    "    SyncApiClientFactory,\n",
    "    ArgsConfigurationLoader,\n",
    "    EnvironmentVariablesConfigurationLoader,\n",
    "    SecretsFileConfigurationLoader\n",
    ")\n",
    "from finbourne_sdk_utils.pandas_utils.lusid_pandas import lusid_response_to_data_frame\n",
    "from finbourne_sdk_utils.jupyter_tools import StopExecution\n",
    "from finbourne_sdk_utils.lpt.lpt import to_date\n",
    "\n",
    "# Set pandas display options\n",
    "pd.set_option(\"display.max_columns\", None)\n",
    "pd.set_option(\"display.max_rows\", None)\n",
    "pd.options.display.float_format = \"{:,.2f}\".format\n",
    "display(HTML(\"<style>.container { width:90% !important; }</style>\"))\n",
    "\n",
    "# Authenticate to SDK\n",
    "# Run the Notebook in Jupyterhub for your LUSID domain and authenticate automatically\n",
    "secrets_path = os.getenv(\"FBN_SECRETS_PATH\")\n",
    "# Run the Notebook locally using a secrets file (see https://support.lusid.com/knowledgebase/article/KA-01663)\n",
    "if secrets_path is None:\n",
    "    secrets_path = os.path.join(os.path.dirname(os.getcwd()), \"secrets.json\")\n",
    "\n",
    "# Initiate an API Factory which is the client side object for interacting with LUSID APIs\n",
    "config_loaders=[\n",
    "    ArgsConfigurationLoader(access_token = RefreshingToken(), app_name = \"LusidJupyterNotebook\"),\n",
    "    EnvironmentVariablesConfigurationLoader(),\n",
    "    SecretsFileConfigurationLoader(secrets_path)]\n",
    "api_factory = SyncApiClientFactory(config_loaders=config_loaders)\n",
    "    \n",
    "# Confirm success by printing SDK version\n",
    "api_status = pd.DataFrame(api_factory.build(lu.ApplicationMetadataApi).get_lusid_versions().to_dict())\n",
    "display(api_status)"
   ]
  },
  {
   "cell_type": "code",
   "execution_count": null,
   "id": "major-provision",
   "metadata": {},
   "outputs": [],
   "source": [
    "# Create a scope and code to segregate data in this Notebook from others\n",
    "module_scope = \"FBNTutorials\"\n",
    "module_code = \"DividendTaxV2\"\n",
    "print(f\"'{module_scope}\\{module_code}' scope and code created.\")"
   ]
  },
  {
   "cell_type": "code",
   "execution_count": null,
   "id": "409ea32f",
   "metadata": {},
   "outputs": [],
   "source": [
    "# Build all the required APIs\n",
    "try:\n",
    "    instruments_api = api_factory.build(la.InstrumentsApi)\n",
    "    property_definition_api = api_factory.build(la.PropertyDefinitionsApi)\n",
    "    transaction_portfolios_api = api_factory.build(la.TransactionPortfoliosApi)\n",
    "    portfolios_api = api_factory.build(la.PortfoliosApi)\n",
    "    taxruleset_api = api_factory.build(la.TaxRuleSetsApi)\n",
    "    transaction_config_api = api_factory.build(la.TransactionConfigurationApi)\n",
    "    print(\"All APIs built correctly\")\n",
    "except lu.ApiException as e:\n",
    "    print(e)"
   ]
  },
  {
   "cell_type": "markdown",
   "id": "b589e658",
   "metadata": {},
   "source": [
    "## Setup: Delete any tax rule set from previous notebook run\n",
    "\n",
    "This is because you can't have multiple matching tax rule sets with the same output property."
   ]
  },
  {
   "cell_type": "code",
   "execution_count": null,
   "id": "efc1311a",
   "metadata": {},
   "outputs": [],
   "source": [
    "try:\n",
    "    delete_response=taxruleset_api.delete_tax_rule_set(\n",
    "        scope = module_scope,\n",
    "        code = module_code\n",
    "    )\n",
    "    print(\"Success!\")\n",
    "except lu.ApiException as e:\n",
    "    #print(e)\n",
    "    if json.loads(e.body)[\"name\"] == \"TaxRuleSetNotFound\":\n",
    "        logging.info(json.loads(e.body)[\"title\"])"
   ]
  },
  {
   "cell_type": "markdown",
   "id": "spare-dryer",
   "metadata": {},
   "source": [
    "## 1. Master instruments and attach tax-related properties\n",
    "\n",
    "Here we master BP and Microsoft as equity instruments in a custom instrument scope. Note GBP and USD currency instruments are pre-mastered in LUSID.\n",
    "\n",
    "### 1.1 Create a property type for instrument tax domicile\n",
    "\n",
    "We'll use properties of this type (in conjunction with a similar portfolio property) to trigger a tax rule set to determine the correct rate of dividend tax for transactions representing cash dividends in different jurisdictions."
   ]
  },
  {
   "cell_type": "code",
   "execution_count": null,
   "id": "6b148047",
   "metadata": {},
   "outputs": [],
   "source": [
    "# Convenience function for creating property types\n",
    "def create_property_type(property_domain, property_scope, property_code, data_type):\n",
    "    \n",
    "    # Define property type with a scope and code unique to the domain\n",
    "    property_type_request = lm.CreatePropertyDefinitionRequest(\n",
    "        domain = property_domain,\n",
    "        scope = property_scope,\n",
    "        code = property_code,\n",
    "        display_name = property_code,\n",
    "        data_type_id = lm.ResourceId(scope = \"system\", code = data_type)\n",
    "    )\n",
    "    \n",
    "    # Create property type in LUSID\n",
    "    try:\n",
    "        property_type_response = property_definition_api.create_property_definition(\n",
    "            create_property_definition_request = property_type_request\n",
    "        )\n",
    "        print(f\"Property type created with the following key: {property_type_response.key}\")\n",
    "        return property_type_response.key\n",
    "    except lu.ApiException as e:\n",
    "        if json.loads(e.body)[\"name\"] == \"PropertyAlreadyExists\":\n",
    "            logging.info(\n",
    "                f\"Property type with the following key already exists: {property_type_request.domain}/{property_type_request.scope}/{property_type_request.code}\"\n",
    "            )  \n",
    "        return f\"{property_type_request.domain}/{property_type_request.scope}/{property_type_request.code}\"\n",
    "\n",
    "# Create a property type representing the tax domicile of an instrument, and capture the 3-stage key\n",
    "instrument_tax_property_key = create_property_type(\"Instrument\", \"DividendTax\", \"Country\", \"string\")"
   ]
  },
  {
   "cell_type": "markdown",
   "id": "a11cd26a",
   "metadata": {},
   "source": [
    "### 1.2 Master instruments and attach tax domicile property values"
   ]
  },
  {
   "cell_type": "code",
   "execution_count": null,
   "id": "instructional-charlotte",
   "metadata": {},
   "outputs": [],
   "source": [
    "# Convenience function for mastering securities as equity instruments in a custom instrument scope\n",
    "def master_instrument(figi, security, currency, domicile):\n",
    "    \n",
    "    # Define equity instrument\n",
    "    instrument_request = {\n",
    "        security: lm.InstrumentDefinition(\n",
    "            name = security,\n",
    "            identifiers = {\"Figi\": lm.InstrumentIdValue(value = figi)},\n",
    "            definition = lm.Equity(instrument_type = \"Equity\", dom_ccy = currency),\n",
    "            # Attach a property with a value declaring the tax domicile of the instrument\n",
    "            properties = [\n",
    "                lm.ModelProperty(\n",
    "                    key = instrument_tax_property_key,\n",
    "                    value = lm.PropertyValue(\n",
    "                        label_value = domicile\n",
    "                    )\n",
    "                )\n",
    "            ]\n",
    "        )\n",
    "    }\n",
    "    \n",
    "    # Upsert into LUSID\n",
    "    instrument_response = instruments_api.upsert_instruments(\n",
    "        request_body = instrument_request,\n",
    "        scope = f\"{module_scope}{module_code}\"\n",
    "    )\n",
    "\n",
    "    # Transform upsert response to a dataframe and show internally-generated LUID identifier and tax-related property\n",
    "    instrument_response_df = lusid_response_to_data_frame(list(instrument_response.values.values()))\n",
    "    display(instrument_response_df[[\"name\", \"lusidInstrumentId\"]])\n",
    "\n",
    "# Master BP instrument with a tax-related property value of UK    \n",
    "master_instrument(\"BBG000C05BD1\", \"BP\", \"GBP\", \"UK\")\n",
    "\n",
    "# Master Microsoft instrument with a tax-related property value of USA\n",
    "master_instrument(\"BBG000BPH459\", \"Microsoft\", \"USD\", \"USA\")"
   ]
  },
  {
   "cell_type": "markdown",
   "id": "olympic-rescue",
   "metadata": {},
   "source": [
    "## 2. Set up a transaction portfolio\n",
    "\n",
    "We need to:\n",
    "\n",
    "* Attach a tax-related property to trigger a tax rule set to determine the correct rate of dividend tax, in conjunction with the instrument properties.\n",
    "* Register a sub-holding key (SHK) so we can report dividend tax as a separate cash holding.\n",
    "* Register a tax rule set scope to identify a set of applicable tax rule sets for the portfolio.\n",
    "* Establish initial positions.\n",
    "\n",
    "\n",
    "### 2.1 Create a property type for the portfolio's SHK"
   ]
  },
  {
   "cell_type": "code",
   "execution_count": null,
   "id": "b154c1e7",
   "metadata": {},
   "outputs": [],
   "source": [
    "# Create a SHK that enables us to report dividend tax as a separate holding, and capture the 3-stage key\n",
    "sub_holding_key = create_property_type(\"Transaction\", \"SHKs\", \"DividendTax\", \"string\")"
   ]
  },
  {
   "cell_type": "markdown",
   "id": "4d8da648",
   "metadata": {},
   "source": [
    "### 2.2 Create a property type for the portfolio's tax domicile"
   ]
  },
  {
   "cell_type": "code",
   "execution_count": null,
   "id": "a763f8cd",
   "metadata": {},
   "outputs": [],
   "source": [
    "# Create a property type representing the tax domicile of a portfolio, and capture the 3-stage key\n",
    "portfolio_tax_property_key = create_property_type(\"Portfolio\", \"DividendTax\", \"Domicile\", \"string\")"
   ]
  },
  {
   "cell_type": "markdown",
   "id": "ec48b7a7",
   "metadata": {},
   "source": [
    "### 2.3 Create the portfolio"
   ]
  },
  {
   "cell_type": "code",
   "execution_count": null,
   "id": "swiss-stream",
   "metadata": {},
   "outputs": [],
   "source": [
    "# Define transaction portfolio\n",
    "portfolio_request=lm.CreateTransactionPortfolioRequest(\n",
    "    display_name = f\"Portfolio for dividend tax tutorial\",\n",
    "    code = f\"{module_code}\",\n",
    "    # Set the portfolio currency\n",
    "    base_currency = \"GBP\",\n",
    "    # Must be before first transaction recorded\n",
    "    created = to_date(\"2023-01-01\"),\n",
    "    # Attempt to resolve transactions to instruments in the custom scope before falling back to the default scope\n",
    "    instrument_scopes = [f\"{module_scope}{module_code}\"],\n",
    "    # Register the SHK with the portfolio\n",
    "    sub_holding_keys = [sub_holding_key],\n",
    "    # Register a tax rule set scope with the portfolio\n",
    "    taxRuleSetScope=f\"{module_scope}\",\n",
    "    # Attach a portfolio property with a value signifying the tax domicile\n",
    "    properties={\n",
    "        portfolio_tax_property_key: lm.ModelProperty(\n",
    "            key = portfolio_tax_property_key,\n",
    "            value = lm.PropertyValue(\n",
    "                label_value = \"GB\"\n",
    "            )\n",
    "        )\n",
    "    }\n",
    ")\n",
    "\n",
    "# Create transaction portfolio in LUSID\n",
    "try:\n",
    "    portfolio_response=transaction_portfolios_api.create_portfolio(\n",
    "        scope = module_scope,\n",
    "        create_transaction_portfolio_request = portfolio_request\n",
    "    )\n",
    "    # Confirm success\n",
    "    print(f\"Portfolio with display name '{portfolio_response.display_name}' created effective {str(portfolio_response.created)}\")\n",
    "except lu.ApiException as e:\n",
    "    if json.loads(e.body)[\"name\"] == \"PortfolioWithIdAlreadyExists\":\n",
    "            logging.info(json.loads(e.body)[\"title\"])"
   ]
  },
  {
   "cell_type": "markdown",
   "id": "8f0dcee3",
   "metadata": {},
   "source": [
    "### 2.4 Confirm portfolio details"
   ]
  },
  {
   "cell_type": "code",
   "execution_count": null,
   "id": "3d46d076",
   "metadata": {},
   "outputs": [],
   "source": [
    "try:\n",
    "    transaction_portfolio_response = transaction_portfolios_api.get_details(scope = module_scope, code = module_code)\n",
    "    tp_df = lusid_response_to_data_frame(transaction_portfolio_response)\n",
    "    # Drop some noisy indices\n",
    "    display(tp_df[~(tp_df.index.str.startswith('links') | tp_df.index.str.startswith('version') | tp_df.index.str.startswith('staged') | tp_df.index.str.startswith('href'))])\n",
    "except lu.ApiException as e:\n",
    "    print(e)"
   ]
  },
  {
   "cell_type": "markdown",
   "id": "31ede791",
   "metadata": {},
   "source": [
    "#### 2.4.1 Confirm the portfolio's tax-related property\n",
    "\n",
    "The `GetDetails` API (above) has no `propertyKeys` parameter, but we can use the dedicated `GetPortfolioProperties` API instead."
   ]
  },
  {
   "cell_type": "code",
   "execution_count": null,
   "id": "0f43471b",
   "metadata": {},
   "outputs": [],
   "source": [
    "tp_property_response = portfolios_api.get_portfolio_properties(scope = module_scope, code = module_code)\n",
    "tp_property_response_df = lusid_response_to_data_frame(list(tp_property_response.properties.values()))\n",
    "tp_property_response_df"
   ]
  },
  {
   "cell_type": "markdown",
   "id": "6f1640f3",
   "metadata": {},
   "source": [
    "### 2.5 Establish positions in the portfolio\n",
    "\n",
    "We'll establish positions effective 2 January so the portfolio has holdings before we perform tax-related operations."
   ]
  },
  {
   "cell_type": "code",
   "execution_count": null,
   "id": "c884e898",
   "metadata": {},
   "outputs": [],
   "source": [
    "# Create convenience functions for adjusting holdings\n",
    "def adjust_equity_holdings(figi, quantity, shareprice, ccy, ttpr):\n",
    "    \n",
    "    adjust_holdings_response = transaction_portfolios_api.batch_adjust_holdings(\n",
    "        scope = module_scope,\n",
    "        code = module_code,\n",
    "        success_mode = \"Atomic\",\n",
    "        request_body = {\n",
    "            f\"{figi}{quantity}{ccy}\": lm.AdjustHoldingForDateRequest(\n",
    "                effective_at = \"2023-01-02\",\n",
    "                instrument_identifiers = {\"Instrument/default/Figi\": figi},\n",
    "                tax_lots = [\n",
    "                    lm.TargetTaxLotRequest(\n",
    "                        units = quantity,\n",
    "                        price = shareprice,\n",
    "                        cost = lm.CurrencyAndAmount(amount = quantity * shareprice, currency = ccy),\n",
    "                        # Trade to portfolio rate is 1 for GBP in a GBP-denominated portfolio\n",
    "                        portfolio_cost = quantity * shareprice * ttpr\n",
    "                    )\n",
    "                ]\n",
    "            )\n",
    "        }\n",
    "    )\n",
    "    if len(adjust_holdings_response.failed) > 0:\n",
    "        logging.info(adjust_holdings_response.failed)\n",
    "    else:\n",
    "        logging.info(f\"Adjustment succeeded for {figi}\")\n",
    "\n",
    "def adjust_cash_holdings(quantity, ccy, ttpr):\n",
    "    \n",
    "    adjust_holdings_response = transaction_portfolios_api.batch_adjust_holdings(\n",
    "        scope = module_scope,\n",
    "        code = module_code,\n",
    "        success_mode = \"Atomic\",\n",
    "        request_body = {\n",
    "            f\"{quantity}{ccy}\": lm.AdjustHoldingForDateRequest(\n",
    "                effective_at = \"2023-01-02\",\n",
    "                instrument_identifiers = {\"Instrument/default/Currency\": ccy},\n",
    "                tax_lots = [\n",
    "                    lm.TargetTaxLotRequest(\n",
    "                        units = quantity,\n",
    "                        # Local price of a currency is always 1\n",
    "                        price = 1,\n",
    "                        cost = lm.CurrencyAndAmount(amount = quantity * 1, currency = ccy),\n",
    "                        # Trade to portfolio rate is 1 for GBP in a GBP-denominated portfolio\n",
    "                        portfolio_cost = quantity * 1 * ttpr\n",
    "                    )\n",
    "                ]\n",
    "            )\n",
    "        }\n",
    "    )\n",
    "    if len(adjust_holdings_response.failed) > 0:\n",
    "        logging.info(adjust_holdings_response.failed)\n",
    "    else:\n",
    "        logging.info(f\"Adjustment succeeded for {ccy}\")"
   ]
  },
  {
   "cell_type": "code",
   "execution_count": null,
   "id": "5c1019a3",
   "metadata": {},
   "outputs": [],
   "source": [
    "# Set starting position for BP\n",
    "adjust_equity_holdings(\"BBG000C05BD1\", 1000, 10, \"GBP\", 1)\n",
    "# Set starting position for Microsoft\n",
    "adjust_equity_holdings(\"BBG000BPH459\", 1000, 10, \"USD\", 0.8)\n",
    "\n",
    "# Set starting position for GBP     \n",
    "adjust_cash_holdings(20000, \"GBP\", 1)\n",
    "# Set starting position for USD\n",
    "adjust_cash_holdings(20000, \"USD\", 0.8)"
   ]
  },
  {
   "cell_type": "markdown",
   "id": "25c51024",
   "metadata": {},
   "source": [
    "### 2.6 Confirm positions after they have settled"
   ]
  },
  {
   "cell_type": "code",
   "execution_count": null,
   "id": "f25316ff",
   "metadata": {},
   "outputs": [],
   "source": [
    "# Convenience function for generating a holdings report\n",
    "def get_portfolio_holdings(holdings_date):\n",
    "    \n",
    "    get_holdings_response = transaction_portfolios_api.get_holdings(\n",
    "        scope = module_scope, \n",
    "        code = module_code,\n",
    "        # Retrieve properties to make results more intuitive\n",
    "        property_keys = [\"Instrument/default/Name\", portfolio_tax_property_key, instrument_tax_property_key],\n",
    "        effective_at = to_date(holdings_date).isoformat()\n",
    "    )\n",
    "    \n",
    "    # Transform API response to a Pandas dataframe and show it\n",
    "    get_holdings_response_df=lusid_response_to_data_frame(get_holdings_response, rename_properties=True)\n",
    "    # Drop some noisy columns\n",
    "    if len(get_holdings_response.values) > 0:\n",
    "        get_holdings_response_df = get_holdings_response_df.loc[:, ~get_holdings_response_df.columns.str.startswith('properties') & ~get_holdings_response_df.columns.str.startswith('subHoldingKeys') & ~get_holdings_response_df.columns.str.startswith('version')]\n",
    "\n",
    "    display(get_holdings_response_df)\n",
    "    \n",
    "get_portfolio_holdings(\"2023-01-04\")"
   ]
  },
  {
   "cell_type": "markdown",
   "id": "aware-passenger",
   "metadata": {},
   "source": [
    "### 2.7 Audit output transactions\n",
    "\n",
    "LUSID automatically generates 'output transactions' under-the-hood to enrich manually-upserted 'input transactions' (and virtual economic activity such as corporate actions) with extra information.\n",
    "\n",
    "Here we use a window of 2-4 January to cover the 4 input transactions upserted above; we should see 4 output transactions."
   ]
  },
  {
   "cell_type": "code",
   "execution_count": null,
   "id": "still-retailer",
   "metadata": {},
   "outputs": [],
   "source": [
    "# Create convenience function for generating output transactions for a particular window\n",
    "def get_output_transactions(start, end, extra_properties, transpose):\n",
    "    \n",
    "    output_transactions_response = transaction_portfolios_api.build_transactions(\n",
    "        scope = module_scope, \n",
    "        code = module_code,\n",
    "        transaction_query_parameters = lm.TransactionQueryParameters(\n",
    "            start_date = to_date(start).isoformat(),\n",
    "            end_date = to_date(end).isoformat()\n",
    "        ),\n",
    "        # Retrieve property to make results more intuitive\n",
    "        property_keys = [\"Instrument/default/Name\", extra_properties, \"Transaction/system/AppliedTaxRule\"]\n",
    "    )\n",
    "    \n",
    "    if transpose == \"vertical\":\n",
    "        output_transactions_response_df = lusid_response_to_data_frame(output_transactions_response).transpose()\n",
    "    else:\n",
    "        output_transactions_response_df = lusid_response_to_data_frame(output_transactions_response)\n",
    "    display(output_transactions_response_df)\n",
    "    \n",
    "get_output_transactions(\"2020-01-02\", \"2023-01-04\", \"\", \"horizontal\")"
   ]
  },
  {
   "cell_type": "markdown",
   "id": "executed-rating",
   "metadata": {},
   "source": [
    "## 3. Create a tax rule set to calculate different rates of dividend tax\n",
    "\n",
    "A tax rule set has:\n",
    "\n",
    "* A `scope` that must be registered with each portfolio you wish tax calculations to impact, and a `code` unique among all tax rule sets in the scope.\n",
    "* Any number of tax rules, each with any number of match criteria that are processed in order. Note values can be compared against properties in the `Instrument`, `Portfolio` and `InstrumentEvent` domains, and also SHKs in the `Transaction` domain if the `criterion_type` is set to `SubHoldingKeyValueEquals`. Tax rules apply from 'now' unless you explicitly specify an `effectiveAt`.\n",
    "* An 'output property' in the `Transaction` domain that stores the result; that is, the amount of tax due for each matching transaction, calculated using the appropriate rate. Note the name of the output property must be unique among all tax rule sets in the scope.\n",
    "\n",
    "### 3.1 Create an 'output' property type to store the calculated amount of tax due"
   ]
  },
  {
   "cell_type": "code",
   "execution_count": null,
   "id": "d136e7b4",
   "metadata": {},
   "outputs": [],
   "source": [
    "# Create a property type representing the amount of dividend tax due, and capture the 3-stage key\n",
    "outputtransaction_taxdue_property_key = create_property_type(\"Transaction\", \"DividendTax\", \"AmountDueV2\", \"number\")"
   ]
  },
  {
   "cell_type": "markdown",
   "id": "c121bb07",
   "metadata": {},
   "source": [
    "### 3.2 Create a tax rule set handling different UK and US rates of dividend tax effective 1 Jan 2023\n",
    "\n",
    "We specify an explicit `effectiveAt` so the tax rules in our set apply from a specific date, rather than 'now'. \n",
    "\n",
    "These rules then stay in effect until we call the `UpdateTaxRuleSet` API to replace them with rules (presumably with different rates) that have a subsequent `effectiveAt`."
   ]
  },
  {
   "cell_type": "code",
   "execution_count": null,
   "id": "statutory-length",
   "metadata": {},
   "outputs": [],
   "source": [
    "def create_taxruleset(effective_date, uk_tax_rate, us_tax_rate):\n",
    "    \n",
    "    # Define tax rule set\n",
    "    tax_request = lm.TaxRuleSet(\n",
    "        id = lm.ResourceId(\n",
    "            scope = module_scope,\n",
    "            code = module_code\n",
    "        ),\n",
    "        description = \"Dividend tax for UK-domiciled portfolios\",\n",
    "        display_name = \"Dividend tax\",\n",
    "        # Specify output property to store the amount of tax due\n",
    "        output_property_key = outputtransaction_taxdue_property_key,\n",
    "        rules = [\n",
    "            lm.TaxRule(\n",
    "                name = \"UKDividendTax\",\n",
    "                description = \"Dividend tax that applies to UK equities\",\n",
    "                rate = uk_tax_rate,\n",
    "                match_criteria = [\n",
    "                    lm.PropertyValueEquals(\n",
    "                        criterion_type = \"PropertyValueEquals\",\n",
    "                        property_key = instrument_tax_property_key,\n",
    "                        value = \"UK\" \n",
    "                    ),\n",
    "                    lm.PropertyValueEquals(\n",
    "                        criterion_type=\"PropertyValueEquals\",\n",
    "                        property_key = portfolio_tax_property_key,\n",
    "                        value = \"GB\" \n",
    "                    )\n",
    "                ],\n",
    "            ),\n",
    "            # Create rule for US dividend tax in a GB-domiciled portfolio for 2023 tax year\n",
    "            lm.TaxRule(\n",
    "                name = \"USDividendTax\",\n",
    "                description = \"Dividend tax that applies to US equities in UK portfolios\",\n",
    "                rate = us_tax_rate,\n",
    "                match_criteria = [\n",
    "                    lm.PropertyValueEquals(\n",
    "                        criterion_type = \"PropertyValueEquals\",\n",
    "                        property_key = instrument_tax_property_key,\n",
    "                        value = \"USA\" \n",
    "                    ),\n",
    "                    lm.PropertyValueEquals(\n",
    "                        criterion_type = \"PropertyValueEquals\",\n",
    "                        property_key = portfolio_tax_property_key,\n",
    "                        value = \"GB\" \n",
    "                    )\n",
    "                ],\n",
    "            )\n",
    "        ]\n",
    "    )\n",
    "    \n",
    "    # Create tax rule set in LUSID\n",
    "    try:\n",
    "        tax_response = taxruleset_api.create_tax_rule_set(\n",
    "            create_tax_rule_set_request = tax_request,\n",
    "            effective_at = to_date(effective_date).isoformat()\n",
    "        )\n",
    "        print(\"Tax rule set created\")\n",
    "        #print(tax_response)\n",
    "    except lu.ApiException as e:\n",
    "        if json.loads(e.body)[\"name\"] == \"TaxRuleSetAlreadyExists\":\n",
    "            logging.info(\n",
    "                \"Tax rule set already exists.\"\n",
    "            )\n",
    "        else:\n",
    "            print(e)\n",
    "        \n",
    "create_taxruleset(\"2023-01-01\", 0.25, 0.1)"
   ]
  },
  {
   "cell_type": "markdown",
   "id": "d780ff0b",
   "metadata": {},
   "source": [
    "### 3.3 Confirm tax rule set details\n",
    "\n",
    "If we specify any `effectiveAt` date later than 1 Jan 2023 we should see our tax rules. Specifying an earlier date returns an empty `rules[]` list."
   ]
  },
  {
   "cell_type": "code",
   "execution_count": null,
   "id": "9866e71f",
   "metadata": {},
   "outputs": [],
   "source": [
    "def get_taxruleset(from_date):\n",
    "\n",
    "    tax_response = taxruleset_api.get_tax_rule_set(module_scope, module_code, effective_at=from_date)\n",
    "    tax_response_df = lusid_response_to_data_frame(tax_response)\n",
    "    # Drop some noisy indices\n",
    "    display(tax_response_df[~(tax_response_df.index.str.startswith('links') | tax_response_df.index.str.startswith('version'))])\n",
    "\n",
    "# Specify an empty string (\"\") for 'now'...\n",
    "get_taxruleset(\"2022-01-01\") # 2022; rules shouldn't exist\n",
    "get_taxruleset(\"2023-01-01\") # 2023; rules should exist"
   ]
  },
  {
   "cell_type": "markdown",
   "id": "299bedd7",
   "metadata": {},
   "source": [
    "## 4. Create a custom transaction type to trigger the tax rule set and report tax amounts due\n",
    "\n",
    "We need our custom transaction type to do three things:\n",
    "\n",
    "1. Trigger the tax rule set to calculate dividend tax and return the amount of tax due for each transaction to which the type applies. To do this we'll add a calculation type.\n",
    "2. Add the gross dividend payment to the main cash balance in the appropriate currency. To do this we'll add a movement using one of the built-in sides provided with LUSID.\n",
    "3. Report the dividend tax amount due as a separate cash balance. To do this we'll add a movement using a custom side that maps the tax rule set's output property to the portfolio's SHK.\n",
    "\n",
    "### 4.1 Create a custom side\n",
    "\n",
    "We first need to create a custom side with the `units` and `amount` fields  set to the value of the tax rule set's output property, to capture the amount of dividend tax due."
   ]
  },
  {
   "cell_type": "code",
   "execution_count": null,
   "id": "940ecbc0",
   "metadata": {},
   "outputs": [],
   "source": [
    "# Define custom side\n",
    "side_request = lm.SideDefinitionRequest(\n",
    "    security = \"Txn:SettleCcy\",\n",
    "    currency = \"Txn:SettlementCurrency\",\n",
    "    rate = \"Txn:TradeToPortfolioRate\",\n",
    "    units = outputtransaction_taxdue_property_key,\n",
    "    amount = outputtransaction_taxdue_property_key,\n",
    ")\n",
    "\n",
    "# Create custom side in LUSID\n",
    "try:\n",
    "    side_response = transaction_config_api.set_side_definition(\n",
    "        # Specify the name of the custom side\n",
    "        side = f\"{module_scope}{module_code}Side\",\n",
    "        side_definition_request = side_request\n",
    "    )\n",
    "    side_df = lusid_response_to_data_frame(side_response)\n",
    "    # Drop some noisy indices\n",
    "    display(side_df[~(side_df.index.str.startswith('links'))])\n",
    "    #display(side_df)\n",
    "except lu.ApiException as e:\n",
    "    print(e)\n",
    "    if json.loads(e.body)[\"name\"] == \"InvalidParameterValue\":\n",
    "        logging.info(\"Side definition already exists.\")"
   ]
  },
  {
   "cell_type": "markdown",
   "id": "502ddb06",
   "metadata": {},
   "source": [
    "### 4.2 Create a custom transaction type using the custom side\n",
    "\n",
    "Our custom transaction type has three movements:\n",
    "\n",
    "* The first movement adds the gross dividend payment to the main cash balance.\n",
    "* The second movement maps the output property captured by the custom side to the portfolio's SHK, to report it as a separate cash holding.\n",
    "* The third movement is unrelated to the task at hand but is important to report transactions representing cash dividends properly in downstream A2B reports and trial balances.\n",
    "\n",
    "Setting the calculation type to `TaxAmounts` triggers the tax rule set. Details of the equity instrument are passed in using the built-in `Side1` designed for securities (that is, non-currency instruments). "
   ]
  },
  {
   "cell_type": "code",
   "execution_count": null,
   "id": "4e40aa72",
   "metadata": {},
   "outputs": [],
   "source": [
    "# Define custom transaction type\n",
    "transaction_type_request = lm.TransactionTypeRequest(\n",
    "    # Create an alias\n",
    "    aliases = [\n",
    "        lm.TransactionTypeAlias(          \n",
    "            type = f\"{module_scope}{module_code}TransactionType\",\n",
    "            description = \"Calculating and applying dividend tax as a separate cash holding\",\n",
    "            transaction_class = \"Basic\",\n",
    "            transaction_roles = \"AllRoles\"\n",
    "        )\n",
    "    ],\n",
    "    calculations = [\n",
    "        lm.TransactionTypeCalculation(\n",
    "            type = \"TaxAmounts\",\n",
    "            side = \"Side1\"\n",
    "        )\n",
    "    ],\n",
    "    movements = [\n",
    "        # Create a positive movement that increases the main cash balance by the gross dividend payment\n",
    "        lm.TransactionTypeMovement(\n",
    "            name = \"Add dividend to main cash balance\",\n",
    "            movement_types = \"CashAccrual\",\n",
    "            direction = 1,\n",
    "            side = \"Side2\",\n",
    "        ),\n",
    "        # Create a negative movement that uses the custom side to report the tax amount due as a separate cash balance\n",
    "        lm.TransactionTypeMovement(\n",
    "            name = \"Report dividend tax as a separate cash holding\",\n",
    "            movement_types = \"CashReceivable\",\n",
    "            direction = -1,\n",
    "            # Capture the amount of tax due from the tax rule set's output property\n",
    "            side = f\"{module_scope}{module_code}Side\",\n",
    "            # Map the result of the movement to the portfolio's SHK, to report it separately\n",
    "            mappings = [\n",
    "                lm.TransactionPropertyMappingRequest(\n",
    "                    property_key = f\"{sub_holding_key}\",\n",
    "                    set_to = \"DividendTax\",\n",
    "                )\n",
    "            ],\n",
    "        ),\n",
    "        # Create a movement that handles Carry activity properly\n",
    "        lm.TransactionTypeMovement(\n",
    "            name = \"Report the dividend as a flow out of the investment\",\n",
    "            movement_types = \"Carry\",\n",
    "            direction = 1,\n",
    "            side = \"Side1\",\n",
    "        )\n",
    "    ]\n",
    ")\n",
    "\n",
    "# Create custom transaction type in LUSID    \n",
    "try:\n",
    "    transaction_type_response = transaction_config_api.set_transaction_type(\n",
    "        source = \"default\",\n",
    "        # Specify the primary alias name (in this case, the name of the only alias in the transaction type)\n",
    "        type = f\"{module_scope}{module_code}TransactionType\",\n",
    "        transaction_type_request = transaction_type_request\n",
    "    )\n",
    "    tt_df = lusid_response_to_data_frame(transaction_type_response)\n",
    "    # Drop some noisy indices\n",
    "    display(tt_df[~(tt_df.index.str.startswith('links'))])\n",
    "except lu.ApiException as e:\n",
    "    if json.loads(e.body)[\"name\"] == \"TransactionTypeDuplication\":\n",
    "        logging.info(f\"Transaction type already exists.\")"
   ]
  },
  {
   "cell_type": "markdown",
   "id": "179b07ef",
   "metadata": {},
   "source": [
    "## 5. Load transactions representing cash dividends\n",
    "\n",
    "We'll load two transactions on 20 September, one representing a cash dividend for BP and the other a cash dividend for Microsoft. Both trades settle two days later.\n",
    "\n",
    "Since a cash dividend represents a flow (of value) out of a security, each transaction is recorded 'in' the equity instrument rather than the currency itself. The `units` of the transaction is the number of shares held and the `total consideration.amount` is the number of shares multipled by the dividend.\n",
    "\n",
    "In our example, we hold 1000 units of BP and Microsoft, and they both pay a 50 pence/cent cash dividend, resulting in 500 units of currency as the gross dividend amount.\n",
    "\n",
    "Note the transactions are set to use the custom transaction type."
   ]
  },
  {
   "cell_type": "code",
   "execution_count": null,
   "id": "bd5b93be",
   "metadata": {},
   "outputs": [],
   "source": [
    "# Convenience function for upserting transactions to a portfolio\n",
    "def load_transaction(txnid, tttype, instrid, quantity, priceorrate, ccy, date, ttpr):\n",
    "    \n",
    "    if instrid[0:4] == \"CCY_\":\n",
    "        identifier = {\"Instrument/default/LusidInstrumentId\": instrid}\n",
    "    else:\n",
    "        identifier = {\"Instrument/default/Figi\": instrid}\n",
    "    \n",
    "    create_txn_request = {\n",
    "        instrid: lm.TransactionRequest(\n",
    "            transaction_id=txnid,\n",
    "            type=tttype,\n",
    "            instrument_identifiers = identifier,\n",
    "            transaction_date=to_date(date).isoformat(),\n",
    "            settlement_date=(to_date(date) + timedelta(days = 2)).isoformat(),\n",
    "            units=quantity,\n",
    "            transaction_price = lm.TransactionPrice(\n",
    "                price=priceorrate,\n",
    "                type=\"Price\"\n",
    "            ),\n",
    "            total_consideration = lm.CurrencyAndAmount(\n",
    "                amount = quantity * priceorrate,\n",
    "                currency = ccy,\n",
    "            ),\n",
    "            properties={\n",
    "                \"Transaction/default/TradeToPortfolioRate\": lm.PerpetualProperty(\n",
    "                    key = \"Transaction/default/TradeToPortfolioRate\",\n",
    "                    value = lm.PropertyValue(\n",
    "                        metric_value = lm.MetricValue(\n",
    "                            value = ttpr,\n",
    "                        )\n",
    "                    )\n",
    "                )\n",
    "            }\n",
    "        )\n",
    "    }\n",
    "    \n",
    "    #Upsert to LUSID\n",
    "    create_txn_response = transaction_portfolios_api.batch_upsert_transactions(\n",
    "        scope = f\"{module_scope}\",\n",
    "        code = module_code,\n",
    "        success_mode=\"Partial\",\n",
    "        request_body = create_txn_request\n",
    "    )\n",
    "    \n",
    "  \n",
    "    # Transform upsert response to a dataframe\n",
    "    create_txn_response_df = lusid_response_to_data_frame(list(create_txn_response.values.values()))\n",
    "    display(create_txn_response_df)"
   ]
  },
  {
   "cell_type": "code",
   "execution_count": null,
   "id": "7af9b06b",
   "metadata": {},
   "outputs": [],
   "source": [
    "# BP\n",
    "load_transaction(\"ManualTxn01\", f\"{module_scope}{module_code}TransactionType\", \"BBG000C05BD1\", 1000, 0.5, \"GBP\", \"2023-09-20\", 1)\n",
    "# MSFT\n",
    "load_transaction(\"ManualTxn02\", f\"{module_scope}{module_code}TransactionType\", \"BBG000BPH459\", 1000, 0.5, \"USD\", \"2023-09-20\", 0.8)"
   ]
  },
  {
   "cell_type": "markdown",
   "id": "isolated-progress",
   "metadata": {},
   "source": [
    "## 6. Generate a holdings report\n",
    "\n",
    "### 6.1 On the trade date\n",
    "\n",
    "The gross dividend amounts are reported using the (unsettled) holding type of `Accrual`, while the tax amounts due are classified separately using the `DividendTax` SHK and reported using the (unsettled) holding type of `Receivable`."
   ]
  },
  {
   "cell_type": "code",
   "execution_count": null,
   "id": "secure-directory",
   "metadata": {},
   "outputs": [],
   "source": [
    "get_portfolio_holdings(\"2023-09-20\")"
   ]
  },
  {
   "cell_type": "markdown",
   "id": "fa58d11d",
   "metadata": {},
   "source": [
    "### 6.2 On the settlement date\n",
    "\n",
    "The gross dividend payments are added to the main cash balances, but the dividend tax amounts remain classified separately using the SHK."
   ]
  },
  {
   "cell_type": "code",
   "execution_count": null,
   "id": "a3c27360",
   "metadata": {},
   "outputs": [],
   "source": [
    "get_portfolio_holdings(\"2023-09-22\")"
   ]
  },
  {
   "cell_type": "markdown",
   "id": "fc71b7ee",
   "metadata": {},
   "source": [
    "### 6.3 Audit output transactions\n",
    "\n",
    "Here we can use a window covering the trade and settlement dates to see the output transactions that LUSID generated under-the-hood to enrich these two input transactions."
   ]
  },
  {
   "cell_type": "code",
   "execution_count": null,
   "id": "6c7cb3c6",
   "metadata": {
    "scrolled": false
   },
   "outputs": [],
   "source": [
    "get_output_transactions(\"2023-09-20\", \"2023-09-22\", outputtransaction_taxdue_property_key, \"vertical\")"
   ]
  },
  {
   "cell_type": "code",
   "execution_count": null,
   "id": "0a590ae9",
   "metadata": {},
   "outputs": [],
   "source": []
  },
  {
   "cell_type": "code",
   "execution_count": null,
   "id": "322c6c27",
   "metadata": {},
   "outputs": [],
   "source": []
  }
 ],
 "metadata": {
  "kernelspec": {
   "display_name": "Python 3 (ipykernel)",
   "language": "python",
   "name": "python3"
  },
  "language_info": {
   "codemirror_mode": {
    "name": "ipython",
    "version": 3
   },
   "file_extension": ".py",
   "mimetype": "text/x-python",
   "name": "python",
   "nbconvert_exporter": "python",
   "pygments_lexer": "ipython3",
   "version": "3.10.6"
  },
  "vscode": {
   "interpreter": {
    "hash": "9b2ad45377be23472136155f9be1fd1f9127868d50a62bcbda4e8cdcd384c3ac"
   }
  }
 },
 "nbformat": 4,
 "nbformat_minor": 5
}
