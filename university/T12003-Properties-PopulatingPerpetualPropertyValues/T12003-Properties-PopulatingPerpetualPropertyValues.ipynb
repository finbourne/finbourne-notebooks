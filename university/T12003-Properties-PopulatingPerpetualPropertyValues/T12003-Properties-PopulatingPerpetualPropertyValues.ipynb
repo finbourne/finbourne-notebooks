{
 "cells": [
  {
   "cell_type": "markdown",
   "id": "e32e01fe",
   "metadata": {
    "slideshow": {
     "slide_type": "slide"
    }
   },
   "source": [
    "<p style=\"font-family: Montserrat; color: #203443; font-weight: bold; font-size: 125%\">What are we going to cover?</p>"
   ]
  },
  {
   "cell_type": "markdown",
   "id": "7abac222",
   "metadata": {
    "slideshow": {
     "slide_type": "fragment"
    }
   },
   "source": [
    "<ul>\n",
    "    <li style=\"color: #ff5200\"><p style=\"font-family: Montserrat; color: #203443\">How can we populate a Perpetual Property with a value for a given entity e.g. Instrument using the LUSID APIs via the LUSID website?</p></li>\n",
    "</ul>"
   ]
  },
  {
   "cell_type": "markdown",
   "id": "97504bfa",
   "metadata": {
    "slideshow": {
     "slide_type": "fragment"
    }
   },
   "source": [
    "<ul>\n",
    "    <li style=\"color: #ff5200\"><p style=\"font-family: Montserrat; color: #203443\">How can we decorate the value of a Property onto an entity using the LUSID APIs via the LUSID website?</p></li>\n",
    "</ul>"
   ]
  },
  {
   "cell_type": "markdown",
   "id": "8c1e0de2",
   "metadata": {
    "slideshow": {
     "slide_type": "fragment"
    }
   },
   "source": [
    "<ul>\n",
    "    <li style=\"color: #ff5200\"><p style=\"font-family: Montserrat; color: #203443\">How does the value of a Perpetual Property change throughout its life?</p></li>\n",
    "</ul>"
   ]
  },
  {
   "cell_type": "markdown",
   "id": "13d32a2b",
   "metadata": {
    "slideshow": {
     "slide_type": "subslide"
    }
   },
   "source": [
    "<ul>\n",
    "    <li style=\"color: #ff5200\"><p style=\"font-family: Montserrat; color: #203443\">How can we populate a Perpetual Property with a value using the LUSID APIs via the Python SDK?</p></li>\n",
    "</ul>"
   ]
  },
  {
   "cell_type": "markdown",
   "id": "0abfc057",
   "metadata": {
    "slideshow": {
     "slide_type": "fragment"
    }
   },
   "source": [
    "<ul>\n",
    "    <li style=\"color: #ff5200\"><p style=\"font-family: Montserrat; color: #203443\">How can we decorate Properties onto an entity using the LUSID APIs via the Python SDK?</p></li>\n",
    "</ul>"
   ]
  },
  {
   "cell_type": "markdown",
   "id": "16bed48a",
   "metadata": {
    "slideshow": {
     "slide_type": "fragment"
    }
   },
   "source": [
    "<ul>\n",
    "    <li style=\"color: #ff5200\"><p style=\"font-family: Montserrat; color: #203443\">What are all the different shapes that Property Values can take when using the LUSID APIs via the Python SDK?</p></li>\n",
    "</ul>"
   ]
  },
  {
   "cell_type": "markdown",
   "id": "d17b2565",
   "metadata": {
    "slideshow": {
     "slide_type": "slide"
    }
   },
   "source": [
    "<p style=\"font-family: Montserrat; color: #203443; font-weight: bold; font-size: 125%\">Populating Perpetual Property Values</p>"
   ]
  },
  {
   "cell_type": "code",
   "execution_count": 1,
   "id": "91763411",
   "metadata": {
    "slideshow": {
     "slide_type": "subslide"
    }
   },
   "outputs": [],
   "source": [
    "import pprint\n",
    "\n",
    "import lusid\n",
    "from lusidjam import RefreshingToken\n",
    "\n",
    "api_factory = lusid.utilities.ApiClientFactory(token=RefreshingToken())\n",
    "instruments_api = api_factory.build(lusid.api.InstrumentsApi)"
   ]
  },
  {
   "cell_type": "code",
   "execution_count": 2,
   "id": "6d67cb19",
   "metadata": {
    "slideshow": {
     "slide_type": "skip"
    }
   },
   "outputs": [
    {
     "data": {
      "text/plain": [
       "{'failed': {},\n",
       " 'href': None,\n",
       " 'links': [{'description': None,\n",
       "            'href': 'https://demo.lusid.com/api/api/schemas/entities/UpsertInstrumentsResponse',\n",
       "            'method': 'GET',\n",
       "            'relation': 'EntitySchema'},\n",
       "           {'description': 'A link to the LUSID Insights website showing all '\n",
       "                           'logs related to this request',\n",
       "            'href': 'http://demo.lusid.com/app/insights/logs/0HMP9I8AJ63BP:00000003',\n",
       "            'method': 'GET',\n",
       "            'relation': 'RequestLogs'}],\n",
       " 'metadata': {'actions': [{'description': 'The request identifiers of Unchanged Instruments',\n",
       " 'identifier_type': 'RequestId',\n",
       " 'identifiers': ['instr_1'],\n",
       " 'type': 'UnchangedInstruments'}]},\n",
       " 'values': {'instr_1': {'asset_class': 'Unknown',\n",
       "                        'dom_ccy': 'ZZZ',\n",
       "                        'href': 'https://demo.lusid.com/api/api/instruments/LusidInstrumentId/LUID_00003SOT?scope=FinbourneUniversity',\n",
       "                        'identifiers': {'Figi': 'BBG000BPH459',\n",
       "                                        'LusidInstrumentId': 'LUID_00003SOT'},\n",
       "                        'instrument_definition': None,\n",
       "                        'links': None,\n",
       "                        'lookthrough_portfolio': None,\n",
       "                        'lusid_instrument_id': 'LUID_00003SOT',\n",
       "                        'name': 'MICROSOFT CORP',\n",
       "                        'properties': [],\n",
       "                        'relationships': [],\n",
       "                        'scope': 'FinbourneUniversity',\n",
       "                        'state': 'Active',\n",
       "                        'version': {'as_at_created': datetime.datetime(2023, 3, 21, 3, 9, 35, 250877, tzinfo=tzlocal()),\n",
       "                                    'as_at_date': datetime.datetime(2023, 3, 21, 3, 9, 35, 250877, tzinfo=tzlocal()),\n",
       "                                    'as_at_modified': datetime.datetime(2023, 3, 21, 3, 17, 25, 939700, tzinfo=tzlocal()),\n",
       "                                    'as_at_version_number': 3,\n",
       "                                    'effective_from': datetime.datetime(1, 1, 1, 0, 0, tzinfo=tzlocal()),\n",
       "                                    'user_id_created': '00u89xerfkS08fj6e2p7',\n",
       "                                    'user_id_modified': '00u89xerfkS08fj6e2p7'}}}}"
      ]
     },
     "execution_count": 2,
     "metadata": {},
     "output_type": "execute_result"
    }
   ],
   "source": [
    "instruments_api.upsert_instruments(\n",
    "    scope=\"FinbourneUniversity\",\n",
    "    request_body={\n",
    "        \"instr_1\": lusid.InstrumentDefinition(\n",
    "            name=\"MICROSOFT CORP\",\n",
    "            identifiers={\n",
    "                \"Figi\": lusid.InstrumentIdValue(\n",
    "                    value=\"BBG000BPH459\"\n",
    "                )\n",
    "            }\n",
    "        )\n",
    "    }\n",
    ")"
   ]
  },
  {
   "cell_type": "code",
   "execution_count": 3,
   "id": "b4e94d74",
   "metadata": {
    "slideshow": {
     "slide_type": "skip"
    }
   },
   "outputs": [],
   "source": [
    "property_definitions_api = api_factory.build(lusid.api.PropertyDefinitionsApi)\n",
    "\n",
    "try:\n",
    "    property_definitions_api.delete_property_definition(\n",
    "        domain=\"Instrument\",\n",
    "        scope=\"FinbourneUniversity\",\n",
    "        code=\"Issuer\")\n",
    "except:\n",
    "    pass\n",
    "\n",
    "issuer_prop_definition = property_definitions_api.create_property_definition(\n",
    "    create_property_definition_request=lusid.CreatePropertyDefinitionRequest(\n",
    "        domain=\"Instrument\",\n",
    "        scope=\"FinbourneUniversity\",\n",
    "        code=\"Issuer\",\n",
    "        display_name=\"Issuer\",\n",
    "        property_description=\"The issuer of the security\",\n",
    "        data_type_id=lusid.ResourceId(\n",
    "            scope=\"system\",\n",
    "            code=\"string\"\n",
    "        ),\n",
    "        life_time=\"Perpetual\",\n",
    "        constraint_style=\"Property\"\n",
    "    )\n",
    ")"
   ]
  },
  {
   "cell_type": "code",
   "execution_count": 4,
   "id": "b7a2faf5",
   "metadata": {
    "slideshow": {
     "slide_type": "subslide"
    }
   },
   "outputs": [
    {
     "name": "stdout",
     "output_type": "stream",
     "text": [
      "{'as_at_date': datetime.datetime(2023, 3, 21, 3, 21, 5, 212073, tzinfo=tzlocal()),\n",
      " 'links': [{'description': 'A link to the LUSID Insights website showing all '\n",
      "                           'logs related to this request',\n",
      "            'href': 'http://demo.lusid.com/app/insights/logs/0HMP9I8AJ63BP:00000004',\n",
      "            'method': 'GET',\n",
      "            'relation': 'RequestLogs'}]}\n"
     ]
    }
   ],
   "source": [
    "result = instruments_api.upsert_instruments_properties(\n",
    "    scope=\"FinbourneUniversity\",\n",
    "    upsert_instrument_property_request=[\n",
    "        lusid.UpsertInstrumentPropertyRequest(\n",
    "            identifier_type=\"Figi\",\n",
    "            identifier=\"BBG000BPH459\",\n",
    "            properties=[\n",
    "                lusid.ModelProperty(\n",
    "                    key=\"Instrument/FinbourneUniversity/Issuer\",\n",
    "                    value=lusid.PropertyValue(\n",
    "                        label_value=\"Microsoft Corporation LTD\"\n",
    "                    )\n",
    "                )\n",
    "            ]\n",
    "        )\n",
    "    ]\n",
    ")\n",
    "\n",
    "print(result)"
   ]
  },
  {
   "cell_type": "markdown",
   "id": "c454da08",
   "metadata": {
    "slideshow": {
     "slide_type": "slide"
    }
   },
   "source": [
    "<p style=\"font-family: Montserrat; color: #203443; font-weight: bold; font-size: 125%\">Decorating Property Values</p>"
   ]
  },
  {
   "cell_type": "code",
   "execution_count": 5,
   "id": "e6ba5dcc",
   "metadata": {
    "slideshow": {
     "slide_type": "slide"
    }
   },
   "outputs": [
    {
     "name": "stdout",
     "output_type": "stream",
     "text": [
      "{'asset_class': 'Unknown',\n",
      " 'dom_ccy': 'ZZZ',\n",
      " 'href': 'https://demo.lusid.com/api/api/instruments/LusidInstrumentId/LUID_00003SOT?scope=FinbourneUniversity',\n",
      " 'identifiers': {'Figi': 'BBG000BPH459', 'LusidInstrumentId': 'LUID_00003SOT'},\n",
      " 'instrument_definition': None,\n",
      " 'links': [{'description': None,\n",
      "            'href': 'https://demo.lusid.com/api/api/schemas/entities/Instrument',\n",
      "            'method': 'GET',\n",
      "            'relation': 'EntitySchema'},\n",
      "           {'description': 'A link to the LUSID Insights website showing all '\n",
      "                           'logs related to this request',\n",
      "            'href': 'http://demo.lusid.com/app/insights/logs/0HMP9HE8KJ0PC:0000000A',\n",
      "            'method': 'GET',\n",
      "            'relation': 'RequestLogs'}],\n",
      " 'lookthrough_portfolio': None,\n",
      " 'lusid_instrument_id': 'LUID_00003SOT',\n",
      " 'name': 'MICROSOFT CORP',\n",
      " 'properties': [],\n",
      " 'relationships': [],\n",
      " 'scope': 'FinbourneUniversity',\n",
      " 'state': 'Active',\n",
      " 'version': {'as_at_created': datetime.datetime(2023, 3, 21, 3, 9, 35, 250877, tzinfo=tzlocal()),\n",
      "             'as_at_date': datetime.datetime(2023, 3, 21, 3, 21, 5, 212073, tzinfo=tzlocal()),\n",
      "             'as_at_modified': datetime.datetime(2023, 3, 21, 3, 21, 5, 212073, tzinfo=tzlocal()),\n",
      "             'as_at_version_number': 4,\n",
      "             'effective_from': datetime.datetime(1, 1, 1, 0, 0, tzinfo=tzlocal()),\n",
      "             'user_id_created': '00u89xerfkS08fj6e2p7',\n",
      "             'user_id_modified': '00u89xerfkS08fj6e2p7'}}\n"
     ]
    }
   ],
   "source": [
    "instrument = instruments_api.get_instrument(\n",
    "    scope=\"FinbourneUniversity\",\n",
    "    identifier_type=\"Figi\",\n",
    "    identifier=\"BBG000BPH459\"\n",
    ")\n",
    "\n",
    "print(instrument)\n"
   ]
  },
  {
   "cell_type": "code",
   "execution_count": 6,
   "id": "87e76642",
   "metadata": {
    "slideshow": {
     "slide_type": "slide"
    }
   },
   "outputs": [
    {
     "name": "stdout",
     "output_type": "stream",
     "text": [
      "{'asset_class': 'Unknown',\n",
      " 'dom_ccy': 'ZZZ',\n",
      " 'href': 'https://demo.lusid.com/api/api/instruments/LusidInstrumentId/LUID_00003SOT?scope=FinbourneUniversity',\n",
      " 'identifiers': {'Figi': 'BBG000BPH459', 'LusidInstrumentId': 'LUID_00003SOT'},\n",
      " 'instrument_definition': None,\n",
      " 'links': [{'description': None,\n",
      "            'href': 'https://demo.lusid.com/api/api/schemas/entities/Instrument',\n",
      "            'method': 'GET',\n",
      "            'relation': 'EntitySchema'},\n",
      "           {'description': None,\n",
      "            'href': 'https://demo.lusid.com/api/api/schemas/properties?propertyKeys=Instrument%2FFinbourneUniversity%2FIssuer',\n",
      "            'method': 'GET',\n",
      "            'relation': 'PropertySchema'},\n",
      "           {'description': 'A link to the LUSID Insights website showing all '\n",
      "                           'logs related to this request',\n",
      "            'href': 'http://demo.lusid.com/app/insights/logs/0HMP9I8AJ63BP:00000005',\n",
      "            'method': 'GET',\n",
      "            'relation': 'RequestLogs'}],\n",
      " 'lookthrough_portfolio': None,\n",
      " 'lusid_instrument_id': 'LUID_00003SOT',\n",
      " 'name': 'MICROSOFT CORP',\n",
      " 'properties': [{'effective_from': datetime.datetime(1, 1, 1, 0, 0, tzinfo=tzlocal()),\n",
      "                 'effective_until': datetime.datetime(9999, 12, 31, 23, 59, 59, 999999, tzinfo=tzlocal()),\n",
      "                 'key': 'Instrument/FinbourneUniversity/Issuer',\n",
      "                 'value': {'label_value': 'Microsoft Corporation LTD',\n",
      "                           'label_value_set': None,\n",
      "                           'metric_value': None}}],\n",
      " 'relationships': [],\n",
      " 'scope': 'FinbourneUniversity',\n",
      " 'state': 'Active',\n",
      " 'version': {'as_at_created': datetime.datetime(2023, 3, 21, 3, 9, 35, 250877, tzinfo=tzlocal()),\n",
      "             'as_at_date': datetime.datetime(2023, 3, 21, 3, 21, 5, 212073, tzinfo=tzlocal()),\n",
      "             'as_at_modified': datetime.datetime(2023, 3, 21, 3, 21, 5, 212073, tzinfo=tzlocal()),\n",
      "             'as_at_version_number': 4,\n",
      "             'effective_from': datetime.datetime(1, 1, 1, 0, 0, tzinfo=tzlocal()),\n",
      "             'user_id_created': '00u89xerfkS08fj6e2p7',\n",
      "             'user_id_modified': '00u89xerfkS08fj6e2p7'}}\n"
     ]
    }
   ],
   "source": [
    "instrument = instruments_api.get_instrument(\n",
    "    scope=\"FinbourneUniversity\",\n",
    "    identifier_type=\"Figi\",\n",
    "    identifier=\"BBG000BPH459\",\n",
    "    property_keys=[\n",
    "        \"Instrument/FinbourneUniversity/Issuer\"\n",
    "    ],\n",
    ")\n",
    "\n",
    "print(instrument)"
   ]
  },
  {
   "cell_type": "code",
   "execution_count": 7,
   "id": "606c2e18",
   "metadata": {
    "slideshow": {
     "slide_type": "slide"
    }
   },
   "outputs": [
    {
     "data": {
      "text/plain": [
       "{'asset_class': 'Unknown',\n",
       " 'dom_ccy': 'ZZZ',\n",
       " 'href': 'https://demo.lusid.com/api/api/instruments/LusidInstrumentId/LUID_00003SOT?scope=FinbourneUniversity',\n",
       " 'identifiers': {'Figi': 'BBG000BPH459', 'LusidInstrumentId': 'LUID_00003SOT'},\n",
       " 'instrument_definition': None,\n",
       " 'links': [{'description': None,\n",
       "            'href': 'https://demo.lusid.com/api/api/schemas/entities/Instrument',\n",
       "            'method': 'GET',\n",
       "            'relation': 'EntitySchema'},\n",
       "           {'description': None,\n",
       "            'href': 'https://demo.lusid.com/api/api/schemas/properties?propertyKeys=Instrument%2FFinbourneUniversity%2FIssuer',\n",
       "            'method': 'GET',\n",
       "            'relation': 'PropertySchema'},\n",
       "           {'description': 'A link to the LUSID Insights website showing all '\n",
       "                           'logs related to this request',\n",
       "            'href': 'http://demo.lusid.com/app/insights/logs/0HMP9HEH2FP2O:00000004',\n",
       "            'method': 'GET',\n",
       "            'relation': 'RequestLogs'}],\n",
       " 'lookthrough_portfolio': None,\n",
       " 'lusid_instrument_id': 'LUID_00003SOT',\n",
       " 'name': 'MICROSOFT CORP',\n",
       " 'properties': [{'effective_from': datetime.datetime(1, 1, 1, 0, 0, tzinfo=tzlocal()),\n",
       "                 'effective_until': datetime.datetime(9999, 12, 31, 23, 59, 59, 999999, tzinfo=tzlocal()),\n",
       "                 'key': 'Instrument/FinbourneUniversity/Issuer',\n",
       "                 'value': {'label_value': 'Microsoft Corporation LTD',\n",
       "                           'label_value_set': None,\n",
       "                           'metric_value': None}}],\n",
       " 'relationships': [],\n",
       " 'scope': 'FinbourneUniversity',\n",
       " 'state': 'Active',\n",
       " 'version': {'as_at_created': datetime.datetime(2023, 3, 21, 3, 9, 35, 250877, tzinfo=tzlocal()),\n",
       "             'as_at_date': datetime.datetime(2023, 3, 21, 3, 21, 5, 212073, tzinfo=tzlocal()),\n",
       "             'as_at_modified': datetime.datetime(2023, 3, 21, 3, 21, 5, 212073, tzinfo=tzlocal()),\n",
       "             'as_at_version_number': 4,\n",
       "             'effective_from': datetime.datetime(1, 1, 1, 0, 0, tzinfo=tzlocal()),\n",
       "             'user_id_created': '00u89xerfkS08fj6e2p7',\n",
       "             'user_id_modified': '00u89xerfkS08fj6e2p7'}}"
      ]
     },
     "execution_count": 7,
     "metadata": {},
     "output_type": "execute_result"
    }
   ],
   "source": [
    "instruments_api.get_instrument(\n",
    "    scope=\"FinbourneUniversity\",\n",
    "    identifier_type=\"Figi\",\n",
    "    identifier=\"BBG000BPH459\",\n",
    "    property_keys=[\n",
    "        \"Instrument/FinbourneUniversity/Issuer\"\n",
    "    ]\n",
    ")"
   ]
  },
  {
   "cell_type": "code",
   "execution_count": 8,
   "id": "2600ba6c",
   "metadata": {
    "slideshow": {
     "slide_type": "slide"
    }
   },
   "outputs": [
    {
     "name": "stdout",
     "output_type": "stream",
     "text": [
      "(404)\n",
      "Reason: Not Found\n",
      "HTTP response headers: HTTPHeaderDict({'Date': 'Tue, 21 Mar 2023 03:21:05 GMT', 'Content-Type': 'application/problem+json', 'Transfer-Encoding': 'chunked', 'Connection': 'keep-alive', 'Vary': 'Accept-Encoding', 'X-Rate-Limit-Limit': '1m', 'X-Rate-Limit-Remaining': '4984', 'X-Rate-Limit-Reset': '2023-03-21T03:21:12.2483415Z', 'lusid-meta-success': 'False', 'lusid-meta-requestId': '0HMP9HE23RIO6:0000000B', 'lusid-meta-correlationId': '0HMP9HE23RIO6:0000000B', 'lusid-meta-duration': '126', 'Strict-Transport-Security': 'max-age=15724800; includeSubDomains', 'Server': 'FINBOURNE', 'Content-Security-Policy': \"default-src 'self' https://*.lusid.com https://*.finbourne.com; script-src 'unsafe-inline' 'self' https://*.lusid.com https://*.finbourne.com https://editor.swagger.io; font-src 'self' fonts.googleapis.com; img-src data: 'self' https://*.lusid.com https://*.finbourne.com https://validator.swagger.io; style-src 'unsafe-inline' 'self' https://*.lusid.com https://*.finbourne.com; report-uri https://lusid.report-uri.com/r/d/csp/enforce\", 'X-Frame-Options': 'SAMEORIGIN', 'Permissions-Policy': 'accelerometer=(), ambient-light-sensor=(), autoplay=(self), battery=(), camera=(), cross-origin-isolated=(self), display-capture=(), document-domain=*, encrypted-media=(), execution-while-not-rendered=(), execution-while-out-of-viewport=(), fullscreen=(self), geolocation=(self), gyroscope=(), keyboard-map=(), magnetometer=(), microphone=(), midi=(), navigation-override=(), payment=(), picture-in-picture=(), publickey-credentials-get=(), screen-wake-lock=(), sync-xhr=(), usb=(), web-share=(), xr-spatial-tracking=()', 'Referrer-Policy': 'strict-origin-when-cross-origin', 'X-XSS-Protection': '1; mode=block', 'X-Content-Type-Options': 'nosniff', 'Expect-CT': \"max-age=3600, enforce, report-uri='https://lusid.report-uri.com/r/d/ct/enforce'\", 'Access-Control-Max-Age': '600', 'Content-Encoding': 'gzip'})\n",
      "HTTP response body: {\"name\":\"InstrumentByCodeNotFound\",\"errorDetails\":[],\"code\":214,\"type\":\"https://docs.lusid.com/#section/Error-Codes/214\",\"title\":\"There is no instrument with an identifier of type Figi called 'BBG000BPH459'.\",\"status\":404,\"detail\":\"There is no instrument with an identifier of type Figi called 'BBG000BPH459'. At the effective time of '2023-03-21T03:21:05.7546140+00:00' and as at '2023-03-20T04:05:00.0000000+00:00', no instruments existed with that name.\",\"instance\":\"https://demo.lusid.com/app/insights/logs/0HMP9HE23RIO6:0000000B\",\"extensions\":{}}\n",
      "\n"
     ]
    }
   ],
   "source": [
    "try:\n",
    "    instrument = instruments_api.get_instrument(\n",
    "        scope=\"FinbourneUniversity\",\n",
    "        identifier_type=\"Figi\",\n",
    "        identifier=\"BBG000BPH459\",\n",
    "        property_keys=[\n",
    "            \"Instrument/FinbourneUniversity/Issuer\"\n",
    "        ],\n",
    "        as_at=\"2023-03-20T04:05:00Z\"\n",
    "    )\n",
    "except lusid.ApiException as e:\n",
    "    print(e)"
   ]
  },
  {
   "cell_type": "code",
   "execution_count": 9,
   "id": "01d7c161",
   "metadata": {
    "slideshow": {
     "slide_type": "slide"
    }
   },
   "outputs": [
    {
     "name": "stdout",
     "output_type": "stream",
     "text": [
      "[{'effective_from': datetime.datetime(1, 1, 1, 0, 0, tzinfo=tzlocal()),\n",
      " 'effective_until': datetime.datetime(9999, 12, 31, 23, 59, 59, 999999, tzinfo=tzlocal()),\n",
      " 'key': 'Instrument/FinbourneUniversity/Issuer',\n",
      " 'value': {'label_value': 'Microsoft Corporation LTD',\n",
      "           'label_value_set': None,\n",
      "           'metric_value': None}}]\n"
     ]
    }
   ],
   "source": [
    "instrument = instruments_api.get_instrument(\n",
    "    scope=\"FinbourneUniversity\",\n",
    "    identifier_type=\"Figi\",\n",
    "    identifier=\"BBG000BPH459\",\n",
    "    property_keys=[\n",
    "        \"Instrument/FinbourneUniversity/Issuer\"\n",
    "    ],\n",
    "    as_at=result.as_at_date,\n",
    "    effective_at=\"1912-03-20T04:05:00Z\"\n",
    ")\n",
    "\n",
    "print(instrument.properties)"
   ]
  },
  {
   "cell_type": "markdown",
   "id": "38cf4f6d",
   "metadata": {
    "slideshow": {
     "slide_type": "slide"
    }
   },
   "source": [
    "<p style=\"font-family: Montserrat; color: #203443; font-weight: bold; font-size: 125%\">Populating Different Types of Properties</p>"
   ]
  },
  {
   "cell_type": "code",
   "execution_count": 10,
   "id": "4e658e31",
   "metadata": {
    "slideshow": {
     "slide_type": "skip"
    }
   },
   "outputs": [],
   "source": [
    "try:\n",
    "    property_definitions_api.delete_property_definition(\n",
    "        domain=\"Instrument\",\n",
    "        scope=\"FinbourneUniversity\",\n",
    "        code=\"IPOPrice\")\n",
    "except:\n",
    "    pass\n",
    "\n",
    "issuer_prop_definition = property_definitions_api.create_property_definition(\n",
    "    create_property_definition_request=lusid.CreatePropertyDefinitionRequest(\n",
    "        domain=\"Instrument\",\n",
    "        scope=\"FinbourneUniversity\",\n",
    "        code=\"IPOPrice\",\n",
    "        display_name=\"Initial Public Offering Price\",\n",
    "        property_description=\"The price of the initial public offering which led to the float of this security\",\n",
    "        data_type_id=lusid.ResourceId(\n",
    "            scope=\"system\",\n",
    "            code=\"iso4217CurrencyAndAmount\"\n",
    "        ),\n",
    "        life_time=\"Perpetual\",\n",
    "        constraint_style=\"Property\"\n",
    "    )\n",
    ")"
   ]
  },
  {
   "cell_type": "code",
   "execution_count": 11,
   "id": "5e4197be",
   "metadata": {
    "slideshow": {
     "slide_type": "skip"
    }
   },
   "outputs": [],
   "source": [
    "try:\n",
    "    property_definitions_api.delete_property_definition(\n",
    "        domain=\"Instrument\",\n",
    "        scope=\"FinbourneUniversity\",\n",
    "        code=\"EarningReleases\")\n",
    "except:\n",
    "    pass\n",
    "\n",
    "issuer_prop_definition = property_definitions_api.create_property_definition(\n",
    "    create_property_definition_request=lusid.CreatePropertyDefinitionRequest(\n",
    "        domain=\"Instrument\",\n",
    "        scope=\"FinbourneUniversity\",\n",
    "        code=\"EarningReleases\",\n",
    "        display_name=\"Earning Releases\",\n",
    "        property_description=\"Links to relevant earning releases which affect this security\",\n",
    "        data_type_id=lusid.ResourceId(\n",
    "            scope=\"system\",\n",
    "            code=\"string\"\n",
    "        ),\n",
    "        life_time=\"Perpetual\",\n",
    "        constraint_style=\"Collection\"\n",
    "    )\n",
    ")"
   ]
  },
  {
   "cell_type": "code",
   "execution_count": 12,
   "id": "8cea9fc5",
   "metadata": {
    "slideshow": {
     "slide_type": "slide"
    }
   },
   "outputs": [
    {
     "name": "stdout",
     "output_type": "stream",
     "text": [
      "{'as_at_date': datetime.datetime(2023, 3, 21, 3, 21, 7, 164054, tzinfo=tzlocal()),\n",
      " 'links': [{'description': 'A link to the LUSID Insights website showing all '\n",
      "                           'logs related to this request',\n",
      "            'href': 'http://demo.lusid.com/app/insights/logs/0HMP9HE25L7OB:00000004',\n",
      "            'method': 'GET',\n",
      "            'relation': 'RequestLogs'}]}\n"
     ]
    }
   ],
   "source": [
    "result = instruments_api.upsert_instruments_properties(\n",
    "    scope=\"FinbourneUniversity\",\n",
    "    upsert_instrument_property_request=[\n",
    "        lusid.UpsertInstrumentPropertyRequest(\n",
    "            identifier_type=\"Figi\",\n",
    "            identifier=\"BBG000BPH459\",\n",
    "            properties=[\n",
    "                lusid.ModelProperty(\n",
    "                    key=\"Instrument/FinbourneUniversity/Issuer\",\n",
    "                    value=lusid.PropertyValue(\n",
    "                        label_value=\"Microsoft Corporation LTD\"\n",
    "                    )\n",
    "                ),\n",
    "                lusid.ModelProperty(\n",
    "                    key=\"Instrument/FinbourneUniversity/IPOPrice\",\n",
    "                    value=lusid.PropertyValue(\n",
    "                        metric_value=lusid.MetricValue(\n",
    "                            value=21.00,\n",
    "                            unit=\"USD\"\n",
    "                        )\n",
    "                    )\n",
    "                ),\n",
    "                lusid.ModelProperty(\n",
    "                    key=\"Instrument/FinbourneUniversity/EarningReleases\",\n",
    "                    value=lusid.PropertyValue(\n",
    "                        label_value_set=lusid.LabelValueSet(\n",
    "                            values=[\n",
    "                            \"https://www.microsoft.com/en-us/investor/earnings/fy-2023-q2/press-release-webcast\",\n",
    "                            \"https://www.microsoft.com/en-us/investor/earnings/fy-2023-q1/press-release-webcast\"\n",
    "                        ])\n",
    "                    )\n",
    "                )\n",
    "            ]\n",
    "        )\n",
    "    ]\n",
    ")\n",
    "\n",
    "print(result)"
   ]
  },
  {
   "cell_type": "code",
   "execution_count": 13,
   "id": "ac57b957",
   "metadata": {
    "slideshow": {
     "slide_type": "subslide"
    }
   },
   "outputs": [
    {
     "name": "stdout",
     "output_type": "stream",
     "text": [
      "[{'effective_from': datetime.datetime(1, 1, 1, 0, 0, tzinfo=tzlocal()),\n",
      " 'effective_until': datetime.datetime(9999, 12, 31, 23, 59, 59, 999999, tzinfo=tzlocal()),\n",
      " 'key': 'Instrument/FinbourneUniversity/Issuer',\n",
      " 'value': {'label_value': 'Microsoft Corporation LTD',\n",
      "           'label_value_set': None,\n",
      "           'metric_value': None}}, {'effective_from': datetime.datetime(1, 1, 1, 0, 0, tzinfo=tzlocal()),\n",
      " 'effective_until': datetime.datetime(9999, 12, 31, 23, 59, 59, 999999, tzinfo=tzlocal()),\n",
      " 'key': 'Instrument/FinbourneUniversity/IPOPrice',\n",
      " 'value': {'label_value': None,\n",
      "           'label_value_set': None,\n",
      "           'metric_value': {'unit': 'USD', 'value': 21.0}}}, {'effective_from': datetime.datetime(1, 1, 1, 0, 0, tzinfo=tzlocal()),\n",
      " 'effective_until': datetime.datetime(9999, 12, 31, 23, 59, 59, 999999, tzinfo=tzlocal()),\n",
      " 'key': 'Instrument/FinbourneUniversity/EarningReleases',\n",
      " 'value': {'label_value': None,\n",
      "           'label_value_set': {'values': ['https://www.microsoft.com/en-us/investor/earnings/fy-2023-q1/press-release-webcast',\n",
      "                                          'https://www.microsoft.com/en-us/investor/earnings/fy-2023-q2/press-release-webcast']},\n",
      "           'metric_value': None}}]\n"
     ]
    }
   ],
   "source": [
    "instrument = instruments_api.get_instrument(\n",
    "    scope=\"FinbourneUniversity\",\n",
    "    identifier_type=\"Figi\",\n",
    "    identifier=\"BBG000BPH459\",\n",
    "    property_keys=[\n",
    "        \"Instrument/FinbourneUniversity/Issuer\",\n",
    "        \"Instrument/FinbourneUniversity/IPOPrice\",\n",
    "        \"Instrument/FinbourneUniversity/EarningReleases\"\n",
    "    ]\n",
    ")\n",
    "\n",
    "print(instrument.properties)"
   ]
  },
  {
   "cell_type": "code",
   "execution_count": 14,
   "id": "5a3982c9",
   "metadata": {
    "slideshow": {
     "slide_type": "skip"
    }
   },
   "outputs": [
    {
     "data": {
      "text/plain": [
       "{'as_at': datetime.datetime(2023, 3, 21, 3, 21, 7, 966141, tzinfo=tzlocal()),\n",
       " 'effective_from': None,\n",
       " 'href': None,\n",
       " 'links': [{'description': 'A link to the LUSID Insights website showing all '\n",
       "                           'logs related to this request',\n",
       "            'href': 'http://demo.lusid.com/app/insights/logs/0HMP9HEH2FP2O:00000005',\n",
       "            'method': 'GET',\n",
       "            'relation': 'RequestLogs'}]}"
      ]
     },
     "execution_count": 14,
     "metadata": {},
     "output_type": "execute_result"
    }
   ],
   "source": [
    "property_definitions_api.delete_property_definition(\n",
    "    domain=\"Instrument\",\n",
    "    scope=\"FinbourneUniversity\",\n",
    "    code=\"Issuer\")\n",
    "\n",
    "property_definitions_api.delete_property_definition(\n",
    "    domain=\"Instrument\",\n",
    "    scope=\"FinbourneUniversity\",\n",
    "    code=\"IPOPrice\")\n",
    "\n",
    "property_definitions_api.delete_property_definition(\n",
    "    domain=\"Instrument\",\n",
    "    scope=\"FinbourneUniversity\",\n",
    "    code=\"EarningReleases\")"
   ]
  },
  {
   "cell_type": "markdown",
   "id": "3a30b680",
   "metadata": {
    "slideshow": {
     "slide_type": "slide"
    }
   },
   "source": [
    "<p style=\"font-family: Montserrat; color: #203443; font-weight: bold; font-size: 125%\">What have we covered?</p>"
   ]
  },
  {
   "cell_type": "markdown",
   "id": "627a9d3c",
   "metadata": {
    "slideshow": {
     "slide_type": "subslide"
    }
   },
   "source": [
    "<ul>\n",
    "    <li style=\"color: #ff5200\"><p style=\"font-family: Montserrat; color: #203443\">We populated the Microsoft Equity Instrument with a value for the Perpetual \"Issuer\" Property using the LUSID APIs via the LUSID website.</p></li>\n",
    "</ul>"
   ]
  },
  {
   "cell_type": "markdown",
   "id": "e1b333d9",
   "metadata": {
    "slideshow": {
     "slide_type": "fragment"
    }
   },
   "source": [
    "<ul>\n",
    "    <li style=\"color: #ff5200\"><p style=\"font-family: Montserrat; color: #203443\">We updated the view in the LUSID website to decorate our \"Issuer\" Property onto the Instrument.</p></li>\n",
    "</ul>"
   ]
  },
  {
   "cell_type": "markdown",
   "id": "4fb809e0",
   "metadata": {
    "slideshow": {
     "slide_type": "subslide"
    }
   },
   "source": [
    "<ul>\n",
    "    <li style=\"color: #ff5200\"><p style=\"font-family: Montserrat; color: #203443\">We discussed that although the pattern for working with Properties is broadly the same across entities, the APIs are specific to each entity type i.e. Instruments, Portfolios, Legal Entities etc. and may have some differences in behaviour.</p></li>\n",
    "</ul>"
   ]
  },
  {
   "cell_type": "markdown",
   "id": "8d5db342",
   "metadata": {
    "slideshow": {
     "slide_type": "fragment"
    }
   },
   "source": [
    "<ul>\n",
    "    <li style=\"color: #ff5200\"><p style=\"font-family: Montserrat; color: #203443\">We updated the value of our Perpetual \"Issuer\" Property using the LUSID Upsert Instruments Properties API via the Python SDK.</p></li>\n",
    "</ul>"
   ]
  },
  {
   "cell_type": "markdown",
   "id": "a97f199b",
   "metadata": {
    "slideshow": {
     "slide_type": "subslide"
    }
   },
   "source": [
    "<ul>\n",
    "    <li style=\"color: #ff5200\"><p style=\"font-family: Montserrat; color: #203443\">We decorated our Property value onto our Instrument using the LUSID Get Instrument API by specifying the Property Key for our Perpetual \"Issuer\" Property.</p></li>\n",
    "</ul>"
   ]
  },
  {
   "cell_type": "markdown",
   "id": "9534a4cd",
   "metadata": {
    "slideshow": {
     "slide_type": "fragment"
    }
   },
   "source": [
    "<ul>\n",
    "    <li style=\"color: #ff5200\"><p style=\"font-family: Montserrat; color: #203443\">We explored how the value of a Perpetual Property changes based on the provided asAt and effectiveAt date times. We saw that it only varies with respect to the asAt date time.</p></li>\n",
    "</ul>"
   ]
  },
  {
   "cell_type": "markdown",
   "id": "e16b834a",
   "metadata": {
    "slideshow": {
     "slide_type": "subslide"
    }
   },
   "source": [
    "<ul>\n",
    "    <li style=\"color: #ff5200\"><p style=\"font-family: Montserrat; color: #203443\">We looked at all the possible shapes of a Property value including a Label Value, Metric Value and Label Value Set. We understood how we can determine which shape a Property value will take based on the Constraint Style and the Type of the Property Definition.</p></li>\n",
    "</ul>"
   ]
  }
 ],
 "metadata": {
  "celltoolbar": "Slideshow",
  "kernelspec": {
   "display_name": "Python 3 (ipykernel)",
   "language": "python",
   "name": "python3"
  },
  "language_info": {
   "codemirror_mode": {
    "name": "ipython",
    "version": 3
   },
   "file_extension": ".py",
   "mimetype": "text/x-python",
   "name": "python",
   "nbconvert_exporter": "python",
   "pygments_lexer": "ipython3",
   "version": "3.9.7"
  },
  "toc": {
   "base_numbering": 1,
   "nav_menu": {},
   "number_sections": false,
   "sideBar": true,
   "skip_h1_title": false,
   "title_cell": "Table of Contents",
   "title_sidebar": "Contents",
   "toc_cell": false,
   "toc_position": {},
   "toc_section_display": true,
   "toc_window_display": false
  },
  "varInspector": {
   "cols": {
    "lenName": 16,
    "lenType": 16,
    "lenVar": 40
   },
   "kernels_config": {
    "python": {
     "delete_cmd_postfix": "",
     "delete_cmd_prefix": "del ",
     "library": "var_list.py",
     "varRefreshCmd": "print(var_dic_list())"
    },
    "r": {
     "delete_cmd_postfix": ") ",
     "delete_cmd_prefix": "rm(",
     "library": "var_list.r",
     "varRefreshCmd": "cat(var_dic_list()) "
    }
   },
   "types_to_exclude": [
    "module",
    "function",
    "builtin_function_or_method",
    "instance",
    "_Feature"
   ],
   "window_display": false
  }
 },
 "nbformat": 4,
 "nbformat_minor": 5
}
